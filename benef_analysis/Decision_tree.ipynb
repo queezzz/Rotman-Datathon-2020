{
 "cells": [
  {
   "cell_type": "code",
   "execution_count": 1,
   "metadata": {},
   "outputs": [],
   "source": [
    "import pandas as pd \n",
    "import numpy as np "
   ]
  },
  {
   "cell_type": "code",
   "execution_count": 2,
   "metadata": {},
   "outputs": [],
   "source": [
    "benef = pd.read_csv('../cleaned_data/benef_final.csv')"
   ]
  },
  {
   "cell_type": "code",
   "execution_count": 135,
   "metadata": {},
   "outputs": [],
   "source": [
    "benef['Age'] = benef['Age']//365"
   ]
  },
  {
   "cell_type": "code",
   "execution_count": 137,
   "metadata": {},
   "outputs": [],
   "source": [
    "X= benef.drop(['Fraud'], axis=1)\n",
    "Y= benef['Fraud']"
   ]
  },
  {
   "cell_type": "markdown",
   "metadata": {},
   "source": [
    "## Feature Selection"
   ]
  },
  {
   "cell_type": "code",
   "execution_count": 41,
   "metadata": {},
   "outputs": [],
   "source": [
    "from boruta import BorutaPy\n",
    "from sklearn.ensemble import RandomForestClassifier\n",
    "\n",
    "rf = RandomForestClassifier(n_jobs = -1, max_depth = 8,\n",
    "                           min_samples_split= 0.3)\n",
    "boruta = BorutaPy(estimator = rf, verbose=2, perc=90,\n",
    "                  n_estimators = 'auto',\n",
    "                  max_iter = 100)"
   ]
  },
  {
   "cell_type": "code",
   "execution_count": 46,
   "metadata": {},
   "outputs": [
    {
     "name": "stdout",
     "output_type": "stream",
     "text": [
      "Iteration: \t1 / 100\n",
      "Confirmed: \t0\n",
      "Tentative: \t20\n",
      "Rejected: \t0\n",
      "Iteration: \t2 / 100\n",
      "Confirmed: \t0\n",
      "Tentative: \t20\n",
      "Rejected: \t0\n",
      "Iteration: \t3 / 100\n",
      "Confirmed: \t0\n",
      "Tentative: \t20\n",
      "Rejected: \t0\n",
      "Iteration: \t4 / 100\n",
      "Confirmed: \t0\n",
      "Tentative: \t20\n",
      "Rejected: \t0\n",
      "Iteration: \t5 / 100\n",
      "Confirmed: \t0\n",
      "Tentative: \t20\n",
      "Rejected: \t0\n",
      "Iteration: \t6 / 100\n",
      "Confirmed: \t0\n",
      "Tentative: \t20\n",
      "Rejected: \t0\n",
      "Iteration: \t7 / 100\n",
      "Confirmed: \t0\n",
      "Tentative: \t20\n",
      "Rejected: \t0\n",
      "Iteration: \t8 / 100\n",
      "Confirmed: \t11\n",
      "Tentative: \t6\n",
      "Rejected: \t3\n",
      "Iteration: \t9 / 100\n",
      "Confirmed: \t11\n",
      "Tentative: \t6\n",
      "Rejected: \t3\n",
      "Iteration: \t10 / 100\n",
      "Confirmed: \t11\n",
      "Tentative: \t6\n",
      "Rejected: \t3\n",
      "Iteration: \t11 / 100\n",
      "Confirmed: \t11\n",
      "Tentative: \t6\n",
      "Rejected: \t3\n",
      "Iteration: \t12 / 100\n",
      "Confirmed: \t11\n",
      "Tentative: \t6\n",
      "Rejected: \t3\n",
      "Iteration: \t13 / 100\n",
      "Confirmed: \t11\n",
      "Tentative: \t6\n",
      "Rejected: \t3\n",
      "Iteration: \t14 / 100\n",
      "Confirmed: \t11\n",
      "Tentative: \t6\n",
      "Rejected: \t3\n",
      "Iteration: \t15 / 100\n",
      "Confirmed: \t11\n",
      "Tentative: \t6\n",
      "Rejected: \t3\n",
      "Iteration: \t16 / 100\n",
      "Confirmed: \t13\n",
      "Tentative: \t4\n",
      "Rejected: \t3\n",
      "Iteration: \t17 / 100\n",
      "Confirmed: \t13\n",
      "Tentative: \t4\n",
      "Rejected: \t3\n",
      "Iteration: \t18 / 100\n",
      "Confirmed: \t13\n",
      "Tentative: \t4\n",
      "Rejected: \t3\n",
      "Iteration: \t19 / 100\n",
      "Confirmed: \t13\n",
      "Tentative: \t4\n",
      "Rejected: \t3\n",
      "Iteration: \t20 / 100\n",
      "Confirmed: \t13\n",
      "Tentative: \t4\n",
      "Rejected: \t3\n",
      "Iteration: \t21 / 100\n",
      "Confirmed: \t13\n",
      "Tentative: \t4\n",
      "Rejected: \t3\n",
      "Iteration: \t22 / 100\n",
      "Confirmed: \t13\n",
      "Tentative: \t4\n",
      "Rejected: \t3\n",
      "Iteration: \t23 / 100\n",
      "Confirmed: \t13\n",
      "Tentative: \t4\n",
      "Rejected: \t3\n",
      "Iteration: \t24 / 100\n",
      "Confirmed: \t13\n",
      "Tentative: \t4\n",
      "Rejected: \t3\n",
      "Iteration: \t25 / 100\n",
      "Confirmed: \t13\n",
      "Tentative: \t4\n",
      "Rejected: \t3\n",
      "Iteration: \t26 / 100\n",
      "Confirmed: \t13\n",
      "Tentative: \t4\n",
      "Rejected: \t3\n",
      "Iteration: \t27 / 100\n",
      "Confirmed: \t13\n",
      "Tentative: \t4\n",
      "Rejected: \t3\n",
      "Iteration: \t28 / 100\n",
      "Confirmed: \t13\n",
      "Tentative: \t4\n",
      "Rejected: \t3\n",
      "Iteration: \t29 / 100\n",
      "Confirmed: \t13\n",
      "Tentative: \t3\n",
      "Rejected: \t4\n",
      "Iteration: \t30 / 100\n",
      "Confirmed: \t13\n",
      "Tentative: \t3\n",
      "Rejected: \t4\n",
      "Iteration: \t31 / 100\n",
      "Confirmed: \t13\n",
      "Tentative: \t3\n",
      "Rejected: \t4\n",
      "Iteration: \t32 / 100\n",
      "Confirmed: \t13\n",
      "Tentative: \t3\n",
      "Rejected: \t4\n",
      "Iteration: \t33 / 100\n",
      "Confirmed: \t13\n",
      "Tentative: \t3\n",
      "Rejected: \t4\n",
      "Iteration: \t34 / 100\n",
      "Confirmed: \t13\n",
      "Tentative: \t3\n",
      "Rejected: \t4\n",
      "Iteration: \t35 / 100\n",
      "Confirmed: \t13\n",
      "Tentative: \t3\n",
      "Rejected: \t4\n",
      "Iteration: \t36 / 100\n",
      "Confirmed: \t13\n",
      "Tentative: \t3\n",
      "Rejected: \t4\n",
      "Iteration: \t37 / 100\n",
      "Confirmed: \t13\n",
      "Tentative: \t3\n",
      "Rejected: \t4\n",
      "Iteration: \t38 / 100\n",
      "Confirmed: \t13\n",
      "Tentative: \t3\n",
      "Rejected: \t4\n",
      "Iteration: \t39 / 100\n",
      "Confirmed: \t13\n",
      "Tentative: \t3\n",
      "Rejected: \t4\n",
      "Iteration: \t40 / 100\n",
      "Confirmed: \t13\n",
      "Tentative: \t3\n",
      "Rejected: \t4\n",
      "Iteration: \t41 / 100\n",
      "Confirmed: \t13\n",
      "Tentative: \t3\n",
      "Rejected: \t4\n",
      "Iteration: \t42 / 100\n",
      "Confirmed: \t13\n",
      "Tentative: \t3\n",
      "Rejected: \t4\n",
      "Iteration: \t43 / 100\n",
      "Confirmed: \t13\n",
      "Tentative: \t2\n",
      "Rejected: \t5\n",
      "Iteration: \t44 / 100\n",
      "Confirmed: \t13\n",
      "Tentative: \t2\n",
      "Rejected: \t5\n",
      "Iteration: \t45 / 100\n",
      "Confirmed: \t13\n",
      "Tentative: \t2\n",
      "Rejected: \t5\n",
      "Iteration: \t46 / 100\n",
      "Confirmed: \t13\n",
      "Tentative: \t2\n",
      "Rejected: \t5\n",
      "Iteration: \t47 / 100\n",
      "Confirmed: \t13\n",
      "Tentative: \t2\n",
      "Rejected: \t5\n",
      "Iteration: \t48 / 100\n",
      "Confirmed: \t13\n",
      "Tentative: \t2\n",
      "Rejected: \t5\n",
      "Iteration: \t49 / 100\n",
      "Confirmed: \t13\n",
      "Tentative: \t2\n",
      "Rejected: \t5\n",
      "Iteration: \t50 / 100\n",
      "Confirmed: \t13\n",
      "Tentative: \t2\n",
      "Rejected: \t5\n",
      "Iteration: \t51 / 100\n",
      "Confirmed: \t13\n",
      "Tentative: \t2\n",
      "Rejected: \t5\n",
      "Iteration: \t52 / 100\n",
      "Confirmed: \t13\n",
      "Tentative: \t2\n",
      "Rejected: \t5\n",
      "Iteration: \t53 / 100\n",
      "Confirmed: \t13\n",
      "Tentative: \t2\n",
      "Rejected: \t5\n",
      "Iteration: \t54 / 100\n",
      "Confirmed: \t13\n",
      "Tentative: \t2\n",
      "Rejected: \t5\n",
      "Iteration: \t55 / 100\n",
      "Confirmed: \t13\n",
      "Tentative: \t2\n",
      "Rejected: \t5\n",
      "Iteration: \t56 / 100\n",
      "Confirmed: \t13\n",
      "Tentative: \t2\n",
      "Rejected: \t5\n",
      "Iteration: \t57 / 100\n",
      "Confirmed: \t13\n",
      "Tentative: \t2\n",
      "Rejected: \t5\n",
      "Iteration: \t58 / 100\n",
      "Confirmed: \t13\n",
      "Tentative: \t2\n",
      "Rejected: \t5\n",
      "Iteration: \t59 / 100\n",
      "Confirmed: \t13\n",
      "Tentative: \t2\n",
      "Rejected: \t5\n",
      "Iteration: \t60 / 100\n",
      "Confirmed: \t13\n",
      "Tentative: \t2\n",
      "Rejected: \t5\n",
      "Iteration: \t61 / 100\n",
      "Confirmed: \t13\n",
      "Tentative: \t2\n",
      "Rejected: \t5\n",
      "Iteration: \t62 / 100\n",
      "Confirmed: \t13\n",
      "Tentative: \t2\n",
      "Rejected: \t5\n",
      "Iteration: \t63 / 100\n",
      "Confirmed: \t13\n",
      "Tentative: \t2\n",
      "Rejected: \t5\n",
      "Iteration: \t64 / 100\n",
      "Confirmed: \t13\n",
      "Tentative: \t2\n",
      "Rejected: \t5\n",
      "Iteration: \t65 / 100\n",
      "Confirmed: \t13\n",
      "Tentative: \t2\n",
      "Rejected: \t5\n",
      "Iteration: \t66 / 100\n",
      "Confirmed: \t13\n",
      "Tentative: \t2\n",
      "Rejected: \t5\n",
      "Iteration: \t67 / 100\n",
      "Confirmed: \t13\n",
      "Tentative: \t2\n",
      "Rejected: \t5\n",
      "Iteration: \t68 / 100\n",
      "Confirmed: \t13\n",
      "Tentative: \t2\n",
      "Rejected: \t5\n",
      "Iteration: \t69 / 100\n",
      "Confirmed: \t13\n",
      "Tentative: \t2\n",
      "Rejected: \t5\n",
      "Iteration: \t70 / 100\n",
      "Confirmed: \t13\n",
      "Tentative: \t2\n",
      "Rejected: \t5\n",
      "Iteration: \t71 / 100\n",
      "Confirmed: \t13\n",
      "Tentative: \t2\n",
      "Rejected: \t5\n",
      "Iteration: \t72 / 100\n",
      "Confirmed: \t13\n",
      "Tentative: \t2\n",
      "Rejected: \t5\n",
      "Iteration: \t73 / 100\n",
      "Confirmed: \t13\n",
      "Tentative: \t2\n",
      "Rejected: \t5\n",
      "Iteration: \t74 / 100\n",
      "Confirmed: \t13\n",
      "Tentative: \t2\n",
      "Rejected: \t5\n",
      "Iteration: \t75 / 100\n",
      "Confirmed: \t13\n",
      "Tentative: \t2\n",
      "Rejected: \t5\n",
      "Iteration: \t76 / 100\n",
      "Confirmed: \t13\n",
      "Tentative: \t2\n",
      "Rejected: \t5\n",
      "Iteration: \t77 / 100\n",
      "Confirmed: \t13\n",
      "Tentative: \t2\n",
      "Rejected: \t5\n",
      "Iteration: \t78 / 100\n",
      "Confirmed: \t13\n",
      "Tentative: \t2\n",
      "Rejected: \t5\n",
      "Iteration: \t79 / 100\n",
      "Confirmed: \t13\n",
      "Tentative: \t2\n",
      "Rejected: \t5\n",
      "Iteration: \t80 / 100\n",
      "Confirmed: \t13\n",
      "Tentative: \t2\n",
      "Rejected: \t5\n",
      "Iteration: \t81 / 100\n",
      "Confirmed: \t13\n",
      "Tentative: \t2\n",
      "Rejected: \t5\n",
      "Iteration: \t82 / 100\n",
      "Confirmed: \t13\n",
      "Tentative: \t2\n",
      "Rejected: \t5\n",
      "Iteration: \t83 / 100\n",
      "Confirmed: \t13\n",
      "Tentative: \t2\n",
      "Rejected: \t5\n",
      "Iteration: \t84 / 100\n",
      "Confirmed: \t13\n",
      "Tentative: \t2\n",
      "Rejected: \t5\n",
      "Iteration: \t85 / 100\n",
      "Confirmed: \t13\n",
      "Tentative: \t2\n",
      "Rejected: \t5\n",
      "Iteration: \t86 / 100\n",
      "Confirmed: \t13\n",
      "Tentative: \t2\n",
      "Rejected: \t5\n",
      "Iteration: \t87 / 100\n",
      "Confirmed: \t13\n",
      "Tentative: \t2\n",
      "Rejected: \t5\n",
      "Iteration: \t88 / 100\n",
      "Confirmed: \t13\n",
      "Tentative: \t2\n",
      "Rejected: \t5\n",
      "Iteration: \t89 / 100\n",
      "Confirmed: \t13\n",
      "Tentative: \t2\n",
      "Rejected: \t5\n",
      "Iteration: \t90 / 100\n",
      "Confirmed: \t13\n",
      "Tentative: \t2\n",
      "Rejected: \t5\n",
      "Iteration: \t91 / 100\n",
      "Confirmed: \t13\n",
      "Tentative: \t2\n",
      "Rejected: \t5\n",
      "Iteration: \t92 / 100\n",
      "Confirmed: \t13\n",
      "Tentative: \t2\n",
      "Rejected: \t5\n",
      "Iteration: \t93 / 100\n",
      "Confirmed: \t13\n",
      "Tentative: \t2\n",
      "Rejected: \t5\n",
      "Iteration: \t94 / 100\n",
      "Confirmed: \t13\n",
      "Tentative: \t2\n",
      "Rejected: \t5\n",
      "Iteration: \t95 / 100\n",
      "Confirmed: \t13\n",
      "Tentative: \t2\n",
      "Rejected: \t5\n",
      "Iteration: \t96 / 100\n",
      "Confirmed: \t13\n",
      "Tentative: \t2\n",
      "Rejected: \t5\n",
      "Iteration: \t97 / 100\n",
      "Confirmed: \t13\n",
      "Tentative: \t2\n",
      "Rejected: \t5\n",
      "Iteration: \t98 / 100\n",
      "Confirmed: \t13\n",
      "Tentative: \t2\n",
      "Rejected: \t5\n",
      "Iteration: \t99 / 100\n",
      "Confirmed: \t13\n",
      "Tentative: \t2\n",
      "Rejected: \t5\n",
      "\n",
      "\n",
      "BorutaPy finished running.\n",
      "\n",
      "Iteration: \t100 / 100\n",
      "Confirmed: \t13\n",
      "Tentative: \t1\n",
      "Rejected: \t5\n"
     ]
    },
    {
     "data": {
      "text/plain": [
       "BorutaPy(estimator=RandomForestClassifier(max_depth=8, min_samples_split=0.3,\n",
       "                                          n_estimators=68, n_jobs=-1,\n",
       "                                          random_state=RandomState(MT19937) at 0x118CE1640),\n",
       "         n_estimators='auto', perc=90,\n",
       "         random_state=RandomState(MT19937) at 0x118CE1640, verbose=2)"
      ]
     },
     "execution_count": 46,
     "metadata": {},
     "output_type": "execute_result"
    }
   ],
   "source": [
    "boruta.fit(np.array(X), np.array(Y))"
   ]
  },
  {
   "cell_type": "code",
   "execution_count": 47,
   "metadata": {},
   "outputs": [
    {
     "data": {
      "text/plain": [
       "['Is_inpatient',\n",
       " 'Age',\n",
       " 'Race',\n",
       " 'State',\n",
       " 'County',\n",
       " 'Chronic_Alzheimer',\n",
       " 'Chronic_Heartfailure',\n",
       " 'Chronic_KidneyDisease',\n",
       " 'Chronic_ObstrPulmonary',\n",
       " 'Chronic_IschemicHeart',\n",
       " 'Chronic_rheumatoidarthritis',\n",
       " 'Chronic_stroke',\n",
       " 'RenalDisease']"
      ]
     },
     "execution_count": 47,
     "metadata": {},
     "output_type": "execute_result"
    }
   ],
   "source": [
    "X.columns[boruta.support_].to_list()"
   ]
  },
  {
   "cell_type": "code",
   "execution_count": 48,
   "metadata": {},
   "outputs": [
    {
     "data": {
      "text/plain": [
       "['FullYearPlanA']"
      ]
     },
     "execution_count": 48,
     "metadata": {},
     "output_type": "execute_result"
    }
   ],
   "source": [
    "X.columns[boruta.support_weak_].to_list()"
   ]
  },
  {
   "cell_type": "code",
   "execution_count": 50,
   "metadata": {},
   "outputs": [
    {
     "data": {
      "text/plain": [
       "{'Chronic_Cancer',\n",
       " 'Chronic_Depression',\n",
       " 'Chronic_Diabetes',\n",
       " 'Chronic_Osteoporasis',\n",
       " 'FullYearPlanA',\n",
       " 'FullYearPlanB',\n",
       " 'Gender'}"
      ]
     },
     "execution_count": 50,
     "metadata": {},
     "output_type": "execute_result"
    }
   ],
   "source": [
    "set(X.columns.to_list())^set(X.columns[boruta.support_].to_list())"
   ]
  },
  {
   "cell_type": "markdown",
   "metadata": {},
   "source": [
    "## Decision Tree"
   ]
  },
  {
   "cell_type": "code",
   "execution_count": 51,
   "metadata": {},
   "outputs": [],
   "source": [
    "features = X.columns[boruta.support_].to_list()"
   ]
  },
  {
   "cell_type": "code",
   "execution_count": 5,
   "metadata": {},
   "outputs": [],
   "source": [
    "from sklearn import tree"
   ]
  },
  {
   "cell_type": "code",
   "execution_count": 138,
   "metadata": {},
   "outputs": [],
   "source": [
    "from sklearn.model_selection import train_test_split\n",
    "\n",
    "X_train, X_test, y_train, y_test = train_test_split(X[features],Y,\n",
    "                                                    test_size=0.3, random_state=42)"
   ]
  },
  {
   "cell_type": "code",
   "execution_count": 139,
   "metadata": {},
   "outputs": [],
   "source": [
    "clf = tree.DecisionTreeClassifier(max_depth=15, \n",
    "                                min_samples_split=0.25,\n",
    "                                max_features='auto'\n",
    "                                 )\n",
    "clf = clf.fit(X_train, y_train)"
   ]
  },
  {
   "cell_type": "code",
   "execution_count": 140,
   "metadata": {},
   "outputs": [],
   "source": [
    "y_pred = clf.predict(X_test)"
   ]
  },
  {
   "cell_type": "code",
   "execution_count": 141,
   "metadata": {},
   "outputs": [
    {
     "name": "stdout",
     "output_type": "stream",
     "text": [
      "[[96531  7199]\n",
      " [55516  8218]]\n",
      "              precision    recall  f1-score   support\n",
      "\n",
      "           0       0.63      0.93      0.75    103730\n",
      "           1       0.53      0.13      0.21     63734\n",
      "\n",
      "    accuracy                           0.63    167464\n",
      "   macro avg       0.58      0.53      0.48    167464\n",
      "weighted avg       0.60      0.63      0.55    167464\n",
      "\n"
     ]
    }
   ],
   "source": [
    "from sklearn.metrics import classification_report, confusion_matrix\n",
    "print(confusion_matrix(y_test, y_pred))\n",
    "print(classification_report(y_test, y_pred))"
   ]
  },
  {
   "cell_type": "code",
   "execution_count": 142,
   "metadata": {},
   "outputs": [
    {
     "data": {
      "text/plain": [
       "63734"
      ]
     },
     "execution_count": 142,
     "metadata": {},
     "output_type": "execute_result"
    }
   ],
   "source": [
    "y_test.sum()"
   ]
  },
  {
   "cell_type": "code",
   "execution_count": 143,
   "metadata": {},
   "outputs": [],
   "source": [
    "import graphviz"
   ]
  },
  {
   "cell_type": "code",
   "execution_count": 144,
   "metadata": {},
   "outputs": [],
   "source": [
    "dot_data = tree.export_graphviz(clf, out_file=None, \n",
    "                                feature_names=features,  \n",
    "                                filled=True)"
   ]
  },
  {
   "cell_type": "code",
   "execution_count": 145,
   "metadata": {},
   "outputs": [],
   "source": [
    "graph = graphviz.Source(dot_data, format=\"png\")"
   ]
  },
  {
   "cell_type": "code",
   "execution_count": 146,
   "metadata": {
    "scrolled": true
   },
   "outputs": [
    {
     "name": "stdout",
     "output_type": "stream",
     "text": [
      "|--- Chronic_KidneyDisease <= 0.50\n",
      "|   |--- Race <= 2.50\n",
      "|   |   |--- County <= 105.00\n",
      "|   |   |   |--- class: 0\n",
      "|   |   |--- County >  105.00\n",
      "|   |   |   |--- State <= 10.50\n",
      "|   |   |   |   |--- class: 1\n",
      "|   |   |   |--- State >  10.50\n",
      "|   |   |   |   |--- Is_inpatient <= 0.50\n",
      "|   |   |   |   |   |--- class: 0\n",
      "|   |   |   |   |--- Is_inpatient >  0.50\n",
      "|   |   |   |   |   |--- class: 1\n",
      "|   |--- Race >  2.50\n",
      "|   |   |--- class: 0\n",
      "|--- Chronic_KidneyDisease >  0.50\n",
      "|   |--- State <= 10.50\n",
      "|   |   |--- class: 0\n",
      "|   |--- State >  10.50\n",
      "|   |   |--- Race <= 2.50\n",
      "|   |   |   |--- County <= 0.50\n",
      "|   |   |   |   |--- class: 0\n",
      "|   |   |   |--- County >  0.50\n",
      "|   |   |   |   |--- Chronic_rheumatoidarthritis <= 0.50\n",
      "|   |   |   |   |   |--- class: 0\n",
      "|   |   |   |   |--- Chronic_rheumatoidarthritis >  0.50\n",
      "|   |   |   |   |   |--- State <= 21.50\n",
      "|   |   |   |   |   |   |--- class: 0\n",
      "|   |   |   |   |   |--- State >  21.50\n",
      "|   |   |   |   |   |   |--- class: 0\n",
      "|   |   |--- Race >  2.50\n",
      "|   |   |   |--- class: 0\n",
      "\n"
     ]
    }
   ],
   "source": [
    "print(tree.export_text(clf, feature_names=features))"
   ]
  },
  {
   "cell_type": "code",
   "execution_count": null,
   "metadata": {},
   "outputs": [],
   "source": []
  }
 ],
 "metadata": {
  "kernelspec": {
   "display_name": "Python 3.8.5 64-bit",
   "language": "python",
   "name": "python38564bit27c2c10e68134d42af8384e6691c1adc"
  },
  "language_info": {
   "codemirror_mode": {
    "name": "ipython",
    "version": 3
   },
   "file_extension": ".py",
   "mimetype": "text/x-python",
   "name": "python",
   "nbconvert_exporter": "python",
   "pygments_lexer": "ipython3",
   "version": "3.8.5"
  }
 },
 "nbformat": 4,
 "nbformat_minor": 2
}
