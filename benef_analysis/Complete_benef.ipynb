{
 "cells": [
  {
   "cell_type": "code",
   "execution_count": 1,
   "metadata": {},
   "outputs": [],
   "source": [
    "import pandas as pd \n",
    "import numpy as np"
   ]
  },
  {
   "cell_type": "code",
   "execution_count": 2,
   "metadata": {},
   "outputs": [],
   "source": [
    "benef = pd.read_csv('../cleaned_data/benef_final_fix.csv')"
   ]
  },
  {
   "cell_type": "code",
   "execution_count": 3,
   "metadata": {},
   "outputs": [
    {
     "name": "stdout",
     "output_type": "stream",
     "text": [
      "<class 'pandas.core.frame.DataFrame'>\n",
      "RangeIndex: 138556 entries, 0 to 138555\n",
      "Data columns (total 24 columns):\n",
      " #   Column                       Non-Null Count   Dtype \n",
      "---  ------                       --------------   ----- \n",
      " 0   BID                          138556 non-null  object\n",
      " 1   NumOfClaims                  138556 non-null  int64 \n",
      " 2   Gender                       138556 non-null  int64 \n",
      " 3   Is_inpatient                 138556 non-null  int64 \n",
      " 4   Age                          138556 non-null  int64 \n",
      " 5   Race                         138556 non-null  int64 \n",
      " 6   State                        138556 non-null  int64 \n",
      " 7   County                       138556 non-null  int64 \n",
      " 8   Chronic_Alzheimer            138556 non-null  int64 \n",
      " 9   Chronic_Heartfailure         138556 non-null  int64 \n",
      " 10  Chronic_KidneyDisease        138556 non-null  int64 \n",
      " 11  Chronic_Cancer               138556 non-null  int64 \n",
      " 12  Chronic_ObstrPulmonary       138556 non-null  int64 \n",
      " 13  Chronic_Depression           138556 non-null  int64 \n",
      " 14  Chronic_Diabetes             138556 non-null  int64 \n",
      " 15  Chronic_IschemicHeart        138556 non-null  int64 \n",
      " 16  Chronic_Osteoporasis         138556 non-null  int64 \n",
      " 17  Chronic_rheumatoidarthritis  138556 non-null  int64 \n",
      " 18  Chronic_stroke               138556 non-null  int64 \n",
      " 19  RenalDisease                 138556 non-null  int64 \n",
      " 20  FullYearPlanA                138556 non-null  bool  \n",
      " 21  FullYearPlanB                138556 non-null  bool  \n",
      " 22  NumOfFraud                   138556 non-null  int64 \n",
      " 23  Has_Fraud                    138556 non-null  int64 \n",
      "dtypes: bool(2), int64(21), object(1)\n",
      "memory usage: 23.5+ MB\n"
     ]
    }
   ],
   "source": [
    "benef.info()"
   ]
  },
  {
   "cell_type": "code",
   "execution_count": null,
   "metadata": {},
   "outputs": [],
   "source": []
  }
 ],
 "metadata": {
  "kernelspec": {
   "display_name": "Python 3.8.5 64-bit",
   "language": "python",
   "name": "python38564bit27c2c10e68134d42af8384e6691c1adc"
  },
  "language_info": {
   "codemirror_mode": {
    "name": "ipython",
    "version": 3
   },
   "file_extension": ".py",
   "mimetype": "text/x-python",
   "name": "python",
   "nbconvert_exporter": "python",
   "pygments_lexer": "ipython3",
   "version": "3.8.5"
  }
 },
 "nbformat": 4,
 "nbformat_minor": 2
}
