{
 "cells": [
  {
   "cell_type": "code",
   "execution_count": 11,
   "metadata": {},
   "outputs": [],
   "source": [
    "import numpy as np\n",
    "import pandas as pd \n",
    "import matplotlib as plt \n",
    "%matplotlib inline "
   ]
  },
  {
   "cell_type": "code",
   "execution_count": 12,
   "metadata": {},
   "outputs": [],
   "source": [
    "## read dataset\n",
    "benef = pd.read_csv('./Datathon2020data/beneficiary.csv')\n",
    "inpatient = pd.read_csv('./Datathon2020data/inpatients.csv')\n",
    "outpatient = pd.read_csv('./Datathon2020data/outpatients.csv')\n",
    "provider = pd.read_csv('./Datathon2020data/providers.csv')"
   ]
  },
  {
   "cell_type": "code",
   "execution_count": 108,
   "metadata": {},
   "outputs": [],
   "source": [
    "## merging inpatient and outpatient and label with type\n",
    "inpatient['Is_inpatient'] = 1\n",
    "outpatient['Is_inpatient'] = 0\n",
    "claims = pd.concat([inpatient, outpatient], axis=0)  \n",
    "\n",
    "# label with fraud info\n",
    "claims = pd.merge(claims, provider, on='PID')"
   ]
  },
  {
   "cell_type": "code",
   "execution_count": 109,
   "metadata": {},
   "outputs": [],
   "source": [
    "# add beneficiary info for claims\n",
    "all_info = pd.merge(claims, benef, on='BID', how='left')"
   ]
  },
  {
   "cell_type": "code",
   "execution_count": 110,
   "metadata": {},
   "outputs": [],
   "source": [
    "# Convert date columns to data types\n",
    "date_cols = ['StartDt','EndDt', 'DOB', 'DOD', 'AdmissionDt']\n",
    "for i in date_cols: \n",
    "    all_info[i] = pd.to_datetime(all_info[i])"
   ]
  },
  {
   "cell_type": "code",
   "execution_count": 111,
   "metadata": {},
   "outputs": [],
   "source": [
    "# New Variables depends on Dates\n",
    "all_info['NumOfClaimDays'] = (all_info['EndDt'] - all_info['StartDt']).apply(lambda x:x.days)\n",
    "all_info['Age'] = (all_info['StartDt'] - all_info['DOB']).apply(lambda x:x.days)\n",
    "all_info['Death_age'] = (all_info['DOD'] - all_info['DOB']).apply(lambda x:(x.days)/365)"
   ]
  },
  {
   "cell_type": "code",
   "execution_count": 112,
   "metadata": {},
   "outputs": [],
   "source": [
    "# output full df\n",
    "#all_info.to_csv(\"./Datathon2020data/full_data.csv\", index=False) "
   ]
  },
  {
   "cell_type": "code",
   "execution_count": 113,
   "metadata": {},
   "outputs": [],
   "source": [
    "## Drop useless columns - CID, StartDt, EndDt"
   ]
  },
  {
   "cell_type": "code",
   "execution_count": 114,
   "metadata": {},
   "outputs": [],
   "source": [
    "all_info['DiagnosisCode_Num'] = all_info.loc[:, 'DiagnosisCode_1':'DiagnosisCode_10'].count(axis=1)\n",
    "all_info['ProcedureCode_Num'] = all_info.loc[:, 'ProcedureCode_1':'ProcedureCode_6'].count(axis=1)"
   ]
  },
  {
   "cell_type": "code",
   "execution_count": 115,
   "metadata": {},
   "outputs": [],
   "source": [
    "##Convert Yes/No Categories into binary variables\n",
    "\n",
    "#chronic diseases\n",
    "\n",
    "diseases = ['Chronic_Alzheimer',\n",
    "       'Chronic_Heartfailure', 'Chronic_KidneyDisease', 'Chronic_Cancer',\n",
    "       'Chronic_ObstrPulmonary', 'Chronic_Depression', 'Chronic_Diabetes',\n",
    "       'Chronic_IschemicHeart', 'Chronic_Osteoporasis',\n",
    "       'Chronic_rheumatoidarthritis', 'Chronic_stroke']\n",
    "\n",
    "for i in diseases: \n",
    "    all_info[i] = all_info[i]-1"
   ]
  },
  {
   "cell_type": "code",
   "execution_count": 116,
   "metadata": {},
   "outputs": [],
   "source": [
    "all_info['ChronicDisease_Num'] = all_info.loc[:,'Chronic_Alzheimer':'Chronic_stroke'].sum(axis=1)"
   ]
  },
  {
   "cell_type": "code",
   "execution_count": 117,
   "metadata": {},
   "outputs": [],
   "source": [
    "all_info['RenalDisease'] = pd.to_numeric(all_info['RenalDisease'].replace('Y', 1))"
   ]
  },
  {
   "cell_type": "code",
   "execution_count": 118,
   "metadata": {},
   "outputs": [],
   "source": [
    "all_info['Fraud'] = pd.to_numeric(all_info['Fraud'].replace({'Yes':1, 'No':0}))"
   ]
  },
  {
   "cell_type": "code",
   "execution_count": 123,
   "metadata": {},
   "outputs": [],
   "source": [
    "all_info['AdmitDiagnosInDiagnos'] = ((all_info['AdmitDiagnosisCode'] == all_info['DiagnosisGroupCode']) |\n",
    "(all_info['AdmitDiagnosisCode'] == all_info['DiagnosisCode_1']) |\n",
    "(all_info['AdmitDiagnosisCode'] == all_info['DiagnosisCode_2'])|\n",
    "(all_info['AdmitDiagnosisCode'] == all_info['DiagnosisCode_3'])|\n",
    "(all_info['AdmitDiagnosisCode'] == all_info['DiagnosisCode_4'])|\n",
    " (all_info['AdmitDiagnosisCode'] == all_info['DiagnosisCode_5']) |\n",
    " (all_info['AdmitDiagnosisCode'] == all_info['DiagnosisCode_6']) |\n",
    " (all_info['AdmitDiagnosisCode'] == all_info['DiagnosisCode_7']) |\n",
    " (all_info['AdmitDiagnosisCode'] == all_info['DiagnosisCode_8']) |\n",
    " (all_info['AdmitDiagnosisCode'] == all_info['DiagnosisCode_9']) |\n",
    " (all_info['AdmitDiagnosisCode'] == all_info['DiagnosisCode_10']))"
   ]
  },
  {
   "cell_type": "code",
   "execution_count": 124,
   "metadata": {
    "scrolled": true
   },
   "outputs": [
    {
     "name": "stdout",
     "output_type": "stream",
     "text": [
      "<class 'pandas.core.frame.DataFrame'>\n",
      "Int64Index: 558211 entries, 0 to 558210\n",
      "Data columns (total 64 columns):\n",
      " #   Column                            Non-Null Count   Dtype         \n",
      "---  ------                            --------------   -----         \n",
      " 0   BID                               558211 non-null  object        \n",
      " 1   CID                               558211 non-null  object        \n",
      " 2   StartDt                           558211 non-null  datetime64[ns]\n",
      " 3   EndDt                             558211 non-null  datetime64[ns]\n",
      " 4   PID                               558211 non-null  object        \n",
      " 5   AmtReimbursed                     558211 non-null  int64         \n",
      " 6   AttendingPhysician                556703 non-null  object        \n",
      " 7   OperatingPhysician                114447 non-null  object        \n",
      " 8   OtherPhysician                    199736 non-null  object        \n",
      " 9   AdmissionDt                       40474 non-null   datetime64[ns]\n",
      " 10  AdmitDiagnosisCode                145899 non-null  object        \n",
      " 11  DeductibleAmt                     557312 non-null  float64       \n",
      " 12  DischargeDt                       40474 non-null   object        \n",
      " 13  DiagnosisGroupCode                40474 non-null   object        \n",
      " 14  DiagnosisCode_1                   547758 non-null  object        \n",
      " 15  DiagnosisCode_2                   362605 non-null  object        \n",
      " 16  DiagnosisCode_3                   243055 non-null  object        \n",
      " 17  DiagnosisCode_4                   164536 non-null  object        \n",
      " 18  DiagnosisCode_5                   111924 non-null  object        \n",
      " 19  DiagnosisCode_6                   84392 non-null   object        \n",
      " 20  DiagnosisCode_7                   66177 non-null   object        \n",
      " 21  DiagnosisCode_8                   53444 non-null   object        \n",
      " 22  DiagnosisCode_9                   41815 non-null   object        \n",
      " 23  DiagnosisCode_10                  5010 non-null    object        \n",
      " 24  ProcedureCode_1                   23310 non-null   float64       \n",
      " 25  ProcedureCode_2                   5490 non-null    float64       \n",
      " 26  ProcedureCode_3                   969 non-null     float64       \n",
      " 27  ProcedureCode_4                   118 non-null     float64       \n",
      " 28  ProcedureCode_5                   9 non-null       float64       \n",
      " 29  ProcedureCode_6                   0 non-null       float64       \n",
      " 30  patient_type                      558211 non-null  object        \n",
      " 31  Is_inpatient                      558211 non-null  int64         \n",
      " 32  Fraud                             558211 non-null  int64         \n",
      " 33  DOB                               558211 non-null  datetime64[ns]\n",
      " 34  DOD                               4131 non-null    datetime64[ns]\n",
      " 35  Gender                            558211 non-null  int64         \n",
      " 36  Race                              558211 non-null  int64         \n",
      " 37  RenalDisease                      558211 non-null  int64         \n",
      " 38  State                             558211 non-null  int64         \n",
      " 39  County                            558211 non-null  int64         \n",
      " 40  NumOfMonths_PartACov              558211 non-null  int64         \n",
      " 41  NumOfMonths_PartBCov              558211 non-null  int64         \n",
      " 42  Chronic_Alzheimer                 558211 non-null  int64         \n",
      " 43  Chronic_Heartfailure              558211 non-null  int64         \n",
      " 44  Chronic_KidneyDisease             558211 non-null  int64         \n",
      " 45  Chronic_Cancer                    558211 non-null  int64         \n",
      " 46  Chronic_ObstrPulmonary            558211 non-null  int64         \n",
      " 47  Chronic_Depression                558211 non-null  int64         \n",
      " 48  Chronic_Diabetes                  558211 non-null  int64         \n",
      " 49  Chronic_IschemicHeart             558211 non-null  int64         \n",
      " 50  Chronic_Osteoporasis              558211 non-null  int64         \n",
      " 51  Chronic_rheumatoidarthritis       558211 non-null  int64         \n",
      " 52  Chronic_stroke                    558211 non-null  int64         \n",
      " 53  InpatientAnnualReimbursementAmt   558211 non-null  int64         \n",
      " 54  InpatientAnnualDeductibleAmt      558211 non-null  int64         \n",
      " 55  OutpatientAnnualReimbursementAmt  558211 non-null  int64         \n",
      " 56  OutpatientAnnualDeductibleAmt     558211 non-null  int64         \n",
      " 57  NumOfClaimDays                    558211 non-null  int64         \n",
      " 58  Age                               558211 non-null  int64         \n",
      " 59  Death_age                         4131 non-null    float64       \n",
      " 60  DiagnosisCode_Num                 558211 non-null  int64         \n",
      " 61  ProcedureCode_Num                 558211 non-null  int64         \n",
      " 62  ChronicDisease_Num                558211 non-null  int64         \n",
      " 63  AdmitDiagnosInDiagnos             558211 non-null  bool          \n",
      "dtypes: bool(1), datetime64[ns](5), float64(8), int64(30), object(20)\n",
      "memory usage: 273.1+ MB\n"
     ]
    }
   ],
   "source": [
    "all_info.info()"
   ]
  },
  {
   "cell_type": "markdown",
   "metadata": {},
   "source": [
    "### Physician Checks "
   ]
  },
  {
   "cell_type": "code",
   "execution_count": 137,
   "metadata": {},
   "outputs": [],
   "source": [
    "check = all_info.groupby(['AttendingPhysician']).agg(check1=('Fraud','count'),\n",
    "                                                     check2=('Fraud',sum))"
   ]
  },
  {
   "cell_type": "code",
   "execution_count": 141,
   "metadata": {},
   "outputs": [],
   "source": [
    "check['check3'] = check['check1']>check['check2']"
   ]
  },
  {
   "cell_type": "code",
   "execution_count": 142,
   "metadata": {},
   "outputs": [
    {
     "data": {
      "text/plain": [
       "62969"
      ]
     },
     "execution_count": 142,
     "metadata": {},
     "output_type": "execute_result"
    }
   ],
   "source": [
    "check['check3'].sum()"
   ]
  },
  {
   "cell_type": "code",
   "execution_count": null,
   "metadata": {},
   "outputs": [],
   "source": [
    "### physician work in provider, provider got flagged, physicians go to new PID "
   ]
  },
  {
   "cell_type": "code",
   "execution_count": null,
   "metadata": {},
   "outputs": [],
   "source": []
  },
  {
   "cell_type": "markdown",
   "metadata": {},
   "source": [
    "### Random Checks"
   ]
  },
  {
   "cell_type": "code",
   "execution_count": 121,
   "metadata": {},
   "outputs": [
    {
     "data": {
      "text/plain": [
       "8274"
      ]
     },
     "execution_count": 121,
     "metadata": {},
     "output_type": "execute_result"
    }
   ],
   "source": [
    "all_info[((all_info['AdmitDiagnosisCode'] == all_info['DiagnosisGroupCode']) |\n",
    "(all_info['AdmitDiagnosisCode'] == all_info['DiagnosisCode_1']) |\n",
    "(all_info['AdmitDiagnosisCode'] == all_info['DiagnosisCode_2'])|\n",
    "(all_info['AdmitDiagnosisCode'] == all_info['DiagnosisCode_3'])|\n",
    "(all_info['AdmitDiagnosisCode'] == all_info['DiagnosisCode_4'])|\n",
    " (all_info['AdmitDiagnosisCode'] == all_info['DiagnosisCode_5']) |\n",
    " (all_info['AdmitDiagnosisCode'] == all_info['DiagnosisCode_6']) |\n",
    " (all_info['AdmitDiagnosisCode'] == all_info['DiagnosisCode_7']) |\n",
    " (all_info['AdmitDiagnosisCode'] == all_info['DiagnosisCode_8']) |\n",
    " (all_info['AdmitDiagnosisCode'] == all_info['DiagnosisCode_9']) |\n",
    " (all_info['AdmitDiagnosisCode'] == all_info['DiagnosisCode_10']))]['Fraud'].sum()"
   ]
  },
  {
   "cell_type": "code",
   "execution_count": 120,
   "metadata": {},
   "outputs": [
    {
     "data": {
      "text/plain": [
       "9835"
      ]
     },
     "execution_count": 120,
     "metadata": {},
     "output_type": "execute_result"
    }
   ],
   "source": [
    "all_info[((all_info['AdmitDiagnosisCode'] == all_info['DiagnosisGroupCode']) |\n",
    "(all_info['AdmitDiagnosisCode'] == all_info['DiagnosisCode_1']) |\n",
    "(all_info['AdmitDiagnosisCode'] == all_info['DiagnosisCode_2'])|\n",
    "(all_info['AdmitDiagnosisCode'] == all_info['DiagnosisCode_3'])|\n",
    "(all_info['AdmitDiagnosisCode'] == all_info['DiagnosisCode_4'])|\n",
    " (all_info['AdmitDiagnosisCode'] == all_info['DiagnosisCode_5']) |\n",
    " (all_info['AdmitDiagnosisCode'] == all_info['DiagnosisCode_6']) |\n",
    " (all_info['AdmitDiagnosisCode'] == all_info['DiagnosisCode_7']) |\n",
    " (all_info['AdmitDiagnosisCode'] == all_info['DiagnosisCode_8']) |\n",
    " (all_info['AdmitDiagnosisCode'] == all_info['DiagnosisCode_9']) |\n",
    " (all_info['AdmitDiagnosisCode'] == all_info['DiagnosisCode_10']))]['Is_inpatient'].sum()"
   ]
  },
  {
   "cell_type": "code",
   "execution_count": 122,
   "metadata": {},
   "outputs": [
    {
     "data": {
      "text/plain": [
       "17082"
      ]
     },
     "execution_count": 122,
     "metadata": {},
     "output_type": "execute_result"
    }
   ],
   "source": [
    "len(all_info[((all_info['AdmitDiagnosisCode'] == all_info['DiagnosisGroupCode']) |\n",
    "(all_info['AdmitDiagnosisCode'] == all_info['DiagnosisCode_1']) |\n",
    "(all_info['AdmitDiagnosisCode'] == all_info['DiagnosisCode_2'])|\n",
    "(all_info['AdmitDiagnosisCode'] == all_info['DiagnosisCode_3'])|\n",
    "(all_info['AdmitDiagnosisCode'] == all_info['DiagnosisCode_4'])|\n",
    " (all_info['AdmitDiagnosisCode'] == all_info['DiagnosisCode_5']) |\n",
    " (all_info['AdmitDiagnosisCode'] == all_info['DiagnosisCode_6']) |\n",
    " (all_info['AdmitDiagnosisCode'] == all_info['DiagnosisCode_7']) |\n",
    " (all_info['AdmitDiagnosisCode'] == all_info['DiagnosisCode_8']) |\n",
    " (all_info['AdmitDiagnosisCode'] == all_info['DiagnosisCode_9']) |\n",
    " (all_info['AdmitDiagnosisCode'] == all_info['DiagnosisCode_10']))])"
   ]
  },
  {
   "cell_type": "code",
   "execution_count": 130,
   "metadata": {},
   "outputs": [
    {
     "data": {
      "text/plain": [
       "2534"
      ]
     },
     "execution_count": 130,
     "metadata": {},
     "output_type": "execute_result"
    }
   ],
   "source": [
    "all_info[all_info['AttendingPhysician']=='PHY330576']['Fraud'].sum()"
   ]
  }
 ],
 "metadata": {
  "kernelspec": {
   "display_name": "Python 3",
   "language": "python",
   "name": "python3"
  },
  "language_info": {
   "codemirror_mode": {
    "name": "ipython",
    "version": 3
   },
   "file_extension": ".py",
   "mimetype": "text/x-python",
   "name": "python",
   "nbconvert_exporter": "python",
   "pygments_lexer": "ipython3",
   "version": "3.6.8"
  }
 },
 "nbformat": 4,
 "nbformat_minor": 2
}
