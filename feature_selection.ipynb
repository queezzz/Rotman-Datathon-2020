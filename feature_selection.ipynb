{
 "cells": [
  {
   "cell_type": "code",
   "execution_count": 2,
   "metadata": {},
   "outputs": [],
   "source": [
    "from pandas import Series, DataFrame\n",
    "import pandas as pd"
   ]
  },
  {
   "cell_type": "code",
   "execution_count": 3,
   "metadata": {},
   "outputs": [
    {
     "name": "stderr",
     "output_type": "stream",
     "text": [
      "/Users/joy/opt/anaconda3/lib/python3.7/site-packages/IPython/core/interactiveshell.py:3063: DtypeWarning: Columns (9,12,13,23) have mixed types.Specify dtype option on import or set low_memory=False.\n",
      "  interactivity=interactivity, compiler=compiler, result=result)\n"
     ]
    }
   ],
   "source": [
    "benef = pd.read_csv('./Datathon2020data/beneficiary.csv')\n",
    "inpatient = pd.read_csv('./Datathon2020data/inpatients.csv')\n",
    "outpatient = pd.read_csv('./Datathon2020data/outpatients.csv')\n",
    "provider = pd.read_csv('./Datathon2020data/providers.csv')\n",
    "all_data = pd.read_csv('./Datathon2020data/full_data.csv')"
   ]
  },
  {
   "cell_type": "code",
   "execution_count": 7,
   "metadata": {},
   "outputs": [
    {
     "name": "stdout",
     "output_type": "stream",
     "text": [
      "<class 'pandas.core.frame.DataFrame'>\n",
      "RangeIndex: 558211 entries, 0 to 558210\n",
      "Data columns (total 59 columns):\n",
      " #   Column                            Non-Null Count   Dtype  \n",
      "---  ------                            --------------   -----  \n",
      " 0   BID                               558211 non-null  object \n",
      " 1   CID                               558211 non-null  object \n",
      " 2   StartDt                           558211 non-null  object \n",
      " 3   EndDt                             558211 non-null  object \n",
      " 4   PID                               558211 non-null  object \n",
      " 5   AmtReimbursed                     558211 non-null  int64  \n",
      " 6   AttendingPhysician                556703 non-null  object \n",
      " 7   OperatingPhysician                114447 non-null  object \n",
      " 8   OtherPhysician                    199736 non-null  object \n",
      " 9   AdmissionDt                       40474 non-null   object \n",
      " 10  AdmitDiagnosisCode                145899 non-null  object \n",
      " 11  DeductibleAmt                     557312 non-null  float64\n",
      " 12  DischargeDt                       40474 non-null   object \n",
      " 13  DiagnosisGroupCode                40474 non-null   object \n",
      " 14  DiagnosisCode_1                   547758 non-null  object \n",
      " 15  DiagnosisCode_2                   362605 non-null  object \n",
      " 16  DiagnosisCode_3                   243055 non-null  object \n",
      " 17  DiagnosisCode_4                   164536 non-null  object \n",
      " 18  DiagnosisCode_5                   111924 non-null  object \n",
      " 19  DiagnosisCode_6                   84392 non-null   object \n",
      " 20  DiagnosisCode_7                   66177 non-null   object \n",
      " 21  DiagnosisCode_8                   53444 non-null   object \n",
      " 22  DiagnosisCode_9                   41815 non-null   object \n",
      " 23  DiagnosisCode_10                  5010 non-null    object \n",
      " 24  ProcedureCode_1                   23310 non-null   float64\n",
      " 25  ProcedureCode_2                   5490 non-null    float64\n",
      " 26  ProcedureCode_3                   969 non-null     float64\n",
      " 27  ProcedureCode_4                   118 non-null     float64\n",
      " 28  ProcedureCode_5                   9 non-null       float64\n",
      " 29  ProcedureCode_6                   0 non-null       float64\n",
      " 30  patient_type                      558211 non-null  object \n",
      " 31  Fraud                             558211 non-null  object \n",
      " 32  DOB                               558211 non-null  object \n",
      " 33  DOD                               4131 non-null    object \n",
      " 34  Gender                            558211 non-null  int64  \n",
      " 35  Race                              558211 non-null  int64  \n",
      " 36  RenalDisease                      558211 non-null  object \n",
      " 37  State                             558211 non-null  int64  \n",
      " 38  County                            558211 non-null  int64  \n",
      " 39  NumOfMonths_PartACov              558211 non-null  int64  \n",
      " 40  NumOfMonths_PartBCov              558211 non-null  int64  \n",
      " 41  Chronic_Alzheimer                 558211 non-null  int64  \n",
      " 42  Chronic_Heartfailure              558211 non-null  int64  \n",
      " 43  Chronic_KidneyDisease             558211 non-null  int64  \n",
      " 44  Chronic_Cancer                    558211 non-null  int64  \n",
      " 45  Chronic_ObstrPulmonary            558211 non-null  int64  \n",
      " 46  Chronic_Depression                558211 non-null  int64  \n",
      " 47  Chronic_Diabetes                  558211 non-null  int64  \n",
      " 48  Chronic_IschemicHeart             558211 non-null  int64  \n",
      " 49  Chronic_Osteoporasis              558211 non-null  int64  \n",
      " 50  Chronic_rheumatoidarthritis       558211 non-null  int64  \n",
      " 51  Chronic_stroke                    558211 non-null  int64  \n",
      " 52  InpatientAnnualReimbursementAmt   558211 non-null  int64  \n",
      " 53  InpatientAnnualDeductibleAmt      558211 non-null  int64  \n",
      " 54  OutpatientAnnualReimbursementAmt  558211 non-null  int64  \n",
      " 55  OutpatientAnnualDeductibleAmt     558211 non-null  int64  \n",
      " 56  NumOfClaimDays                    558211 non-null  int64  \n",
      " 57  Age                               558211 non-null  float64\n",
      " 58  Death_age                         4131 non-null    float64\n",
      "dtypes: float64(9), int64(23), object(27)\n",
      "memory usage: 251.3+ MB\n"
     ]
    }
   ],
   "source": [
    "all_data.info()"
   ]
  },
  {
   "cell_type": "code",
   "execution_count": null,
   "metadata": {},
   "outputs": [],
   "source": []
  }
 ],
 "metadata": {
  "kernelspec": {
   "display_name": "Python 3",
   "language": "python",
   "name": "python3"
  },
  "language_info": {
   "codemirror_mode": {
    "name": "ipython",
    "version": 3
   },
   "file_extension": ".py",
   "mimetype": "text/x-python",
   "name": "python",
   "nbconvert_exporter": "python",
   "pygments_lexer": "ipython3",
   "version": "3.7.6"
  }
 },
 "nbformat": 4,
 "nbformat_minor": 4
}
