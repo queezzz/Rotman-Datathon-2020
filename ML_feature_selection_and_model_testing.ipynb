{
 "cells": [
  {
   "cell_type": "code",
   "execution_count": 1,
   "metadata": {},
   "outputs": [],
   "source": [
    "import pandas as pd \n",
    "import numpy as np \n",
    "import matplotlib.pyplot as plt"
   ]
  },
  {
   "cell_type": "markdown",
   "metadata": {},
   "source": [
    "# Feature selection "
   ]
  },
  {
   "cell_type": "code",
   "execution_count": 7,
   "metadata": {},
   "outputs": [
    {
     "data": {
      "text/plain": [
       "(558211, 28)"
      ]
     },
     "execution_count": 7,
     "metadata": {},
     "output_type": "execute_result"
    }
   ],
   "source": [
    "# test on claims\n",
    "claims = pd.read_csv('/Users/joy/Desktop/datathon/Datathon2020data/new_claim.csv')\n",
    "claims['Age'] = claims['Age']//365\n",
    "X_claim = claims.drop(['Fraud'], axis =1)\n",
    "Y_claim = claims['Fraud']\n",
    "X_claim = X_claim.fillna(0)\n",
    "X_claim.shape"
   ]
  },
  {
   "cell_type": "code",
   "execution_count": 8,
   "metadata": {},
   "outputs": [],
   "source": [
    "from boruta import BorutaPy\n",
    "from sklearn.ensemble import RandomForestClassifier\n",
    "\n",
    "rf = RandomForestClassifier(n_jobs = -1, max_depth = 8,\n",
    "                           min_samples_split= 0.3)\n",
    "boruta = BorutaPy(estimator = rf, verbose=2, perc=90,\n",
    "                  n_estimators = 'auto',\n",
    "                  max_iter = 100)"
   ]
  },
  {
   "cell_type": "code",
   "execution_count": 9,
   "metadata": {},
   "outputs": [
    {
     "name": "stdout",
     "output_type": "stream",
     "text": [
      "Iteration: \t1 / 100\n",
      "Confirmed: \t0\n",
      "Tentative: \t28\n",
      "Rejected: \t0\n",
      "Iteration: \t2 / 100\n",
      "Confirmed: \t0\n",
      "Tentative: \t28\n",
      "Rejected: \t0\n",
      "Iteration: \t3 / 100\n",
      "Confirmed: \t0\n",
      "Tentative: \t28\n",
      "Rejected: \t0\n",
      "Iteration: \t4 / 100\n",
      "Confirmed: \t0\n",
      "Tentative: \t28\n",
      "Rejected: \t0\n",
      "Iteration: \t5 / 100\n",
      "Confirmed: \t0\n",
      "Tentative: \t28\n",
      "Rejected: \t0\n",
      "Iteration: \t6 / 100\n",
      "Confirmed: \t0\n",
      "Tentative: \t28\n",
      "Rejected: \t0\n",
      "Iteration: \t7 / 100\n",
      "Confirmed: \t0\n",
      "Tentative: \t28\n",
      "Rejected: \t0\n",
      "Iteration: \t8 / 100\n",
      "Confirmed: \t14\n",
      "Tentative: \t10\n",
      "Rejected: \t4\n",
      "Iteration: \t9 / 100\n",
      "Confirmed: \t14\n",
      "Tentative: \t10\n",
      "Rejected: \t4\n",
      "Iteration: \t10 / 100\n",
      "Confirmed: \t14\n",
      "Tentative: \t10\n",
      "Rejected: \t4\n",
      "Iteration: \t11 / 100\n",
      "Confirmed: \t14\n",
      "Tentative: \t10\n",
      "Rejected: \t4\n",
      "Iteration: \t12 / 100\n",
      "Confirmed: \t16\n",
      "Tentative: \t8\n",
      "Rejected: \t4\n",
      "Iteration: \t13 / 100\n",
      "Confirmed: \t16\n",
      "Tentative: \t8\n",
      "Rejected: \t4\n",
      "Iteration: \t14 / 100\n",
      "Confirmed: \t16\n",
      "Tentative: \t8\n",
      "Rejected: \t4\n",
      "Iteration: \t15 / 100\n",
      "Confirmed: \t16\n",
      "Tentative: \t8\n",
      "Rejected: \t4\n",
      "Iteration: \t16 / 100\n",
      "Confirmed: \t16\n",
      "Tentative: \t8\n",
      "Rejected: \t4\n",
      "Iteration: \t17 / 100\n",
      "Confirmed: \t16\n",
      "Tentative: \t8\n",
      "Rejected: \t4\n",
      "Iteration: \t18 / 100\n",
      "Confirmed: \t16\n",
      "Tentative: \t8\n",
      "Rejected: \t4\n",
      "Iteration: \t19 / 100\n",
      "Confirmed: \t16\n",
      "Tentative: \t8\n",
      "Rejected: \t4\n",
      "Iteration: \t20 / 100\n",
      "Confirmed: \t16\n",
      "Tentative: \t8\n",
      "Rejected: \t4\n",
      "Iteration: \t21 / 100\n",
      "Confirmed: \t16\n",
      "Tentative: \t8\n",
      "Rejected: \t4\n",
      "Iteration: \t22 / 100\n",
      "Confirmed: \t16\n",
      "Tentative: \t8\n",
      "Rejected: \t4\n",
      "Iteration: \t23 / 100\n",
      "Confirmed: \t16\n",
      "Tentative: \t8\n",
      "Rejected: \t4\n",
      "Iteration: \t24 / 100\n",
      "Confirmed: \t16\n",
      "Tentative: \t8\n",
      "Rejected: \t4\n",
      "Iteration: \t25 / 100\n",
      "Confirmed: \t16\n",
      "Tentative: \t8\n",
      "Rejected: \t4\n",
      "Iteration: \t26 / 100\n",
      "Confirmed: \t16\n",
      "Tentative: \t7\n",
      "Rejected: \t5\n",
      "Iteration: \t27 / 100\n",
      "Confirmed: \t16\n",
      "Tentative: \t7\n",
      "Rejected: \t5\n",
      "Iteration: \t28 / 100\n",
      "Confirmed: \t16\n",
      "Tentative: \t7\n",
      "Rejected: \t5\n",
      "Iteration: \t29 / 100\n",
      "Confirmed: \t16\n",
      "Tentative: \t7\n",
      "Rejected: \t5\n",
      "Iteration: \t30 / 100\n",
      "Confirmed: \t16\n",
      "Tentative: \t7\n",
      "Rejected: \t5\n",
      "Iteration: \t31 / 100\n",
      "Confirmed: \t16\n",
      "Tentative: \t7\n",
      "Rejected: \t5\n",
      "Iteration: \t32 / 100\n",
      "Confirmed: \t16\n",
      "Tentative: \t7\n",
      "Rejected: \t5\n",
      "Iteration: \t33 / 100\n",
      "Confirmed: \t16\n",
      "Tentative: \t7\n",
      "Rejected: \t5\n",
      "Iteration: \t34 / 100\n",
      "Confirmed: \t16\n",
      "Tentative: \t7\n",
      "Rejected: \t5\n",
      "Iteration: \t35 / 100\n",
      "Confirmed: \t16\n",
      "Tentative: \t7\n",
      "Rejected: \t5\n",
      "Iteration: \t36 / 100\n",
      "Confirmed: \t16\n",
      "Tentative: \t7\n",
      "Rejected: \t5\n",
      "Iteration: \t37 / 100\n",
      "Confirmed: \t16\n",
      "Tentative: \t7\n",
      "Rejected: \t5\n",
      "Iteration: \t38 / 100\n",
      "Confirmed: \t16\n",
      "Tentative: \t7\n",
      "Rejected: \t5\n",
      "Iteration: \t39 / 100\n",
      "Confirmed: \t16\n",
      "Tentative: \t7\n",
      "Rejected: \t5\n",
      "Iteration: \t40 / 100\n",
      "Confirmed: \t16\n",
      "Tentative: \t7\n",
      "Rejected: \t5\n",
      "Iteration: \t41 / 100\n",
      "Confirmed: \t16\n",
      "Tentative: \t7\n",
      "Rejected: \t5\n",
      "Iteration: \t42 / 100\n",
      "Confirmed: \t16\n",
      "Tentative: \t7\n",
      "Rejected: \t5\n",
      "Iteration: \t43 / 100\n",
      "Confirmed: \t16\n",
      "Tentative: \t6\n",
      "Rejected: \t6\n",
      "Iteration: \t44 / 100\n",
      "Confirmed: \t16\n",
      "Tentative: \t6\n",
      "Rejected: \t6\n",
      "Iteration: \t45 / 100\n",
      "Confirmed: \t16\n",
      "Tentative: \t6\n",
      "Rejected: \t6\n",
      "Iteration: \t46 / 100\n",
      "Confirmed: \t16\n",
      "Tentative: \t6\n",
      "Rejected: \t6\n",
      "Iteration: \t47 / 100\n",
      "Confirmed: \t16\n",
      "Tentative: \t6\n",
      "Rejected: \t6\n",
      "Iteration: \t48 / 100\n",
      "Confirmed: \t16\n",
      "Tentative: \t6\n",
      "Rejected: \t6\n",
      "Iteration: \t49 / 100\n",
      "Confirmed: \t16\n",
      "Tentative: \t6\n",
      "Rejected: \t6\n",
      "Iteration: \t50 / 100\n",
      "Confirmed: \t16\n",
      "Tentative: \t6\n",
      "Rejected: \t6\n",
      "Iteration: \t51 / 100\n",
      "Confirmed: \t16\n",
      "Tentative: \t5\n",
      "Rejected: \t7\n",
      "Iteration: \t52 / 100\n",
      "Confirmed: \t16\n",
      "Tentative: \t5\n",
      "Rejected: \t7\n",
      "Iteration: \t53 / 100\n",
      "Confirmed: \t16\n",
      "Tentative: \t5\n",
      "Rejected: \t7\n",
      "Iteration: \t54 / 100\n",
      "Confirmed: \t16\n",
      "Tentative: \t5\n",
      "Rejected: \t7\n",
      "Iteration: \t55 / 100\n",
      "Confirmed: \t16\n",
      "Tentative: \t5\n",
      "Rejected: \t7\n",
      "Iteration: \t56 / 100\n",
      "Confirmed: \t16\n",
      "Tentative: \t5\n",
      "Rejected: \t7\n",
      "Iteration: \t57 / 100\n",
      "Confirmed: \t16\n",
      "Tentative: \t5\n",
      "Rejected: \t7\n",
      "Iteration: \t58 / 100\n",
      "Confirmed: \t16\n",
      "Tentative: \t5\n",
      "Rejected: \t7\n",
      "Iteration: \t59 / 100\n",
      "Confirmed: \t16\n",
      "Tentative: \t5\n",
      "Rejected: \t7\n",
      "Iteration: \t60 / 100\n",
      "Confirmed: \t16\n",
      "Tentative: \t5\n",
      "Rejected: \t7\n",
      "Iteration: \t61 / 100\n",
      "Confirmed: \t16\n",
      "Tentative: \t5\n",
      "Rejected: \t7\n",
      "Iteration: \t62 / 100\n",
      "Confirmed: \t16\n",
      "Tentative: \t5\n",
      "Rejected: \t7\n",
      "Iteration: \t63 / 100\n",
      "Confirmed: \t16\n",
      "Tentative: \t5\n",
      "Rejected: \t7\n",
      "Iteration: \t64 / 100\n",
      "Confirmed: \t16\n",
      "Tentative: \t5\n",
      "Rejected: \t7\n",
      "Iteration: \t65 / 100\n",
      "Confirmed: \t16\n",
      "Tentative: \t5\n",
      "Rejected: \t7\n",
      "Iteration: \t66 / 100\n",
      "Confirmed: \t16\n",
      "Tentative: \t5\n",
      "Rejected: \t7\n",
      "Iteration: \t67 / 100\n",
      "Confirmed: \t16\n",
      "Tentative: \t5\n",
      "Rejected: \t7\n",
      "Iteration: \t68 / 100\n",
      "Confirmed: \t16\n",
      "Tentative: \t5\n",
      "Rejected: \t7\n",
      "Iteration: \t69 / 100\n",
      "Confirmed: \t16\n",
      "Tentative: \t5\n",
      "Rejected: \t7\n",
      "Iteration: \t70 / 100\n",
      "Confirmed: \t16\n",
      "Tentative: \t5\n",
      "Rejected: \t7\n",
      "Iteration: \t71 / 100\n",
      "Confirmed: \t16\n",
      "Tentative: \t5\n",
      "Rejected: \t7\n",
      "Iteration: \t72 / 100\n",
      "Confirmed: \t16\n",
      "Tentative: \t5\n",
      "Rejected: \t7\n",
      "Iteration: \t73 / 100\n",
      "Confirmed: \t16\n",
      "Tentative: \t5\n",
      "Rejected: \t7\n",
      "Iteration: \t74 / 100\n",
      "Confirmed: \t16\n",
      "Tentative: \t5\n",
      "Rejected: \t7\n",
      "Iteration: \t75 / 100\n",
      "Confirmed: \t16\n",
      "Tentative: \t5\n",
      "Rejected: \t7\n",
      "Iteration: \t76 / 100\n",
      "Confirmed: \t16\n",
      "Tentative: \t5\n",
      "Rejected: \t7\n",
      "Iteration: \t77 / 100\n",
      "Confirmed: \t16\n",
      "Tentative: \t5\n",
      "Rejected: \t7\n",
      "Iteration: \t78 / 100\n",
      "Confirmed: \t16\n",
      "Tentative: \t5\n",
      "Rejected: \t7\n",
      "Iteration: \t79 / 100\n",
      "Confirmed: \t16\n",
      "Tentative: \t5\n",
      "Rejected: \t7\n",
      "Iteration: \t80 / 100\n",
      "Confirmed: \t17\n",
      "Tentative: \t4\n",
      "Rejected: \t7\n",
      "Iteration: \t81 / 100\n",
      "Confirmed: \t17\n",
      "Tentative: \t4\n",
      "Rejected: \t7\n",
      "Iteration: \t82 / 100\n",
      "Confirmed: \t17\n",
      "Tentative: \t4\n",
      "Rejected: \t7\n",
      "Iteration: \t83 / 100\n",
      "Confirmed: \t17\n",
      "Tentative: \t4\n",
      "Rejected: \t7\n",
      "Iteration: \t84 / 100\n",
      "Confirmed: \t17\n",
      "Tentative: \t4\n",
      "Rejected: \t7\n",
      "Iteration: \t85 / 100\n",
      "Confirmed: \t17\n",
      "Tentative: \t4\n",
      "Rejected: \t7\n",
      "Iteration: \t86 / 100\n",
      "Confirmed: \t17\n",
      "Tentative: \t4\n",
      "Rejected: \t7\n",
      "Iteration: \t87 / 100\n",
      "Confirmed: \t17\n",
      "Tentative: \t4\n",
      "Rejected: \t7\n",
      "Iteration: \t88 / 100\n",
      "Confirmed: \t17\n",
      "Tentative: \t4\n",
      "Rejected: \t7\n",
      "Iteration: \t89 / 100\n",
      "Confirmed: \t17\n",
      "Tentative: \t4\n",
      "Rejected: \t7\n",
      "Iteration: \t90 / 100\n",
      "Confirmed: \t17\n",
      "Tentative: \t4\n",
      "Rejected: \t7\n",
      "Iteration: \t91 / 100\n",
      "Confirmed: \t17\n",
      "Tentative: \t4\n",
      "Rejected: \t7\n",
      "Iteration: \t92 / 100\n",
      "Confirmed: \t17\n",
      "Tentative: \t4\n",
      "Rejected: \t7\n",
      "Iteration: \t93 / 100\n",
      "Confirmed: \t17\n",
      "Tentative: \t4\n",
      "Rejected: \t7\n",
      "Iteration: \t94 / 100\n",
      "Confirmed: \t17\n",
      "Tentative: \t4\n",
      "Rejected: \t7\n",
      "Iteration: \t95 / 100\n",
      "Confirmed: \t17\n",
      "Tentative: \t4\n",
      "Rejected: \t7\n",
      "Iteration: \t96 / 100\n",
      "Confirmed: \t17\n",
      "Tentative: \t4\n",
      "Rejected: \t7\n",
      "Iteration: \t97 / 100\n",
      "Confirmed: \t17\n",
      "Tentative: \t4\n",
      "Rejected: \t7\n",
      "Iteration: \t98 / 100\n",
      "Confirmed: \t17\n",
      "Tentative: \t4\n",
      "Rejected: \t7\n",
      "Iteration: \t99 / 100\n",
      "Confirmed: \t17\n",
      "Tentative: \t4\n",
      "Rejected: \t7\n",
      "\n",
      "\n",
      "BorutaPy finished running.\n",
      "\n",
      "Iteration: \t100 / 100\n",
      "Confirmed: \t17\n",
      "Tentative: \t1\n",
      "Rejected: \t7\n"
     ]
    },
    {
     "data": {
      "text/plain": [
       "BorutaPy(estimator=RandomForestClassifier(max_depth=8, min_samples_split=0.3,\n",
       "                                          n_estimators=81, n_jobs=-1,\n",
       "                                          random_state=RandomState(MT19937) at 0x7FB4D499D270),\n",
       "         n_estimators='auto', perc=90,\n",
       "         random_state=RandomState(MT19937) at 0x7FB4D499D270, verbose=2)"
      ]
     },
     "execution_count": 9,
     "metadata": {},
     "output_type": "execute_result"
    }
   ],
   "source": [
    "boruta.fit(np.array(X_claim), np.array(Y_claim))"
   ]
  },
  {
   "cell_type": "code",
   "execution_count": 10,
   "metadata": {},
   "outputs": [
    {
     "data": {
      "text/plain": [
       "['AmtReimbursed',\n",
       " 'DeductibleAmt',\n",
       " 'Is_inpatient',\n",
       " 'Age',\n",
       " 'Race',\n",
       " 'State',\n",
       " 'County',\n",
       " 'Chronic_Heartfailure',\n",
       " 'Chronic_KidneyDisease',\n",
       " 'Chronic_ObstrPulmonary',\n",
       " 'NumOfClaimDays',\n",
       " 'DiagnosisCode_Num',\n",
       " 'ProcedureCode_Num',\n",
       " 'ChronicDisease_Num',\n",
       " 'PhysiciansNum',\n",
       " 'AdmitDiagnosInDiagnos',\n",
       " 'FullYearPlanA']"
      ]
     },
     "execution_count": 10,
     "metadata": {},
     "output_type": "execute_result"
    }
   ],
   "source": [
    "X_claim.columns[boruta.support_].to_list()"
   ]
  },
  {
   "cell_type": "code",
   "execution_count": 11,
   "metadata": {},
   "outputs": [],
   "source": [
    "features = X_claim.columns[boruta.support_].to_list()\n",
    "X = X_claim[features]\n",
    "Y = Y_claim"
   ]
  },
  {
   "cell_type": "markdown",
   "metadata": {},
   "source": [
    "# KNN Model"
   ]
  },
  {
   "cell_type": "code",
   "execution_count": 12,
   "metadata": {},
   "outputs": [
    {
     "data": {
      "text/plain": [
       "(390747, 17)"
      ]
     },
     "execution_count": 12,
     "metadata": {},
     "output_type": "execute_result"
    }
   ],
   "source": [
    "from sklearn.feature_extraction.text import CountVectorizer\n",
    "from sklearn.model_selection import train_test_split\n",
    "from sklearn.neighbors import KNeighborsClassifier\n",
    "from sklearn import metrics\n",
    "from sklearn.metrics import mean_squared_error\n",
    "from sklearn.metrics import accuracy_score\n",
    "\n",
    "train = 0.7\n",
    "test = 0.15\n",
    "validation = 0.15\n",
    "X_train, X_temp, Y_train, Y_temp =train_test_split(X, Y,train_size = train)\n",
    "X_test, X_validation,Y_test, Y_validation = train_test_split(X_temp,Y_temp,test_size = test/(test+validation))\n",
    "X_train.shape"
   ]
  },
  {
   "cell_type": "code",
   "execution_count": 13,
   "metadata": {},
   "outputs": [],
   "source": [
    "# # Vectorize training data\n",
    "# vectorizer = CountVectorizer()\n",
    "# X_train = vectorizer.fit_transform(X_train)"
   ]
  },
  {
   "cell_type": "code",
   "execution_count": 14,
   "metadata": {},
   "outputs": [
    {
     "data": {
      "text/plain": [
       "(390747, 17)"
      ]
     },
     "execution_count": 14,
     "metadata": {},
     "output_type": "execute_result"
    }
   ],
   "source": [
    "X_train.shape"
   ]
  },
  {
   "cell_type": "code",
   "execution_count": 50,
   "metadata": {},
   "outputs": [
    {
     "data": {
      "text/plain": [
       "(390747,)"
      ]
     },
     "execution_count": 50,
     "metadata": {},
     "output_type": "execute_result"
    }
   ],
   "source": [
    "Y_train.shape"
   ]
  },
  {
   "cell_type": "code",
   "execution_count": 15,
   "metadata": {
    "scrolled": true
   },
   "outputs": [],
   "source": [
    "train_accuracy = []\n",
    "validation_accuracy = []\n",
    "for k in range(1,6):\n",
    "    knn = KNeighborsClassifier(n_neighbors=k)\n",
    "    knn.fit(X_train, Y_train)\n",
    "    train_prediction = knn.predict(X_train)\n",
    "    validation_prediction = knn.predict(X_validation)\n",
    "    train_accuracy.append(metrics.accuracy_score(Y_train, train_prediction))\n",
    "    validation_accuracy.append(accuracy_score(Y_validation,validation_prediction))"
   ]
  },
  {
   "cell_type": "code",
   "execution_count": 16,
   "metadata": {},
   "outputs": [
    {
     "data": {
      "image/png": "[encoded data removed]",
      "text/plain": [
       "<Figure size 432x288 with 1 Axes>"
      ]
     },
     "metadata": {
      "needs_background": "light"
     },
     "output_type": "display_data"
    }
   ],
   "source": [
    "k = np.arange(1,6)\n",
    "plt.plot(k, validation_accuracy, label = \"validation\")\n",
    "plt.plot(k, train_accuracy, label = \"training\")\n",
    "plt.xticks(np.arange(1, 6, 1.0))\n",
    "plt.xlabel(\"k\")\n",
    "plt.ylabel('accuracy')\n",
    "plt.legend()\n",
    "plt.title(\"Training and Validation accuracy over 5 k's\")\n",
    "plt.show()"
   ]
  },
  {
   "cell_type": "code",
   "execution_count": 17,
   "metadata": {},
   "outputs": [
    {
     "name": "stdout",
     "output_type": "stream",
     "text": [
      "The k value that maximizes the validation accuracy is 4\n"
     ]
    },
    {
     "data": {
      "text/plain": [
       "0.674150862274877"
      ]
     },
     "execution_count": 17,
     "metadata": {},
     "output_type": "execute_result"
    }
   ],
   "source": [
    "print(\"The k value that maximizes the validation accuracy is {}\".format(np.argmax(validation_accuracy)+1))\n",
    "max(validation_accuracy)"
   ]
  },
  {
   "cell_type": "code",
   "execution_count": 18,
   "metadata": {},
   "outputs": [
    {
     "name": "stdout",
     "output_type": "stream",
     "text": [
      "0.6729804614723165\n"
     ]
    }
   ],
   "source": [
    "k = 4\n",
    "knn = KNeighborsClassifier(n_neighbors=k)\n",
    "knn.fit(X_train, Y_train)\n",
    "test_prediction = knn.predict(X_test)\n",
    "accuracy = accuracy_score(Y_test, test_prediction)\n",
    "print(accuracy)"
   ]
  },
  {
   "cell_type": "code",
   "execution_count": 19,
   "metadata": {},
   "outputs": [],
   "source": [
    "train_error = []\n",
    "validation_error = []\n",
    "train_accuracy = []\n",
    "validation_accuracy = []\n",
    "for k in range(1,6):\n",
    "    knn = KNeighborsClassifier(n_neighbors=k, metric='cosine')\n",
    "    knn.fit(X_train, Y_train)\n",
    "    train_prediction = knn.predict(X_train)\n",
    "    train_mse = mean_squared_error(Y_train, train_prediction)\n",
    "    train_error.append(np.sqrt(train_mse))\n",
    "    validation_prediction = knn.predict(X_validation)\n",
    "    validation_mse = mean_squared_error(Y_validation, validation_prediction)\n",
    "    validation_error.append(np.sqrt(validation_mse))\n",
    "    train_accuracy.append(metrics.accuracy_score(Y_train, train_prediction))\n",
    "    validation_accuracy.append(accuracy_score(Y_validation, validation_prediction))"
   ]
  },
  {
   "cell_type": "code",
   "execution_count": 20,
   "metadata": {},
   "outputs": [
    {
     "data": {
      "image/png": "[encoded data removed]",
      "text/plain": [
       "<Figure size 432x288 with 1 Axes>"
      ]
     },
     "metadata": {
      "needs_background": "light"
     },
     "output_type": "display_data"
    }
   ],
   "source": [
    "k = np.arange(1,6)\n",
    "plt.plot(k, validation_accuracy, label = \"validation\")\n",
    "plt.plot(k, train_accuracy, label = \"training\")\n",
    "plt.xticks(np.arange(1, 6, 1.0))\n",
    "plt.xlabel(\"k\")\n",
    "plt.ylabel('accuracy')\n",
    "plt.legend()\n",
    "plt.title(\"Training and Validation accuracy over 5 k's with metric= cosine\")\n",
    "plt.show()"
   ]
  },
  {
   "cell_type": "code",
   "execution_count": 21,
   "metadata": {},
   "outputs": [
    {
     "name": "stdout",
     "output_type": "stream",
     "text": [
      "The k value that maximizes the validation accuracy is 4\n"
     ]
    },
    {
     "data": {
      "text/plain": [
       "0.6474466153919648"
      ]
     },
     "execution_count": 21,
     "metadata": {},
     "output_type": "execute_result"
    }
   ],
   "source": [
    "print(\"The k value that maximizes the validation accuracy is {}\".format(np.argmax(validation_accuracy)+1))\n",
    "max(validation_accuracy)"
   ]
  }
 ],
 "metadata": {
  "kernelspec": {
   "display_name": "Python 3",
   "language": "python",
   "name": "python3"
  },
  "language_info": {
   "codemirror_mode": {
    "name": "ipython",
    "version": 3
   },
   "file_extension": ".py",
   "mimetype": "text/x-python",
   "name": "python",
   "nbconvert_exporter": "python",
   "pygments_lexer": "ipython3",
   "version": "3.7.6"
  }
 },
 "nbformat": 4,
 "nbformat_minor": 4
}
