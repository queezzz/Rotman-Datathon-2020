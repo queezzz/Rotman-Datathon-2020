{
 "cells": [
  {
   "cell_type": "code",
   "execution_count": 4,
   "metadata": {},
   "outputs": [],
   "source": [
    "import numpy as np\n",
    "import pandas as pd \n",
    "import matplotlib as plt \n",
    "%matplotlib inline "
   ]
  },
  {
   "cell_type": "code",
   "execution_count": 5,
   "metadata": {},
   "outputs": [],
   "source": [
    "## read dataset\n",
    "benef = pd.read_csv('./Datathon2020data/beneficiary.csv')\n",
    "inpatient = pd.read_csv('./Datathon2020data/inpatients.csv')\n",
    "outpatient = pd.read_csv('./Datathon2020data/outpatients.csv')\n",
    "provider = pd.read_csv('./Datathon2020data/providers.csv')"
   ]
  },
  {
   "cell_type": "code",
   "execution_count": 6,
   "metadata": {},
   "outputs": [],
   "source": [
    "## merging inpatient and outpatient and label with type\n",
    "inpatient['Is_inpatient'] = 1\n",
    "outpatient['Is_inpatient'] = 0\n",
    "claims = pd.concat([inpatient, outpatient], axis=0)  \n",
    "\n",
    "# label with fraud info\n",
    "claims = pd.merge(claims, provider, on='PID')"
   ]
  },
  {
   "cell_type": "code",
   "execution_count": 7,
   "metadata": {},
   "outputs": [],
   "source": [
    "# add beneficiary info for claims\n",
    "all_info = pd.merge(claims, benef, on='BID', how='left')"
   ]
  },
  {
   "cell_type": "code",
   "execution_count": 8,
   "metadata": {},
   "outputs": [],
   "source": [
    "# Convert date columns to data types\n",
    "date_cols = ['StartDt','EndDt', 'DOB', 'DOD', 'AdmissionDt']\n",
    "for i in date_cols: \n",
    "    all_info[i] = pd.to_datetime(all_info[i])"
   ]
  },
  {
   "cell_type": "code",
   "execution_count": 9,
   "metadata": {},
   "outputs": [],
   "source": [
    "# New Variables depends on Dates\n",
    "all_info['NumOfClaimDays'] = (all_info['EndDt'] - all_info['StartDt']).apply(lambda x:x.days)\n",
    "all_info['Age'] = (all_info['StartDt'] - all_info['DOB']).apply(lambda x:x.days)\n",
    "all_info['Death_age'] = (all_info['DOD'] - all_info['DOB']).apply(lambda x:(x.days)/365)"
   ]
  },
  {
   "cell_type": "code",
   "execution_count": 10,
   "metadata": {},
   "outputs": [],
   "source": [
    "# output full df\n",
    "#all_info.to_csv(\"./Datathon2020data/full_data.csv\", index=False) "
   ]
  },
  {
   "cell_type": "code",
   "execution_count": 11,
   "metadata": {},
   "outputs": [],
   "source": [
    "## Drop useless columns - CID, StartDt, EndDt"
   ]
  },
  {
   "cell_type": "code",
   "execution_count": 12,
   "metadata": {},
   "outputs": [],
   "source": [
    "all_info['DiagnosisCode_Num'] = all_info.loc[:, 'DiagnosisCode_1':'DiagnosisCode_10'].count(axis=1)\n",
    "all_info['ProcedureCode_Num'] = all_info.loc[:, 'ProcedureCode_1':'ProcedureCode_6'].count(axis=1)"
   ]
  },
  {
   "cell_type": "code",
   "execution_count": 13,
   "metadata": {},
   "outputs": [],
   "source": [
    "##Convert Yes/No Categories into binary variables\n",
    "\n",
    "#chronic diseases\n",
    "\n",
    "diseases = ['Chronic_Alzheimer',\n",
    "       'Chronic_Heartfailure', 'Chronic_KidneyDisease', 'Chronic_Cancer',\n",
    "       'Chronic_ObstrPulmonary', 'Chronic_Depression', 'Chronic_Diabetes',\n",
    "       'Chronic_IschemicHeart', 'Chronic_Osteoporasis',\n",
    "       'Chronic_rheumatoidarthritis', 'Chronic_stroke']\n",
    "\n",
    "for i in diseases: \n",
    "    all_info[i] = all_info[i]-1"
   ]
  },
  {
   "cell_type": "code",
   "execution_count": 14,
   "metadata": {},
   "outputs": [],
   "source": [
    "all_info['ChronicDisease_Num'] = all_info.loc[:,'Chronic_Alzheimer':'Chronic_stroke'].sum(axis=1)"
   ]
  },
  {
   "cell_type": "code",
   "execution_count": 15,
   "metadata": {},
   "outputs": [],
   "source": [
    "all_info['RenalDisease'] = pd.to_numeric(all_info['RenalDisease'].replace('Y', 1))"
   ]
  },
  {
   "cell_type": "code",
   "execution_count": 16,
   "metadata": {},
   "outputs": [],
   "source": [
    "all_info['Fraud'] = pd.to_numeric(all_info['Fraud'].replace({'Yes':1, 'No':0}))"
   ]
  },
  {
   "cell_type": "code",
   "execution_count": 17,
   "metadata": {},
   "outputs": [],
   "source": [
    "all_info['AdmitDiagnosInDiagnos'] = ((all_info['AdmitDiagnosisCode'] == all_info['DiagnosisGroupCode']) |\n",
    "(all_info['AdmitDiagnosisCode'] == all_info['DiagnosisCode_1']) |\n",
    "(all_info['AdmitDiagnosisCode'] == all_info['DiagnosisCode_2'])|\n",
    "(all_info['AdmitDiagnosisCode'] == all_info['DiagnosisCode_3'])|\n",
    "(all_info['AdmitDiagnosisCode'] == all_info['DiagnosisCode_4'])|\n",
    " (all_info['AdmitDiagnosisCode'] == all_info['DiagnosisCode_5']) |\n",
    " (all_info['AdmitDiagnosisCode'] == all_info['DiagnosisCode_6']) |\n",
    " (all_info['AdmitDiagnosisCode'] == all_info['DiagnosisCode_7']) |\n",
    " (all_info['AdmitDiagnosisCode'] == all_info['DiagnosisCode_8']) |\n",
    " (all_info['AdmitDiagnosisCode'] == all_info['DiagnosisCode_9']) |\n",
    " (all_info['AdmitDiagnosisCode'] == all_info['DiagnosisCode_10']))"
   ]
  },
  {
   "cell_type": "code",
   "execution_count": 18,
   "metadata": {
    "scrolled": true
   },
   "outputs": [
    {
     "name": "stdout",
     "output_type": "stream",
     "text": [
      "<class 'pandas.core.frame.DataFrame'>\n",
      "Int64Index: 558211 entries, 0 to 558210\n",
      "Data columns (total 63 columns):\n",
      " #   Column                            Non-Null Count   Dtype         \n",
      "---  ------                            --------------   -----         \n",
      " 0   BID                               558211 non-null  object        \n",
      " 1   CID                               558211 non-null  object        \n",
      " 2   StartDt                           558211 non-null  datetime64[ns]\n",
      " 3   EndDt                             558211 non-null  datetime64[ns]\n",
      " 4   PID                               558211 non-null  object        \n",
      " 5   AmtReimbursed                     558211 non-null  int64         \n",
      " 6   AttendingPhysician                556703 non-null  object        \n",
      " 7   OperatingPhysician                114447 non-null  object        \n",
      " 8   OtherPhysician                    199736 non-null  object        \n",
      " 9   AdmissionDt                       40474 non-null   datetime64[ns]\n",
      " 10  AdmitDiagnosisCode                145899 non-null  object        \n",
      " 11  DeductibleAmt                     557312 non-null  float64       \n",
      " 12  DischargeDt                       40474 non-null   object        \n",
      " 13  DiagnosisGroupCode                40474 non-null   object        \n",
      " 14  DiagnosisCode_1                   547758 non-null  object        \n",
      " 15  DiagnosisCode_2                   362605 non-null  object        \n",
      " 16  DiagnosisCode_3                   243055 non-null  object        \n",
      " 17  DiagnosisCode_4                   164536 non-null  object        \n",
      " 18  DiagnosisCode_5                   111924 non-null  object        \n",
      " 19  DiagnosisCode_6                   84392 non-null   object        \n",
      " 20  DiagnosisCode_7                   66177 non-null   object        \n",
      " 21  DiagnosisCode_8                   53444 non-null   object        \n",
      " 22  DiagnosisCode_9                   41815 non-null   object        \n",
      " 23  DiagnosisCode_10                  5010 non-null    object        \n",
      " 24  ProcedureCode_1                   23310 non-null   float64       \n",
      " 25  ProcedureCode_2                   5490 non-null    float64       \n",
      " 26  ProcedureCode_3                   969 non-null     float64       \n",
      " 27  ProcedureCode_4                   118 non-null     float64       \n",
      " 28  ProcedureCode_5                   9 non-null       float64       \n",
      " 29  ProcedureCode_6                   0 non-null       float64       \n",
      " 30  Is_inpatient                      558211 non-null  int64         \n",
      " 31  Fraud                             558211 non-null  int64         \n",
      " 32  DOB                               558211 non-null  datetime64[ns]\n",
      " 33  DOD                               4131 non-null    datetime64[ns]\n",
      " 34  Gender                            558211 non-null  int64         \n",
      " 35  Race                              558211 non-null  int64         \n",
      " 36  RenalDisease                      558211 non-null  int64         \n",
      " 37  State                             558211 non-null  int64         \n",
      " 38  County                            558211 non-null  int64         \n",
      " 39  NumOfMonths_PartACov              558211 non-null  int64         \n",
      " 40  NumOfMonths_PartBCov              558211 non-null  int64         \n",
      " 41  Chronic_Alzheimer                 558211 non-null  int64         \n",
      " 42  Chronic_Heartfailure              558211 non-null  int64         \n",
      " 43  Chronic_KidneyDisease             558211 non-null  int64         \n",
      " 44  Chronic_Cancer                    558211 non-null  int64         \n",
      " 45  Chronic_ObstrPulmonary            558211 non-null  int64         \n",
      " 46  Chronic_Depression                558211 non-null  int64         \n",
      " 47  Chronic_Diabetes                  558211 non-null  int64         \n",
      " 48  Chronic_IschemicHeart             558211 non-null  int64         \n",
      " 49  Chronic_Osteoporasis              558211 non-null  int64         \n",
      " 50  Chronic_rheumatoidarthritis       558211 non-null  int64         \n",
      " 51  Chronic_stroke                    558211 non-null  int64         \n",
      " 52  InpatientAnnualReimbursementAmt   558211 non-null  int64         \n",
      " 53  InpatientAnnualDeductibleAmt      558211 non-null  int64         \n",
      " 54  OutpatientAnnualReimbursementAmt  558211 non-null  int64         \n",
      " 55  OutpatientAnnualDeductibleAmt     558211 non-null  int64         \n",
      " 56  NumOfClaimDays                    558211 non-null  int64         \n",
      " 57  Age                               558211 non-null  int64         \n",
      " 58  Death_age                         4131 non-null    float64       \n",
      " 59  DiagnosisCode_Num                 558211 non-null  int64         \n",
      " 60  ProcedureCode_Num                 558211 non-null  int64         \n",
      " 61  ChronicDisease_Num                558211 non-null  int64         \n",
      " 62  AdmitDiagnosInDiagnos             558211 non-null  bool          \n",
      "dtypes: bool(1), datetime64[ns](5), float64(8), int64(30), object(19)\n",
      "memory usage: 268.8+ MB\n"
     ]
    }
   ],
   "source": [
    "all_info.info()"
   ]
  },
  {
   "cell_type": "markdown",
   "metadata": {},
   "source": [
    "### Physician Checks "
   ]
  },
  {
   "cell_type": "code",
   "execution_count": 19,
   "metadata": {},
   "outputs": [],
   "source": [
    "phys_check = all_info.groupby(['AttendingPhysician']).agg(claims_num=('Fraud','count'),\n",
    "                                                     is_fraud=('Fraud',sum))"
   ]
  },
  {
   "cell_type": "code",
   "execution_count": 20,
   "metadata": {},
   "outputs": [],
   "source": [
    "phys_check['new_PID'] = phys_check['claims_num']>phys_check['is_fraud']"
   ]
  },
  {
   "cell_type": "code",
   "execution_count": 21,
   "metadata": {},
   "outputs": [
    {
     "data": {
      "text/plain": [
       "62969"
      ]
     },
     "execution_count": 21,
     "metadata": {},
     "output_type": "execute_result"
    }
   ],
   "source": [
    "phys_check['new_PID'].sum()"
   ]
  },
  {
   "cell_type": "code",
   "execution_count": null,
   "metadata": {},
   "outputs": [],
   "source": [
    "### physician work in provider, provider got flagged, physicians go to new PID "
   ]
  },
  {
   "cell_type": "code",
   "execution_count": 22,
   "metadata": {},
   "outputs": [
    {
     "ename": "ValueError",
     "evalue": "Could not find plotting backend 'plotly'. Ensure that you've installed the package providing the 'plotly' entrypoint, or that the package has a top-level `.plot` method.",
     "output_type": "error",
     "traceback": [
      "\u001b[0;31m---------------------------------------------------------------------------\u001b[0m",
      "\u001b[0;31mValueError\u001b[0m                                Traceback (most recent call last)",
      "\u001b[0;32m<ipython-input-22-c1c1a8f6a435>\u001b[0m in \u001b[0;36m<module>\u001b[0;34m()\u001b[0m\n\u001b[0;32m----> 1\u001b[0;31m \u001b[0mpd\u001b[0m\u001b[0;34m.\u001b[0m\u001b[0moptions\u001b[0m\u001b[0;34m.\u001b[0m\u001b[0mplotting\u001b[0m\u001b[0;34m.\u001b[0m\u001b[0mbackend\u001b[0m \u001b[0;34m=\u001b[0m \u001b[0;34m\"plotly\"\u001b[0m\u001b[0;34m\u001b[0m\u001b[0;34m\u001b[0m\u001b[0m\n\u001b[0m",
      "\u001b[0;32m~/anaconda3/lib/python3.6/site-packages/pandas/_config/config.py\u001b[0m in \u001b[0;36m__setattr__\u001b[0;34m(self, key, val)\u001b[0m\n\u001b[1;32m    194\u001b[0m         \u001b[0;31m# can you can't overwrite subtrees\u001b[0m\u001b[0;34m\u001b[0m\u001b[0;34m\u001b[0m\u001b[0;34m\u001b[0m\u001b[0m\n\u001b[1;32m    195\u001b[0m         \u001b[0;32mif\u001b[0m \u001b[0mkey\u001b[0m \u001b[0;32min\u001b[0m \u001b[0mself\u001b[0m\u001b[0;34m.\u001b[0m\u001b[0md\u001b[0m \u001b[0;32mand\u001b[0m \u001b[0;32mnot\u001b[0m \u001b[0misinstance\u001b[0m\u001b[0;34m(\u001b[0m\u001b[0mself\u001b[0m\u001b[0;34m.\u001b[0m\u001b[0md\u001b[0m\u001b[0;34m[\u001b[0m\u001b[0mkey\u001b[0m\u001b[0;34m]\u001b[0m\u001b[0;34m,\u001b[0m \u001b[0mdict\u001b[0m\u001b[0;34m)\u001b[0m\u001b[0;34m:\u001b[0m\u001b[0;34m\u001b[0m\u001b[0;34m\u001b[0m\u001b[0m\n\u001b[0;32m--> 196\u001b[0;31m             \u001b[0m_set_option\u001b[0m\u001b[0;34m(\u001b[0m\u001b[0mprefix\u001b[0m\u001b[0;34m,\u001b[0m \u001b[0mval\u001b[0m\u001b[0;34m)\u001b[0m\u001b[0;34m\u001b[0m\u001b[0;34m\u001b[0m\u001b[0m\n\u001b[0m\u001b[1;32m    197\u001b[0m         \u001b[0;32melse\u001b[0m\u001b[0;34m:\u001b[0m\u001b[0;34m\u001b[0m\u001b[0;34m\u001b[0m\u001b[0m\n\u001b[1;32m    198\u001b[0m             \u001b[0;32mraise\u001b[0m \u001b[0mOptionError\u001b[0m\u001b[0;34m(\u001b[0m\u001b[0;34m\"You can only set the value of existing options\"\u001b[0m\u001b[0;34m)\u001b[0m\u001b[0;34m\u001b[0m\u001b[0;34m\u001b[0m\u001b[0m\n",
      "\u001b[0;32m~/anaconda3/lib/python3.6/site-packages/pandas/_config/config.py\u001b[0m in \u001b[0;36m_set_option\u001b[0;34m(*args, **kwargs)\u001b[0m\n\u001b[1;32m    128\u001b[0m         \u001b[0mo\u001b[0m \u001b[0;34m=\u001b[0m \u001b[0m_get_registered_option\u001b[0m\u001b[0;34m(\u001b[0m\u001b[0mkey\u001b[0m\u001b[0;34m)\u001b[0m\u001b[0;34m\u001b[0m\u001b[0;34m\u001b[0m\u001b[0m\n\u001b[1;32m    129\u001b[0m         \u001b[0;32mif\u001b[0m \u001b[0mo\u001b[0m \u001b[0;32mand\u001b[0m \u001b[0mo\u001b[0m\u001b[0;34m.\u001b[0m\u001b[0mvalidator\u001b[0m\u001b[0;34m:\u001b[0m\u001b[0;34m\u001b[0m\u001b[0;34m\u001b[0m\u001b[0m\n\u001b[0;32m--> 130\u001b[0;31m             \u001b[0mo\u001b[0m\u001b[0;34m.\u001b[0m\u001b[0mvalidator\u001b[0m\u001b[0;34m(\u001b[0m\u001b[0mv\u001b[0m\u001b[0;34m)\u001b[0m\u001b[0;34m\u001b[0m\u001b[0;34m\u001b[0m\u001b[0m\n\u001b[0m\u001b[1;32m    131\u001b[0m \u001b[0;34m\u001b[0m\u001b[0m\n\u001b[1;32m    132\u001b[0m         \u001b[0;31m# walk the nested dict\u001b[0m\u001b[0;34m\u001b[0m\u001b[0;34m\u001b[0m\u001b[0;34m\u001b[0m\u001b[0m\n",
      "\u001b[0;32m~/anaconda3/lib/python3.6/site-packages/pandas/core/config_init.py\u001b[0m in \u001b[0;36mregister_plotting_backend_cb\u001b[0;34m(key)\u001b[0m\n\u001b[1;32m    642\u001b[0m     \u001b[0;32mfrom\u001b[0m \u001b[0mpandas\u001b[0m\u001b[0;34m.\u001b[0m\u001b[0mplotting\u001b[0m\u001b[0;34m.\u001b[0m\u001b[0m_core\u001b[0m \u001b[0;32mimport\u001b[0m \u001b[0m_get_plot_backend\u001b[0m\u001b[0;34m\u001b[0m\u001b[0;34m\u001b[0m\u001b[0m\n\u001b[1;32m    643\u001b[0m \u001b[0;34m\u001b[0m\u001b[0m\n\u001b[0;32m--> 644\u001b[0;31m     \u001b[0m_get_plot_backend\u001b[0m\u001b[0;34m(\u001b[0m\u001b[0mkey\u001b[0m\u001b[0;34m)\u001b[0m\u001b[0;34m\u001b[0m\u001b[0;34m\u001b[0m\u001b[0m\n\u001b[0m\u001b[1;32m    645\u001b[0m \u001b[0;34m\u001b[0m\u001b[0m\n\u001b[1;32m    646\u001b[0m \u001b[0;34m\u001b[0m\u001b[0m\n",
      "\u001b[0;32m~/anaconda3/lib/python3.6/site-packages/pandas/plotting/_core.py\u001b[0m in \u001b[0;36m_get_plot_backend\u001b[0;34m(backend)\u001b[0m\n\u001b[1;32m   1788\u001b[0m         \u001b[0;32mreturn\u001b[0m \u001b[0m_backends\u001b[0m\u001b[0;34m[\u001b[0m\u001b[0mbackend\u001b[0m\u001b[0;34m]\u001b[0m\u001b[0;34m\u001b[0m\u001b[0;34m\u001b[0m\u001b[0m\n\u001b[1;32m   1789\u001b[0m \u001b[0;34m\u001b[0m\u001b[0m\n\u001b[0;32m-> 1790\u001b[0;31m     \u001b[0mmodule\u001b[0m \u001b[0;34m=\u001b[0m \u001b[0m_find_backend\u001b[0m\u001b[0;34m(\u001b[0m\u001b[0mbackend\u001b[0m\u001b[0;34m)\u001b[0m\u001b[0;34m\u001b[0m\u001b[0;34m\u001b[0m\u001b[0m\n\u001b[0m\u001b[1;32m   1791\u001b[0m     \u001b[0m_backends\u001b[0m\u001b[0;34m[\u001b[0m\u001b[0mbackend\u001b[0m\u001b[0;34m]\u001b[0m \u001b[0;34m=\u001b[0m \u001b[0mmodule\u001b[0m\u001b[0;34m\u001b[0m\u001b[0;34m\u001b[0m\u001b[0m\n\u001b[1;32m   1792\u001b[0m     \u001b[0;32mreturn\u001b[0m \u001b[0mmodule\u001b[0m\u001b[0;34m\u001b[0m\u001b[0;34m\u001b[0m\u001b[0m\n",
      "\u001b[0;32m~/anaconda3/lib/python3.6/site-packages/pandas/plotting/_core.py\u001b[0m in \u001b[0;36m_find_backend\u001b[0;34m(backend)\u001b[0m\n\u001b[1;32m   1751\u001b[0m \u001b[0;34m\u001b[0m\u001b[0m\n\u001b[1;32m   1752\u001b[0m     raise ValueError(\n\u001b[0;32m-> 1753\u001b[0;31m         \u001b[0;34mf\"Could not find plotting backend '{backend}'. Ensure that you've installed \"\u001b[0m\u001b[0;34m\u001b[0m\u001b[0;34m\u001b[0m\u001b[0m\n\u001b[0m\u001b[1;32m   1754\u001b[0m         \u001b[0;34mf\"the package providing the '{backend}' entrypoint, or that the package has a \"\u001b[0m\u001b[0;34m\u001b[0m\u001b[0;34m\u001b[0m\u001b[0m\n\u001b[1;32m   1755\u001b[0m         \u001b[0;34m\"top-level `.plot` method.\"\u001b[0m\u001b[0;34m\u001b[0m\u001b[0;34m\u001b[0m\u001b[0m\n",
      "\u001b[0;31mValueError\u001b[0m: Could not find plotting backend 'plotly'. Ensure that you've installed the package providing the 'plotly' entrypoint, or that the package has a top-level `.plot` method."
     ]
    }
   ],
   "source": [
    "pd.options.plotting.backend = \"plotly\""
   ]
  },
  {
   "cell_type": "code",
   "execution_count": null,
   "metadata": {},
   "outputs": [],
   "source": []
  },
  {
   "cell_type": "code",
   "execution_count": null,
   "metadata": {},
   "outputs": [],
   "source": []
  },
  {
   "cell_type": "markdown",
   "metadata": {},
   "source": [
    "### Random Checks"
   ]
  },
  {
   "cell_type": "code",
   "execution_count": 121,
   "metadata": {},
   "outputs": [
    {
     "data": {
      "text/plain": [
       "8274"
      ]
     },
     "execution_count": 121,
     "metadata": {},
     "output_type": "execute_result"
    }
   ],
   "source": [
    "all_info[((all_info['AdmitDiagnosisCode'] == all_info['DiagnosisGroupCode']) |\n",
    "(all_info['AdmitDiagnosisCode'] == all_info['DiagnosisCode_1']) |\n",
    "(all_info['AdmitDiagnosisCode'] == all_info['DiagnosisCode_2'])|\n",
    "(all_info['AdmitDiagnosisCode'] == all_info['DiagnosisCode_3'])|\n",
    "(all_info['AdmitDiagnosisCode'] == all_info['DiagnosisCode_4'])|\n",
    " (all_info['AdmitDiagnosisCode'] == all_info['DiagnosisCode_5']) |\n",
    " (all_info['AdmitDiagnosisCode'] == all_info['DiagnosisCode_6']) |\n",
    " (all_info['AdmitDiagnosisCode'] == all_info['DiagnosisCode_7']) |\n",
    " (all_info['AdmitDiagnosisCode'] == all_info['DiagnosisCode_8']) |\n",
    " (all_info['AdmitDiagnosisCode'] == all_info['DiagnosisCode_9']) |\n",
    " (all_info['AdmitDiagnosisCode'] == all_info['DiagnosisCode_10']))]['Fraud'].sum()"
   ]
  },
  {
   "cell_type": "code",
   "execution_count": 120,
   "metadata": {},
   "outputs": [
    {
     "data": {
      "text/plain": [
       "9835"
      ]
     },
     "execution_count": 120,
     "metadata": {},
     "output_type": "execute_result"
    }
   ],
   "source": [
    "all_info[((all_info['AdmitDiagnosisCode'] == all_info['DiagnosisGroupCode']) |\n",
    "(all_info['AdmitDiagnosisCode'] == all_info['DiagnosisCode_1']) |\n",
    "(all_info['AdmitDiagnosisCode'] == all_info['DiagnosisCode_2'])|\n",
    "(all_info['AdmitDiagnosisCode'] == all_info['DiagnosisCode_3'])|\n",
    "(all_info['AdmitDiagnosisCode'] == all_info['DiagnosisCode_4'])|\n",
    " (all_info['AdmitDiagnosisCode'] == all_info['DiagnosisCode_5']) |\n",
    " (all_info['AdmitDiagnosisCode'] == all_info['DiagnosisCode_6']) |\n",
    " (all_info['AdmitDiagnosisCode'] == all_info['DiagnosisCode_7']) |\n",
    " (all_info['AdmitDiagnosisCode'] == all_info['DiagnosisCode_8']) |\n",
    " (all_info['AdmitDiagnosisCode'] == all_info['DiagnosisCode_9']) |\n",
    " (all_info['AdmitDiagnosisCode'] == all_info['DiagnosisCode_10']))]['Is_inpatient'].sum()"
   ]
  },
  {
   "cell_type": "code",
   "execution_count": 122,
   "metadata": {},
   "outputs": [
    {
     "data": {
      "text/plain": [
       "17082"
      ]
     },
     "execution_count": 122,
     "metadata": {},
     "output_type": "execute_result"
    }
   ],
   "source": [
    "len(all_info[((all_info['AdmitDiagnosisCode'] == all_info['DiagnosisGroupCode']) |\n",
    "(all_info['AdmitDiagnosisCode'] == all_info['DiagnosisCode_1']) |\n",
    "(all_info['AdmitDiagnosisCode'] == all_info['DiagnosisCode_2'])|\n",
    "(all_info['AdmitDiagnosisCode'] == all_info['DiagnosisCode_3'])|\n",
    "(all_info['AdmitDiagnosisCode'] == all_info['DiagnosisCode_4'])|\n",
    " (all_info['AdmitDiagnosisCode'] == all_info['DiagnosisCode_5']) |\n",
    " (all_info['AdmitDiagnosisCode'] == all_info['DiagnosisCode_6']) |\n",
    " (all_info['AdmitDiagnosisCode'] == all_info['DiagnosisCode_7']) |\n",
    " (all_info['AdmitDiagnosisCode'] == all_info['DiagnosisCode_8']) |\n",
    " (all_info['AdmitDiagnosisCode'] == all_info['DiagnosisCode_9']) |\n",
    " (all_info['AdmitDiagnosisCode'] == all_info['DiagnosisCode_10']))])"
   ]
  },
  {
   "cell_type": "code",
   "execution_count": 130,
   "metadata": {},
   "outputs": [
    {
     "data": {
      "text/plain": [
       "2534"
      ]
     },
     "execution_count": 130,
     "metadata": {},
     "output_type": "execute_result"
    }
   ],
   "source": [
    "all_info[all_info['AttendingPhysician']=='PHY330576']['Fraud'].sum()"
   ]
  },
  {
   "cell_type": "code",
   "execution_count": null,
   "metadata": {},
   "outputs": [],
   "source": []
  }
 ],
 "metadata": {
  "kernelspec": {
   "display_name": "Python 3.8.5 64-bit",
   "language": "python",
   "name": "python38564bit27c2c10e68134d42af8384e6691c1adc"
  },
  "language_info": {
   "codemirror_mode": {
    "name": "ipython",
    "version": 3
   },
   "file_extension": ".py",
   "mimetype": "text/x-python",
   "name": "python",
   "nbconvert_exporter": "python",
   "pygments_lexer": "ipython3",
   "version": "3.8.5"
  }
 },
 "nbformat": 4,
 "nbformat_minor": 2
}
