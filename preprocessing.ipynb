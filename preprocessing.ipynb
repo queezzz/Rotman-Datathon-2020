{
 "cells": [
  {
   "cell_type": "code",
   "execution_count": 1,
   "metadata": {},
   "outputs": [],
   "source": [
    "import numpy as np\n",
    "import pandas as pd \n",
    "import matplotlib as plt \n",
    "%matplotlib inline "
   ]
  },
  {
   "cell_type": "code",
   "execution_count": 2,
   "metadata": {},
   "outputs": [],
   "source": [
    "## read dataset\n",
    "benef = pd.read_csv('./Datathon2020data/beneficiary.csv')\n",
    "inpatient = pd.read_csv('./Datathon2020data/inpatients.csv')\n",
    "outpatient = pd.read_csv('./Datathon2020data/outpatients.csv')\n",
    "provider = pd.read_csv('./Datathon2020data/providers.csv')"
   ]
  },
  {
   "cell_type": "markdown",
   "metadata": {},
   "source": [
    "### Merging "
   ]
  },
  {
   "cell_type": "code",
   "execution_count": 3,
   "metadata": {},
   "outputs": [],
   "source": [
    "## merging inpatient and outpatient and label with type\n",
    "inpatient['Is_inpatient'] = 1\n",
    "outpatient['Is_inpatient'] = 0\n",
    "claims = pd.concat([inpatient, outpatient], axis=0)  \n",
    "\n",
    "# label with fraud info\n",
    "claims = pd.merge(claims, provider, on='PID')"
   ]
  },
  {
   "cell_type": "code",
   "execution_count": 4,
   "metadata": {},
   "outputs": [],
   "source": [
    "# add beneficiary info for claims\n",
    "all_info = pd.merge(claims, benef, on='BID', how='left')"
   ]
  },
  {
   "cell_type": "markdown",
   "metadata": {},
   "source": [
    "### Feature Engineering"
   ]
  },
  {
   "cell_type": "code",
   "execution_count": 5,
   "metadata": {},
   "outputs": [],
   "source": [
    "# Convert date columns to data types\n",
    "date_cols = ['StartDt','EndDt', 'DOB', 'DOD', 'AdmissionDt']\n",
    "for i in date_cols: \n",
    "    all_info[i] = pd.to_datetime(all_info[i])"
   ]
  },
  {
   "cell_type": "code",
   "execution_count": 6,
   "metadata": {},
   "outputs": [],
   "source": [
    "# New Variables depends on Dates\n",
    "all_info['NumOfClaimDays'] = (all_info['EndDt'] - all_info['StartDt']).apply(lambda x:x.days)\n",
    "all_info['Age'] = (all_info['StartDt'] - all_info['DOB']).apply(lambda x:x.days)\n",
    "all_info['Death_age'] = (all_info['DOD'] - all_info['DOB']).apply(lambda x:(x.days)/365)"
   ]
  },
  {
   "cell_type": "code",
   "execution_count": 9,
   "metadata": {},
   "outputs": [],
   "source": [
    "## New variable to count Diagnosis code\n",
    "all_info['DiagnosisCode_Num'] = all_info.loc[:, 'DiagnosisCode_1':'DiagnosisCode_10'].count(axis=1)\n",
    "all_info['ProcedureCode_Num'] = all_info.loc[:, 'ProcedureCode_1':'ProcedureCode_6'].count(axis=1)"
   ]
  },
  {
   "cell_type": "code",
   "execution_count": 54,
   "metadata": {},
   "outputs": [],
   "source": [
    "## Physicians num \n",
    "all_info['PhysiciansNum'] = all_info.loc[:, 'AttendingPhysician':'OtherPhysician'].count(axis=1)"
   ]
  },
  {
   "cell_type": "code",
   "execution_count": 56,
   "metadata": {},
   "outputs": [
    {
     "data": {
      "text/plain": [
       "1    286625\n",
       "2    226048\n",
       "3     44055\n",
       "0      1483\n",
       "Name: PhysiciansNum, dtype: int64"
      ]
     },
     "execution_count": 56,
     "metadata": {},
     "output_type": "execute_result"
    }
   ],
   "source": [
    "all_info['PhysiciansNum'].value_counts()"
   ]
  },
  {
   "cell_type": "code",
   "execution_count": 10,
   "metadata": {},
   "outputs": [],
   "source": [
    "##Convert Yes/No Chronic Disease into binary variables\n",
    "#chronic diseases\n",
    "\n",
    "diseases = ['Chronic_Alzheimer',\n",
    "       'Chronic_Heartfailure', 'Chronic_KidneyDisease', 'Chronic_Cancer',\n",
    "       'Chronic_ObstrPulmonary', 'Chronic_Depression', 'Chronic_Diabetes',\n",
    "       'Chronic_IschemicHeart', 'Chronic_Osteoporasis',\n",
    "       'Chronic_rheumatoidarthritis', 'Chronic_stroke']\n",
    "\n",
    "for i in diseases: \n",
    "    all_info[i] = all_info[i]-1"
   ]
  },
  {
   "cell_type": "code",
   "execution_count": 11,
   "metadata": {},
   "outputs": [],
   "source": [
    "# total number of chronic disease\n",
    "all_info['ChronicDisease_Num'] = all_info.loc[:,'Chronic_Alzheimer':'Chronic_stroke'].sum(axis=1)"
   ]
  },
  {
   "cell_type": "code",
   "execution_count": 12,
   "metadata": {},
   "outputs": [],
   "source": [
    "#convert renal disease into binary\n",
    "all_info['RenalDisease'] = pd.to_numeric(all_info['RenalDisease'].replace('Y', 1))"
   ]
  },
  {
   "cell_type": "code",
   "execution_count": 13,
   "metadata": {},
   "outputs": [],
   "source": [
    "#convert fraud into binary\n",
    "all_info['Fraud'] = pd.to_numeric(all_info['Fraud'].replace({'Yes':1, 'No':0}))"
   ]
  },
  {
   "cell_type": "code",
   "execution_count": 14,
   "metadata": {},
   "outputs": [],
   "source": [
    "# if admit diagnos code is in one of the diagnos code\n",
    "all_info['AdmitDiagnosInDiagnos'] = ((all_info['AdmitDiagnosisCode'] == all_info['DiagnosisGroupCode']) |\n",
    "(all_info['AdmitDiagnosisCode'] == all_info['DiagnosisCode_1']) |\n",
    "(all_info['AdmitDiagnosisCode'] == all_info['DiagnosisCode_2'])|\n",
    "(all_info['AdmitDiagnosisCode'] == all_info['DiagnosisCode_3'])|\n",
    "(all_info['AdmitDiagnosisCode'] == all_info['DiagnosisCode_4'])|\n",
    " (all_info['AdmitDiagnosisCode'] == all_info['DiagnosisCode_5']) |\n",
    " (all_info['AdmitDiagnosisCode'] == all_info['DiagnosisCode_6']) |\n",
    " (all_info['AdmitDiagnosisCode'] == all_info['DiagnosisCode_7']) |\n",
    " (all_info['AdmitDiagnosisCode'] == all_info['DiagnosisCode_8']) |\n",
    " (all_info['AdmitDiagnosisCode'] == all_info['DiagnosisCode_9']) |\n",
    " (all_info['AdmitDiagnosisCode'] == all_info['DiagnosisCode_10']))"
   ]
  },
  {
   "cell_type": "code",
   "execution_count": 32,
   "metadata": {},
   "outputs": [],
   "source": [
    "#all_info['NumOfMonths_PartACov'].value_counts()\n",
    "#all_info['NumOfMonths_PartBCov'].value_counts()\n",
    "\n",
    "all_info['FullYearPlanA'] = all_info['NumOfMonths_PartACov'] ==12\n",
    "all_info['FullYearPlanB'] = all_info['NumOfMonths_PartBCov'] ==12"
   ]
  },
  {
   "cell_type": "markdown",
   "metadata": {},
   "source": [
    "### Subset for different analysis"
   ]
  },
  {
   "cell_type": "code",
   "execution_count": 43,
   "metadata": {},
   "outputs": [],
   "source": [
    "benef_final = all_info[['Is_inpatient', 'Gender','Age', 'Race', 'State',\n",
    "                        'County','Chronic_Alzheimer',\n",
    "                        'Chronic_Heartfailure', 'Chronic_KidneyDisease', \n",
    "                        'Chronic_Cancer','Chronic_ObstrPulmonary', \n",
    "                        'Chronic_Depression', 'Chronic_Diabetes',\n",
    "                        'Chronic_IschemicHeart', 'Chronic_Osteoporasis',\n",
    "                        'Chronic_rheumatoidarthritis', 'Chronic_stroke',\n",
    "                       'RenalDisease', 'FullYearPlanA', 'FullYearPlanB',\n",
    "                       'Fraud']]"
   ]
  },
  {
   "cell_type": "code",
   "execution_count": 44,
   "metadata": {},
   "outputs": [],
   "source": [
    "phys_final = all_info[['PID', 'AttendingPhysician','State','County',\n",
    "                       'StartDt','Fraud']]"
   ]
  },
  {
   "cell_type": "code",
   "execution_count": 57,
   "metadata": {},
   "outputs": [],
   "source": [
    "claims = all_info[['AmtReimbursed','DeductibleAmt', 'Is_inpatient',\n",
    "                  'Fraud', 'Gender', 'Race', 'RenalDisease', 'State','County',\n",
    "                   'InpatientAnnualReimbursementAmt', 'InpatientAnnualDeductibleAmt',\n",
    "                   'OutpatientAnnualReimbursementAmt', 'OutpatientAnnualDeductibleAmt',\n",
    "                   'NumOfClaimDays', 'Age', 'Death_age', 'DiagnosisCode_Num','ProcedureCode_Num', \n",
    "                   'ChronicDisease_Num','PhysiciansNum','AdmitDiagnosInDiagnos','FullYearPlanA', 'FullYearPlanB']]"
   ]
  },
  {
   "cell_type": "code",
   "execution_count": 58,
   "metadata": {},
   "outputs": [
    {
     "name": "stdout",
     "output_type": "stream",
     "text": [
      "True\n"
     ]
    }
   ],
   "source": [
    "print(len(benef_final) == len(all_info) == len(phys_final) == len(claims))"
   ]
  },
  {
   "cell_type": "code",
   "execution_count": 52,
   "metadata": {},
   "outputs": [],
   "source": [
    "## Output to Dataframes \n",
    "# benef_final.to_csv('./cleaned_data/benef_final.csv', index=False)\n",
    "# phys_final.to_csv('./cleaned_data/phys_final.csv', index=False)\n",
    "# claims.to_csv('./cleaned_data/claims.csv', index=False)"
   ]
  },
  {
   "cell_type": "markdown",
   "metadata": {},
   "source": [
    "### Physician Checks "
   ]
  },
  {
   "cell_type": "code",
   "execution_count": 16,
   "metadata": {},
   "outputs": [],
   "source": [
    "phys_check = all_info.groupby(['AttendingPhysician']).agg(claims_num=('Fraud','count'),\n",
    "                                                     is_fraud=('Fraud',sum))"
   ]
  },
  {
   "cell_type": "code",
   "execution_count": 17,
   "metadata": {},
   "outputs": [],
   "source": [
    "phys_check['new_PID'] = phys_check['claims_num']>phys_check['is_fraud']"
   ]
  },
  {
   "cell_type": "code",
   "execution_count": 37,
   "metadata": {},
   "outputs": [
    {
     "data": {
      "text/plain": [
       "1498"
      ]
     },
     "execution_count": 37,
     "metadata": {},
     "output_type": "execute_result"
    }
   ],
   "source": [
    "phys_check[phys_check['is_fraud']>0]['new_PID'].sum()"
   ]
  },
  {
   "cell_type": "code",
   "execution_count": 34,
   "metadata": {},
   "outputs": [],
   "source": [
    "phys_check2 = all_info.groupby(['OperatingPhysician']).agg(claims_num=('Fraud','count'),\n",
    "                                                     is_fraud=('Fraud',sum))"
   ]
  },
  {
   "cell_type": "code",
   "execution_count": 35,
   "metadata": {},
   "outputs": [],
   "source": [
    "phys_check2['new_PID'] = phys_check2['claims_num']>phys_check2['is_fraud']"
   ]
  },
  {
   "cell_type": "code",
   "execution_count": 47,
   "metadata": {},
   "outputs": [
    {
     "data": {
      "text/plain": [
       "357"
      ]
     },
     "execution_count": 47,
     "metadata": {},
     "output_type": "execute_result"
    }
   ],
   "source": [
    "phys_check2[phys_check2['is_fraud']>0]['new_PID'].sum()"
   ]
  },
  {
   "cell_type": "code",
   "execution_count": null,
   "metadata": {},
   "outputs": [],
   "source": []
  },
  {
   "cell_type": "code",
   "execution_count": 19,
   "metadata": {},
   "outputs": [],
   "source": [
    "### physician work in provider, provider got flagged, physicians go to new PID "
   ]
  },
  {
   "cell_type": "code",
   "execution_count": 20,
   "metadata": {
    "scrolled": true
   },
   "outputs": [],
   "source": [
    "pd.options.plotting.backend = \"plotly\""
   ]
  },
  {
   "cell_type": "code",
   "execution_count": null,
   "metadata": {},
   "outputs": [],
   "source": []
  },
  {
   "cell_type": "code",
   "execution_count": null,
   "metadata": {},
   "outputs": [],
   "source": [
    "data[['Alcohol', 'Proline', 'class']].plot.scatter(y='Alcohol', x='Proline', color='class', title='Proline & Alcohol')"
   ]
  },
  {
   "cell_type": "markdown",
   "metadata": {},
   "source": [
    "### Random Checks"
   ]
  },
  {
   "cell_type": "code",
   "execution_count": 21,
   "metadata": {},
   "outputs": [
    {
     "data": {
      "text/plain": [
       "8274"
      ]
     },
     "execution_count": 21,
     "metadata": {},
     "output_type": "execute_result"
    }
   ],
   "source": [
    "all_info[((all_info['AdmitDiagnosisCode'] == all_info['DiagnosisGroupCode']) |\n",
    "(all_info['AdmitDiagnosisCode'] == all_info['DiagnosisCode_1']) |\n",
    "(all_info['AdmitDiagnosisCode'] == all_info['DiagnosisCode_2'])|\n",
    "(all_info['AdmitDiagnosisCode'] == all_info['DiagnosisCode_3'])|\n",
    "(all_info['AdmitDiagnosisCode'] == all_info['DiagnosisCode_4'])|\n",
    " (all_info['AdmitDiagnosisCode'] == all_info['DiagnosisCode_5']) |\n",
    " (all_info['AdmitDiagnosisCode'] == all_info['DiagnosisCode_6']) |\n",
    " (all_info['AdmitDiagnosisCode'] == all_info['DiagnosisCode_7']) |\n",
    " (all_info['AdmitDiagnosisCode'] == all_info['DiagnosisCode_8']) |\n",
    " (all_info['AdmitDiagnosisCode'] == all_info['DiagnosisCode_9']) |\n",
    " (all_info['AdmitDiagnosisCode'] == all_info['DiagnosisCode_10']))]['Fraud'].sum()"
   ]
  },
  {
   "cell_type": "code",
   "execution_count": 22,
   "metadata": {},
   "outputs": [
    {
     "data": {
      "text/plain": [
       "9835"
      ]
     },
     "execution_count": 22,
     "metadata": {},
     "output_type": "execute_result"
    }
   ],
   "source": [
    "all_info[((all_info['AdmitDiagnosisCode'] == all_info['DiagnosisGroupCode']) |\n",
    "(all_info['AdmitDiagnosisCode'] == all_info['DiagnosisCode_1']) |\n",
    "(all_info['AdmitDiagnosisCode'] == all_info['DiagnosisCode_2'])|\n",
    "(all_info['AdmitDiagnosisCode'] == all_info['DiagnosisCode_3'])|\n",
    "(all_info['AdmitDiagnosisCode'] == all_info['DiagnosisCode_4'])|\n",
    " (all_info['AdmitDiagnosisCode'] == all_info['DiagnosisCode_5']) |\n",
    " (all_info['AdmitDiagnosisCode'] == all_info['DiagnosisCode_6']) |\n",
    " (all_info['AdmitDiagnosisCode'] == all_info['DiagnosisCode_7']) |\n",
    " (all_info['AdmitDiagnosisCode'] == all_info['DiagnosisCode_8']) |\n",
    " (all_info['AdmitDiagnosisCode'] == all_info['DiagnosisCode_9']) |\n",
    " (all_info['AdmitDiagnosisCode'] == all_info['DiagnosisCode_10']))]['Is_inpatient'].sum()"
   ]
  },
  {
   "cell_type": "code",
   "execution_count": 23,
   "metadata": {},
   "outputs": [
    {
     "data": {
      "text/plain": [
       "17082"
      ]
     },
     "execution_count": 23,
     "metadata": {},
     "output_type": "execute_result"
    }
   ],
   "source": [
    "len(all_info[((all_info['AdmitDiagnosisCode'] == all_info['DiagnosisGroupCode']) |\n",
    "(all_info['AdmitDiagnosisCode'] == all_info['DiagnosisCode_1']) |\n",
    "(all_info['AdmitDiagnosisCode'] == all_info['DiagnosisCode_2'])|\n",
    "(all_info['AdmitDiagnosisCode'] == all_info['DiagnosisCode_3'])|\n",
    "(all_info['AdmitDiagnosisCode'] == all_info['DiagnosisCode_4'])|\n",
    " (all_info['AdmitDiagnosisCode'] == all_info['DiagnosisCode_5']) |\n",
    " (all_info['AdmitDiagnosisCode'] == all_info['DiagnosisCode_6']) |\n",
    " (all_info['AdmitDiagnosisCode'] == all_info['DiagnosisCode_7']) |\n",
    " (all_info['AdmitDiagnosisCode'] == all_info['DiagnosisCode_8']) |\n",
    " (all_info['AdmitDiagnosisCode'] == all_info['DiagnosisCode_9']) |\n",
    " (all_info['AdmitDiagnosisCode'] == all_info['DiagnosisCode_10']))])"
   ]
  },
  {
   "cell_type": "code",
   "execution_count": 24,
   "metadata": {},
   "outputs": [
    {
     "data": {
      "text/plain": [
       "2534"
      ]
     },
     "execution_count": 24,
     "metadata": {},
     "output_type": "execute_result"
    }
   ],
   "source": [
    "all_info[all_info['AttendingPhysician']=='PHY330576']['Fraud'].sum()"
   ]
  },
  {
   "cell_type": "code",
   "execution_count": 26,
   "metadata": {},
   "outputs": [
    {
     "data": {
      "text/plain": [
       "Index(['BID', 'CID', 'StartDt', 'EndDt', 'PID', 'AmtReimbursed',\n",
       "       'AttendingPhysician', 'OperatingPhysician', 'OtherPhysician',\n",
       "       'AdmissionDt', 'AdmitDiagnosisCode', 'DeductibleAmt', 'DischargeDt',\n",
       "       'DiagnosisGroupCode', 'DiagnosisCode_1', 'DiagnosisCode_2',\n",
       "       'DiagnosisCode_3', 'DiagnosisCode_4', 'DiagnosisCode_5',\n",
       "       'DiagnosisCode_6', 'DiagnosisCode_7', 'DiagnosisCode_8',\n",
       "       'DiagnosisCode_9', 'DiagnosisCode_10', 'ProcedureCode_1',\n",
       "       'ProcedureCode_2', 'ProcedureCode_3', 'ProcedureCode_4',\n",
       "       'ProcedureCode_5', 'ProcedureCode_6', 'Is_inpatient', 'Fraud', 'DOB',\n",
       "       'DOD', 'Gender', 'Race', 'RenalDisease', 'State', 'County',\n",
       "       'NumOfMonths_PartACov', 'NumOfMonths_PartBCov', 'Chronic_Alzheimer',\n",
       "       'Chronic_Heartfailure', 'Chronic_KidneyDisease', 'Chronic_Cancer',\n",
       "       'Chronic_ObstrPulmonary', 'Chronic_Depression', 'Chronic_Diabetes',\n",
       "       'Chronic_IschemicHeart', 'Chronic_Osteoporasis',\n",
       "       'Chronic_rheumatoidarthritis', 'Chronic_stroke',\n",
       "       'InpatientAnnualReimbursementAmt', 'InpatientAnnualDeductibleAmt',\n",
       "       'OutpatientAnnualReimbursementAmt', 'OutpatientAnnualDeductibleAmt',\n",
       "       'NumOfClaimDays', 'Age', 'Death_age', 'DiagnosisCode_Num',\n",
       "       'ProcedureCode_Num', 'ChronicDisease_Num', 'AdmitDiagnosInDiagnos'],\n",
       "      dtype='object')"
      ]
     },
     "execution_count": 26,
     "metadata": {},
     "output_type": "execute_result"
    }
   ],
   "source": [
    "all_info.columns"
   ]
  },
  {
   "cell_type": "code",
   "execution_count": 31,
   "metadata": {},
   "outputs": [
    {
     "data": {
      "text/plain": [
       "12    554722\n",
       "0       2971\n",
       "6        116\n",
       "8        100\n",
       "11        81\n",
       "4         55\n",
       "7         44\n",
       "10        34\n",
       "5         30\n",
       "3         16\n",
       "2         16\n",
       "9         13\n",
       "1         13\n",
       "Name: NumOfMonths_PartACov, dtype: int64"
      ]
     },
     "execution_count": 31,
     "metadata": {},
     "output_type": "execute_result"
    }
   ],
   "source": [
    "all_info['NumOfMonths_PartACov'].value_counts()"
   ]
  },
  {
   "cell_type": "code",
   "execution_count": 28,
   "metadata": {},
   "outputs": [
    {
     "data": {
      "text/plain": [
       "12    553918\n",
       "0       1979\n",
       "6        728\n",
       "10       402\n",
       "11       313\n",
       "9        242\n",
       "8        142\n",
       "7        139\n",
       "5        126\n",
       "3         73\n",
       "4         60\n",
       "1         48\n",
       "2         41\n",
       "Name: NumOfMonths_PartBCov, dtype: int64"
      ]
     },
     "execution_count": 28,
     "metadata": {},
     "output_type": "execute_result"
    }
   ],
   "source": [
    "all_info['NumOfMonths_PartBCov'].value_counts()"
   ]
  },
  {
   "cell_type": "code",
   "execution_count": null,
   "metadata": {},
   "outputs": [],
   "source": []
  }
 ],
 "metadata": {
  "kernelspec": {
   "display_name": "Python 3.8.5 64-bit",
   "language": "python",
   "name": "python38564bit27c2c10e68134d42af8384e6691c1adc"
  },
  "language_info": {
   "codemirror_mode": {
    "name": "ipython",
    "version": 3
   },
   "file_extension": ".py",
   "mimetype": "text/x-python",
   "name": "python",
   "nbconvert_exporter": "python",
   "pygments_lexer": "ipython3",
   "version": "3.8.5"
  }
 },
 "nbformat": 4,
 "nbformat_minor": 2
}
