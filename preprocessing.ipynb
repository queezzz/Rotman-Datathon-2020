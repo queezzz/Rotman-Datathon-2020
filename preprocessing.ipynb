{
 "cells": [
  {
   "cell_type": "code",
   "execution_count": 1,
   "metadata": {},
   "outputs": [],
   "source": [
    "import numpy as np\n",
    "import pandas as pd \n",
    "import matplotlib as plt \n",
    "%matplotlib inline "
   ]
  },
  {
   "cell_type": "code",
   "execution_count": 2,
   "metadata": {},
   "outputs": [],
   "source": [
    "## read dataset\n",
    "benef = pd.read_csv('./Datathon2020data/beneficiary.csv')\n",
    "inpatient = pd.read_csv('./Datathon2020data/inpatients.csv')\n",
    "outpatient = pd.read_csv('./Datathon2020data/outpatients.csv')\n",
    "provider = pd.read_csv('./Datathon2020data/providers.csv')"
   ]
  },
  {
   "cell_type": "markdown",
   "metadata": {},
   "source": [
    "### Merging "
   ]
  },
  {
   "cell_type": "code",
   "execution_count": 3,
   "metadata": {},
   "outputs": [],
   "source": [
    "## merging inpatient and outpatient and label with type\n",
    "inpatient['Is_inpatient'] = 1\n",
    "outpatient['Is_inpatient'] = 0\n",
    "claims = pd.concat([inpatient, outpatient], axis=0)  \n",
    "\n",
    "# label with fraud info\n",
    "claims = pd.merge(claims, provider, on='PID')"
   ]
  },
  {
   "cell_type": "code",
   "execution_count": 4,
   "metadata": {},
   "outputs": [],
   "source": [
    "# add beneficiary info for claims\n",
    "all_info = pd.merge(claims, benef, on='BID', how='left')"
   ]
  },
  {
   "cell_type": "markdown",
   "metadata": {},
   "source": [
    "### Feature Engineering"
   ]
  },
  {
   "cell_type": "code",
   "execution_count": 5,
   "metadata": {},
   "outputs": [],
   "source": [
    "# Convert date columns to data types\n",
    "date_cols = ['StartDt','EndDt', 'DOB', 'DOD', 'AdmissionDt']\n",
    "for i in date_cols: \n",
    "    all_info[i] = pd.to_datetime(all_info[i])"
   ]
  },
  {
   "cell_type": "code",
   "execution_count": 6,
   "metadata": {},
   "outputs": [],
   "source": [
    "# New Variables depends on Dates\n",
    "all_info['NumOfClaimDays'] = (all_info['EndDt'] - all_info['StartDt']).apply(lambda x:x.days)\n",
    "all_info['Age'] = (all_info['StartDt'] - all_info['DOB']).apply(lambda x:x.days)\n",
    "all_info['Death_age'] = (all_info['DOD'] - all_info['DOB']).apply(lambda x:(x.days)/365)"
   ]
  },
  {
   "cell_type": "code",
   "execution_count": 7,
   "metadata": {},
   "outputs": [],
   "source": [
    "## New variable to count Diagnosis code\n",
    "all_info['DiagnosisCode_Num'] = all_info.loc[:, 'DiagnosisCode_1':'DiagnosisCode_10'].count(axis=1)\n",
    "all_info['ProcedureCode_Num'] = all_info.loc[:, 'ProcedureCode_1':'ProcedureCode_6'].count(axis=1)"
   ]
  },
  {
   "cell_type": "code",
   "execution_count": 8,
   "metadata": {},
   "outputs": [],
   "source": [
    "## Physicians num \n",
    "all_info['PhysiciansNum'] = all_info.loc[:, 'AttendingPhysician':'OtherPhysician'].count(axis=1)"
   ]
  },
  {
   "cell_type": "code",
   "execution_count": 9,
   "metadata": {},
   "outputs": [
    {
     "data": {
      "text/plain": [
       "1    286625\n",
       "2    226048\n",
       "3     44055\n",
       "0      1483\n",
       "Name: PhysiciansNum, dtype: int64"
      ]
     },
     "execution_count": 9,
     "metadata": {},
     "output_type": "execute_result"
    }
   ],
   "source": [
    "all_info['PhysiciansNum'].value_counts()"
   ]
  },
  {
   "cell_type": "code",
   "execution_count": 10,
   "metadata": {},
   "outputs": [],
   "source": [
    "##Convert Yes/No Chronic Disease into binary variables\n",
    "#chronic diseases\n",
    "\n",
    "diseases = ['Chronic_Alzheimer',\n",
    "       'Chronic_Heartfailure', 'Chronic_KidneyDisease', 'Chronic_Cancer',\n",
    "       'Chronic_ObstrPulmonary', 'Chronic_Depression', 'Chronic_Diabetes',\n",
    "       'Chronic_IschemicHeart', 'Chronic_Osteoporasis',\n",
    "       'Chronic_rheumatoidarthritis', 'Chronic_stroke']\n",
    "\n",
    "for i in diseases: \n",
    "    all_info[i] = all_info[i]-1"
   ]
  },
  {
   "cell_type": "code",
   "execution_count": 11,
   "metadata": {},
   "outputs": [],
   "source": [
    "# total number of chronic disease\n",
    "all_info['ChronicDisease_Num'] = all_info.loc[:,'Chronic_Alzheimer':'Chronic_stroke'].sum(axis=1)"
   ]
  },
  {
   "cell_type": "code",
   "execution_count": 12,
   "metadata": {},
   "outputs": [],
   "source": [
    "#convert renal disease into binary\n",
    "all_info['RenalDisease'] = pd.to_numeric(all_info['RenalDisease'].replace('Y', 1))"
   ]
  },
  {
   "cell_type": "code",
   "execution_count": 13,
   "metadata": {},
   "outputs": [],
   "source": [
    "#convert fraud into binary\n",
    "all_info['Fraud'] = pd.to_numeric(all_info['Fraud'].replace({'Yes':1, 'No':0}))"
   ]
  },
  {
   "cell_type": "code",
   "execution_count": 14,
   "metadata": {},
   "outputs": [],
   "source": [
    "# if admit diagnos code is in one of the diagnos code\n",
    "all_info['AdmitDiagnosInDiagnos'] = ((all_info['AdmitDiagnosisCode'] == all_info['DiagnosisGroupCode']) |\n",
    "(all_info['AdmitDiagnosisCode'] == all_info['DiagnosisCode_1']) |\n",
    "(all_info['AdmitDiagnosisCode'] == all_info['DiagnosisCode_2'])|\n",
    "(all_info['AdmitDiagnosisCode'] == all_info['DiagnosisCode_3'])|\n",
    "(all_info['AdmitDiagnosisCode'] == all_info['DiagnosisCode_4'])|\n",
    " (all_info['AdmitDiagnosisCode'] == all_info['DiagnosisCode_5']) |\n",
    " (all_info['AdmitDiagnosisCode'] == all_info['DiagnosisCode_6']) |\n",
    " (all_info['AdmitDiagnosisCode'] == all_info['DiagnosisCode_7']) |\n",
    " (all_info['AdmitDiagnosisCode'] == all_info['DiagnosisCode_8']) |\n",
    " (all_info['AdmitDiagnosisCode'] == all_info['DiagnosisCode_9']) |\n",
    " (all_info['AdmitDiagnosisCode'] == all_info['DiagnosisCode_10']))"
   ]
  },
  {
   "cell_type": "code",
   "execution_count": 15,
   "metadata": {},
   "outputs": [],
   "source": [
    "#all_info['NumOfMonths_PartACov'].value_counts()\n",
    "#all_info['NumOfMonths_PartBCov'].value_counts()\n",
    "\n",
    "all_info['FullYearPlanA'] = all_info['NumOfMonths_PartACov'] ==12\n",
    "all_info['FullYearPlanB'] = all_info['NumOfMonths_PartBCov'] ==12"
   ]
  },
  {
   "cell_type": "code",
   "execution_count": 16,
   "metadata": {},
   "outputs": [
    {
     "name": "stderr",
     "output_type": "stream",
     "text": [
      "<ipython-input-16-36f360bc6e0e>:1: FutureWarning: Treating datetime data as categorical rather than numeric in `.describe` is deprecated and will be removed in a future version of pandas. Specify `datetime_is_numeric=True` to silence this warning and adopt the future behavior now.\n",
      "  all_info.describe(exclude=np.number)\n",
      "<ipython-input-16-36f360bc6e0e>:1: FutureWarning: Treating datetime data as categorical rather than numeric in `.describe` is deprecated and will be removed in a future version of pandas. Specify `datetime_is_numeric=True` to silence this warning and adopt the future behavior now.\n",
      "  all_info.describe(exclude=np.number)\n",
      "<ipython-input-16-36f360bc6e0e>:1: FutureWarning: Treating datetime data as categorical rather than numeric in `.describe` is deprecated and will be removed in a future version of pandas. Specify `datetime_is_numeric=True` to silence this warning and adopt the future behavior now.\n",
      "  all_info.describe(exclude=np.number)\n",
      "<ipython-input-16-36f360bc6e0e>:1: FutureWarning: Treating datetime data as categorical rather than numeric in `.describe` is deprecated and will be removed in a future version of pandas. Specify `datetime_is_numeric=True` to silence this warning and adopt the future behavior now.\n",
      "  all_info.describe(exclude=np.number)\n",
      "<ipython-input-16-36f360bc6e0e>:1: FutureWarning: Treating datetime data as categorical rather than numeric in `.describe` is deprecated and will be removed in a future version of pandas. Specify `datetime_is_numeric=True` to silence this warning and adopt the future behavior now.\n",
      "  all_info.describe(exclude=np.number)\n"
     ]
    },
    {
     "data": {
      "text/html": [
       "<div>\n",
       "<style scoped>\n",
       "    .dataframe tbody tr th:only-of-type {\n",
       "        vertical-align: middle;\n",
       "    }\n",
       "\n",
       "    .dataframe tbody tr th {\n",
       "        vertical-align: top;\n",
       "    }\n",
       "\n",
       "    .dataframe thead th {\n",
       "        text-align: right;\n",
       "    }\n",
       "</style>\n",
       "<table border=\"1\" class=\"dataframe\">\n",
       "  <thead>\n",
       "    <tr style=\"text-align: right;\">\n",
       "      <th></th>\n",
       "      <th>BID</th>\n",
       "      <th>CID</th>\n",
       "      <th>StartDt</th>\n",
       "      <th>EndDt</th>\n",
       "      <th>PID</th>\n",
       "      <th>AttendingPhysician</th>\n",
       "      <th>OperatingPhysician</th>\n",
       "      <th>OtherPhysician</th>\n",
       "      <th>AdmissionDt</th>\n",
       "      <th>AdmitDiagnosisCode</th>\n",
       "      <th>...</th>\n",
       "      <th>DiagnosisCode_6</th>\n",
       "      <th>DiagnosisCode_7</th>\n",
       "      <th>DiagnosisCode_8</th>\n",
       "      <th>DiagnosisCode_9</th>\n",
       "      <th>DiagnosisCode_10</th>\n",
       "      <th>DOB</th>\n",
       "      <th>DOD</th>\n",
       "      <th>AdmitDiagnosInDiagnos</th>\n",
       "      <th>FullYearPlanA</th>\n",
       "      <th>FullYearPlanB</th>\n",
       "    </tr>\n",
       "  </thead>\n",
       "  <tbody>\n",
       "    <tr>\n",
       "      <th>count</th>\n",
       "      <td>558211</td>\n",
       "      <td>558211</td>\n",
       "      <td>558211</td>\n",
       "      <td>558211</td>\n",
       "      <td>558211</td>\n",
       "      <td>556703</td>\n",
       "      <td>114447</td>\n",
       "      <td>199736</td>\n",
       "      <td>40474</td>\n",
       "      <td>145899</td>\n",
       "      <td>...</td>\n",
       "      <td>84392</td>\n",
       "      <td>66177</td>\n",
       "      <td>53444</td>\n",
       "      <td>41815</td>\n",
       "      <td>5010</td>\n",
       "      <td>558211</td>\n",
       "      <td>4131</td>\n",
       "      <td>558211</td>\n",
       "      <td>558211</td>\n",
       "      <td>558211</td>\n",
       "    </tr>\n",
       "    <tr>\n",
       "      <th>unique</th>\n",
       "      <td>138556</td>\n",
       "      <td>558211</td>\n",
       "      <td>398</td>\n",
       "      <td>366</td>\n",
       "      <td>5410</td>\n",
       "      <td>82063</td>\n",
       "      <td>35315</td>\n",
       "      <td>46457</td>\n",
       "      <td>398</td>\n",
       "      <td>4098</td>\n",
       "      <td>...</td>\n",
       "      <td>3607</td>\n",
       "      <td>3388</td>\n",
       "      <td>3070</td>\n",
       "      <td>2774</td>\n",
       "      <td>1158</td>\n",
       "      <td>900</td>\n",
       "      <td>11</td>\n",
       "      <td>2</td>\n",
       "      <td>2</td>\n",
       "      <td>2</td>\n",
       "    </tr>\n",
       "    <tr>\n",
       "      <th>top</th>\n",
       "      <td>BENE118316</td>\n",
       "      <td>CLM499534</td>\n",
       "      <td>2009-01-31 00:00:00</td>\n",
       "      <td>2009-03-03 00:00:00</td>\n",
       "      <td>PRV51459</td>\n",
       "      <td>PHY330576</td>\n",
       "      <td>PHY330576</td>\n",
       "      <td>PHY412132</td>\n",
       "      <td>2009-02-10 00:00:00</td>\n",
       "      <td>V7612</td>\n",
       "      <td>...</td>\n",
       "      <td>4019</td>\n",
       "      <td>4019</td>\n",
       "      <td>4019</td>\n",
       "      <td>4019</td>\n",
       "      <td>4019</td>\n",
       "      <td>1943-12-01 00:00:00</td>\n",
       "      <td>2009-12-01 00:00:00</td>\n",
       "      <td>False</td>\n",
       "      <td>True</td>\n",
       "      <td>True</td>\n",
       "    </tr>\n",
       "    <tr>\n",
       "      <th>freq</th>\n",
       "      <td>29</td>\n",
       "      <td>1</td>\n",
       "      <td>1709</td>\n",
       "      <td>1707</td>\n",
       "      <td>8240</td>\n",
       "      <td>2534</td>\n",
       "      <td>424</td>\n",
       "      <td>1247</td>\n",
       "      <td>144</td>\n",
       "      <td>4074</td>\n",
       "      <td>...</td>\n",
       "      <td>4170</td>\n",
       "      <td>3014</td>\n",
       "      <td>2257</td>\n",
       "      <td>1581</td>\n",
       "      <td>169</td>\n",
       "      <td>2072</td>\n",
       "      <td>710</td>\n",
       "      <td>541129</td>\n",
       "      <td>554722</td>\n",
       "      <td>553918</td>\n",
       "    </tr>\n",
       "    <tr>\n",
       "      <th>first</th>\n",
       "      <td>NaN</td>\n",
       "      <td>NaN</td>\n",
       "      <td>2008-11-27 00:00:00</td>\n",
       "      <td>2008-12-28 00:00:00</td>\n",
       "      <td>NaN</td>\n",
       "      <td>NaN</td>\n",
       "      <td>NaN</td>\n",
       "      <td>NaN</td>\n",
       "      <td>2008-11-27 00:00:00</td>\n",
       "      <td>NaN</td>\n",
       "      <td>...</td>\n",
       "      <td>NaN</td>\n",
       "      <td>NaN</td>\n",
       "      <td>NaN</td>\n",
       "      <td>NaN</td>\n",
       "      <td>NaN</td>\n",
       "      <td>1909-01-01 00:00:00</td>\n",
       "      <td>2009-02-01 00:00:00</td>\n",
       "      <td>NaN</td>\n",
       "      <td>NaN</td>\n",
       "      <td>NaN</td>\n",
       "    </tr>\n",
       "    <tr>\n",
       "      <th>last</th>\n",
       "      <td>NaN</td>\n",
       "      <td>NaN</td>\n",
       "      <td>2009-12-31 00:00:00</td>\n",
       "      <td>2009-12-31 00:00:00</td>\n",
       "      <td>NaN</td>\n",
       "      <td>NaN</td>\n",
       "      <td>NaN</td>\n",
       "      <td>NaN</td>\n",
       "      <td>2009-12-31 00:00:00</td>\n",
       "      <td>NaN</td>\n",
       "      <td>...</td>\n",
       "      <td>NaN</td>\n",
       "      <td>NaN</td>\n",
       "      <td>NaN</td>\n",
       "      <td>NaN</td>\n",
       "      <td>NaN</td>\n",
       "      <td>1983-12-01 00:00:00</td>\n",
       "      <td>2009-12-01 00:00:00</td>\n",
       "      <td>NaN</td>\n",
       "      <td>NaN</td>\n",
       "      <td>NaN</td>\n",
       "    </tr>\n",
       "  </tbody>\n",
       "</table>\n",
       "<p>6 rows × 27 columns</p>\n",
       "</div>"
      ],
      "text/plain": [
       "               BID        CID              StartDt                EndDt  \\\n",
       "count       558211     558211               558211               558211   \n",
       "unique      138556     558211                  398                  366   \n",
       "top     BENE118316  CLM499534  2009-01-31 00:00:00  2009-03-03 00:00:00   \n",
       "freq            29          1                 1709                 1707   \n",
       "first          NaN        NaN  2008-11-27 00:00:00  2008-12-28 00:00:00   \n",
       "last           NaN        NaN  2009-12-31 00:00:00  2009-12-31 00:00:00   \n",
       "\n",
       "             PID AttendingPhysician OperatingPhysician OtherPhysician  \\\n",
       "count     558211             556703             114447         199736   \n",
       "unique      5410              82063              35315          46457   \n",
       "top     PRV51459          PHY330576          PHY330576      PHY412132   \n",
       "freq        8240               2534                424           1247   \n",
       "first        NaN                NaN                NaN            NaN   \n",
       "last         NaN                NaN                NaN            NaN   \n",
       "\n",
       "                AdmissionDt AdmitDiagnosisCode  ... DiagnosisCode_6  \\\n",
       "count                 40474             145899  ...           84392   \n",
       "unique                  398               4098  ...            3607   \n",
       "top     2009-02-10 00:00:00              V7612  ...            4019   \n",
       "freq                    144               4074  ...            4170   \n",
       "first   2008-11-27 00:00:00                NaN  ...             NaN   \n",
       "last    2009-12-31 00:00:00                NaN  ...             NaN   \n",
       "\n",
       "       DiagnosisCode_7 DiagnosisCode_8 DiagnosisCode_9 DiagnosisCode_10  \\\n",
       "count            66177           53444           41815             5010   \n",
       "unique            3388            3070            2774             1158   \n",
       "top               4019            4019            4019             4019   \n",
       "freq              3014            2257            1581              169   \n",
       "first              NaN             NaN             NaN              NaN   \n",
       "last               NaN             NaN             NaN              NaN   \n",
       "\n",
       "                        DOB                  DOD AdmitDiagnosInDiagnos  \\\n",
       "count                558211                 4131                558211   \n",
       "unique                  900                   11                     2   \n",
       "top     1943-12-01 00:00:00  2009-12-01 00:00:00                 False   \n",
       "freq                   2072                  710                541129   \n",
       "first   1909-01-01 00:00:00  2009-02-01 00:00:00                   NaN   \n",
       "last    1983-12-01 00:00:00  2009-12-01 00:00:00                   NaN   \n",
       "\n",
       "       FullYearPlanA FullYearPlanB  \n",
       "count         558211        558211  \n",
       "unique             2             2  \n",
       "top             True          True  \n",
       "freq          554722        553918  \n",
       "first            NaN           NaN  \n",
       "last             NaN           NaN  \n",
       "\n",
       "[6 rows x 27 columns]"
      ]
     },
     "execution_count": 16,
     "metadata": {},
     "output_type": "execute_result"
    }
   ],
   "source": [
    "all_info.describe(exclude=np.number)"
   ]
  },
  {
   "cell_type": "markdown",
   "metadata": {},
   "source": [
    "### Subset for different analysis"
   ]
  },
  {
   "cell_type": "code",
   "execution_count": 17,
   "metadata": {},
   "outputs": [],
   "source": [
    "benef_final = all_info[['CID','BID','Is_inpatient', 'Gender','Age', 'Race', 'State',\n",
    "                        'County','Chronic_Alzheimer',\n",
    "                        'Chronic_Heartfailure', 'Chronic_KidneyDisease', \n",
    "                        'Chronic_Cancer','Chronic_ObstrPulmonary', \n",
    "                        'Chronic_Depression', 'Chronic_Diabetes',\n",
    "                        'Chronic_IschemicHeart', 'Chronic_Osteoporasis',\n",
    "                        'Chronic_rheumatoidarthritis', 'Chronic_stroke',\n",
    "                       'RenalDisease', 'FullYearPlanA', 'FullYearPlanB',\n",
    "                       'Fraud']]"
   ]
  },
  {
   "cell_type": "code",
   "execution_count": 18,
   "metadata": {},
   "outputs": [],
   "source": [
    "phys_final = all_info[['CID','PID', 'AttendingPhysician','State','County',\n",
    "                       'StartDt','Fraud']]"
   ]
  },
  {
   "cell_type": "code",
   "execution_count": 19,
   "metadata": {},
   "outputs": [],
   "source": [
    "claims = all_info[['CID','BID','AmtReimbursed','DeductibleAmt', 'Is_inpatient',\n",
    "                  'Fraud', 'Gender', 'Race', 'RenalDisease', 'State','County',\n",
    "                   'InpatientAnnualReimbursementAmt', 'InpatientAnnualDeductibleAmt',\n",
    "                   'OutpatientAnnualReimbursementAmt', 'OutpatientAnnualDeductibleAmt',\n",
    "                   'NumOfClaimDays', 'Age', 'Death_age', 'DiagnosisCode_Num','ProcedureCode_Num', \n",
    "                   'ChronicDisease_Num','PhysiciansNum','AdmitDiagnosInDiagnos','FullYearPlanA', 'FullYearPlanB']]"
   ]
  },
  {
   "cell_type": "code",
   "execution_count": 22,
   "metadata": {},
   "outputs": [],
   "source": [
    "ID = all_info[['CID','BID','PID','DiagnosisCode_Num', 'ChronicDisease_Num']]"
   ]
  },
  {
   "cell_type": "code",
   "execution_count": 23,
   "metadata": {
    "scrolled": true
   },
   "outputs": [
    {
     "name": "stdout",
     "output_type": "stream",
     "text": [
      "True\n"
     ]
    }
   ],
   "source": [
    "print(len(benef_final) == len(all_info) == len(phys_final) == len(claims))"
   ]
  },
  {
   "cell_type": "code",
   "execution_count": 24,
   "metadata": {},
   "outputs": [],
   "source": [
    "## Output to Dataframes \n",
    "benef_final.to_csv('./cleaned_data/benef_final.csv', index=False)\n",
    "phys_final.to_csv('./cleaned_data/phys_final.csv', index=False)\n",
    "claims.to_csv('./cleaned_data/claims.csv', index=False)\n",
    "ID.to_csv('./cleaned_data/extra_benef.csv', index=False)"
   ]
  },
  {
   "cell_type": "markdown",
   "metadata": {},
   "source": [
    "### Physician Checks "
   ]
  },
  {
   "cell_type": "code",
   "execution_count": 16,
   "metadata": {},
   "outputs": [],
   "source": [
    "phys_check = all_info.groupby(['AttendingPhysician']).agg(claims_num=('Fraud','count'),\n",
    "                                                     is_fraud=('Fraud',sum))"
   ]
  },
  {
   "cell_type": "code",
   "execution_count": 17,
   "metadata": {},
   "outputs": [],
   "source": [
    "phys_check['new_PID'] = phys_check['claims_num']>phys_check['is_fraud']"
   ]
  },
  {
   "cell_type": "code",
   "execution_count": 37,
   "metadata": {},
   "outputs": [
    {
     "data": {
      "text/plain": [
       "1498"
      ]
     },
     "execution_count": 37,
     "metadata": {},
     "output_type": "execute_result"
    }
   ],
   "source": [
    "phys_check[phys_check['is_fraud']>0]['new_PID'].sum()"
   ]
  },
  {
   "cell_type": "code",
   "execution_count": 34,
   "metadata": {},
   "outputs": [],
   "source": [
    "phys_check2 = all_info.groupby(['OperatingPhysician']).agg(claims_num=('Fraud','count'),\n",
    "                                                     is_fraud=('Fraud',sum))"
   ]
  },
  {
   "cell_type": "code",
   "execution_count": 35,
   "metadata": {},
   "outputs": [],
   "source": [
    "phys_check2['new_PID'] = phys_check2['claims_num']>phys_check2['is_fraud']"
   ]
  },
  {
   "cell_type": "code",
   "execution_count": 47,
   "metadata": {},
   "outputs": [
    {
     "data": {
      "text/plain": [
       "357"
      ]
     },
     "execution_count": 47,
     "metadata": {},
     "output_type": "execute_result"
    }
   ],
   "source": [
    "phys_check2[phys_check2['is_fraud']>0]['new_PID'].sum()"
   ]
  },
  {
   "cell_type": "code",
   "execution_count": null,
   "metadata": {},
   "outputs": [],
   "source": []
  },
  {
   "cell_type": "code",
   "execution_count": 19,
   "metadata": {},
   "outputs": [],
   "source": [
    "### physician work in provider, provider got flagged, physicians go to new PID "
   ]
  },
  {
   "cell_type": "code",
   "execution_count": 20,
   "metadata": {
    "scrolled": true
   },
   "outputs": [],
   "source": [
    "pd.options.plotting.backend = \"plotly\""
   ]
  },
  {
   "cell_type": "code",
   "execution_count": null,
   "metadata": {},
   "outputs": [],
   "source": []
  },
  {
   "cell_type": "code",
   "execution_count": null,
   "metadata": {},
   "outputs": [],
   "source": [
    "data[['Alcohol', 'Proline', 'class']].plot.scatter(y='Alcohol', x='Proline', color='class', title='Proline & Alcohol')"
   ]
  },
  {
   "cell_type": "markdown",
   "metadata": {},
   "source": [
    "### Random Checks"
   ]
  },
  {
   "cell_type": "code",
   "execution_count": 21,
   "metadata": {},
   "outputs": [
    {
     "data": {
      "text/plain": [
       "8274"
      ]
     },
     "execution_count": 21,
     "metadata": {},
     "output_type": "execute_result"
    }
   ],
   "source": [
    "all_info[((all_info['AdmitDiagnosisCode'] == all_info['DiagnosisGroupCode']) |\n",
    "(all_info['AdmitDiagnosisCode'] == all_info['DiagnosisCode_1']) |\n",
    "(all_info['AdmitDiagnosisCode'] == all_info['DiagnosisCode_2'])|\n",
    "(all_info['AdmitDiagnosisCode'] == all_info['DiagnosisCode_3'])|\n",
    "(all_info['AdmitDiagnosisCode'] == all_info['DiagnosisCode_4'])|\n",
    " (all_info['AdmitDiagnosisCode'] == all_info['DiagnosisCode_5']) |\n",
    " (all_info['AdmitDiagnosisCode'] == all_info['DiagnosisCode_6']) |\n",
    " (all_info['AdmitDiagnosisCode'] == all_info['DiagnosisCode_7']) |\n",
    " (all_info['AdmitDiagnosisCode'] == all_info['DiagnosisCode_8']) |\n",
    " (all_info['AdmitDiagnosisCode'] == all_info['DiagnosisCode_9']) |\n",
    " (all_info['AdmitDiagnosisCode'] == all_info['DiagnosisCode_10']))]['Fraud'].sum()"
   ]
  },
  {
   "cell_type": "code",
   "execution_count": 22,
   "metadata": {},
   "outputs": [
    {
     "data": {
      "text/plain": [
       "9835"
      ]
     },
     "execution_count": 22,
     "metadata": {},
     "output_type": "execute_result"
    }
   ],
   "source": [
    "all_info[((all_info['AdmitDiagnosisCode'] == all_info['DiagnosisGroupCode']) |\n",
    "(all_info['AdmitDiagnosisCode'] == all_info['DiagnosisCode_1']) |\n",
    "(all_info['AdmitDiagnosisCode'] == all_info['DiagnosisCode_2'])|\n",
    "(all_info['AdmitDiagnosisCode'] == all_info['DiagnosisCode_3'])|\n",
    "(all_info['AdmitDiagnosisCode'] == all_info['DiagnosisCode_4'])|\n",
    " (all_info['AdmitDiagnosisCode'] == all_info['DiagnosisCode_5']) |\n",
    " (all_info['AdmitDiagnosisCode'] == all_info['DiagnosisCode_6']) |\n",
    " (all_info['AdmitDiagnosisCode'] == all_info['DiagnosisCode_7']) |\n",
    " (all_info['AdmitDiagnosisCode'] == all_info['DiagnosisCode_8']) |\n",
    " (all_info['AdmitDiagnosisCode'] == all_info['DiagnosisCode_9']) |\n",
    " (all_info['AdmitDiagnosisCode'] == all_info['DiagnosisCode_10']))]['Is_inpatient'].sum()"
   ]
  },
  {
   "cell_type": "code",
   "execution_count": 23,
   "metadata": {},
   "outputs": [
    {
     "data": {
      "text/plain": [
       "17082"
      ]
     },
     "execution_count": 23,
     "metadata": {},
     "output_type": "execute_result"
    }
   ],
   "source": [
    "len(all_info[((all_info['AdmitDiagnosisCode'] == all_info['DiagnosisGroupCode']) |\n",
    "(all_info['AdmitDiagnosisCode'] == all_info['DiagnosisCode_1']) |\n",
    "(all_info['AdmitDiagnosisCode'] == all_info['DiagnosisCode_2'])|\n",
    "(all_info['AdmitDiagnosisCode'] == all_info['DiagnosisCode_3'])|\n",
    "(all_info['AdmitDiagnosisCode'] == all_info['DiagnosisCode_4'])|\n",
    " (all_info['AdmitDiagnosisCode'] == all_info['DiagnosisCode_5']) |\n",
    " (all_info['AdmitDiagnosisCode'] == all_info['DiagnosisCode_6']) |\n",
    " (all_info['AdmitDiagnosisCode'] == all_info['DiagnosisCode_7']) |\n",
    " (all_info['AdmitDiagnosisCode'] == all_info['DiagnosisCode_8']) |\n",
    " (all_info['AdmitDiagnosisCode'] == all_info['DiagnosisCode_9']) |\n",
    " (all_info['AdmitDiagnosisCode'] == all_info['DiagnosisCode_10']))])"
   ]
  },
  {
   "cell_type": "code",
   "execution_count": 24,
   "metadata": {},
   "outputs": [
    {
     "data": {
      "text/plain": [
       "2534"
      ]
     },
     "execution_count": 24,
     "metadata": {},
     "output_type": "execute_result"
    }
   ],
   "source": [
    "all_info[all_info['AttendingPhysician']=='PHY330576']['Fraud'].sum()"
   ]
  },
  {
   "cell_type": "code",
   "execution_count": 26,
   "metadata": {},
   "outputs": [
    {
     "data": {
      "text/plain": [
       "Index(['BID', 'CID', 'StartDt', 'EndDt', 'PID', 'AmtReimbursed',\n",
       "       'AttendingPhysician', 'OperatingPhysician', 'OtherPhysician',\n",
       "       'AdmissionDt', 'AdmitDiagnosisCode', 'DeductibleAmt', 'DischargeDt',\n",
       "       'DiagnosisGroupCode', 'DiagnosisCode_1', 'DiagnosisCode_2',\n",
       "       'DiagnosisCode_3', 'DiagnosisCode_4', 'DiagnosisCode_5',\n",
       "       'DiagnosisCode_6', 'DiagnosisCode_7', 'DiagnosisCode_8',\n",
       "       'DiagnosisCode_9', 'DiagnosisCode_10', 'ProcedureCode_1',\n",
       "       'ProcedureCode_2', 'ProcedureCode_3', 'ProcedureCode_4',\n",
       "       'ProcedureCode_5', 'ProcedureCode_6', 'Is_inpatient', 'Fraud', 'DOB',\n",
       "       'DOD', 'Gender', 'Race', 'RenalDisease', 'State', 'County',\n",
       "       'NumOfMonths_PartACov', 'NumOfMonths_PartBCov', 'Chronic_Alzheimer',\n",
       "       'Chronic_Heartfailure', 'Chronic_KidneyDisease', 'Chronic_Cancer',\n",
       "       'Chronic_ObstrPulmonary', 'Chronic_Depression', 'Chronic_Diabetes',\n",
       "       'Chronic_IschemicHeart', 'Chronic_Osteoporasis',\n",
       "       'Chronic_rheumatoidarthritis', 'Chronic_stroke',\n",
       "       'InpatientAnnualReimbursementAmt', 'InpatientAnnualDeductibleAmt',\n",
       "       'OutpatientAnnualReimbursementAmt', 'OutpatientAnnualDeductibleAmt',\n",
       "       'NumOfClaimDays', 'Age', 'Death_age', 'DiagnosisCode_Num',\n",
       "       'ProcedureCode_Num', 'ChronicDisease_Num', 'AdmitDiagnosInDiagnos'],\n",
       "      dtype='object')"
      ]
     },
     "execution_count": 26,
     "metadata": {},
     "output_type": "execute_result"
    }
   ],
   "source": [
    "all_info.columns"
   ]
  },
  {
   "cell_type": "code",
   "execution_count": 31,
   "metadata": {},
   "outputs": [
    {
     "data": {
      "text/plain": [
       "12    554722\n",
       "0       2971\n",
       "6        116\n",
       "8        100\n",
       "11        81\n",
       "4         55\n",
       "7         44\n",
       "10        34\n",
       "5         30\n",
       "3         16\n",
       "2         16\n",
       "9         13\n",
       "1         13\n",
       "Name: NumOfMonths_PartACov, dtype: int64"
      ]
     },
     "execution_count": 31,
     "metadata": {},
     "output_type": "execute_result"
    }
   ],
   "source": [
    "all_info['NumOfMonths_PartACov'].value_counts()"
   ]
  },
  {
   "cell_type": "code",
   "execution_count": 28,
   "metadata": {},
   "outputs": [
    {
     "data": {
      "text/plain": [
       "12    553918\n",
       "0       1979\n",
       "6        728\n",
       "10       402\n",
       "11       313\n",
       "9        242\n",
       "8        142\n",
       "7        139\n",
       "5        126\n",
       "3         73\n",
       "4         60\n",
       "1         48\n",
       "2         41\n",
       "Name: NumOfMonths_PartBCov, dtype: int64"
      ]
     },
     "execution_count": 28,
     "metadata": {},
     "output_type": "execute_result"
    }
   ],
   "source": [
    "all_info['NumOfMonths_PartBCov'].value_counts()"
   ]
  },
  {
   "cell_type": "code",
   "execution_count": 28,
   "metadata": {},
   "outputs": [
    {
     "data": {
      "text/html": [
       "<div>\n",
       "<style scoped>\n",
       "    .dataframe tbody tr th:only-of-type {\n",
       "        vertical-align: middle;\n",
       "    }\n",
       "\n",
       "    .dataframe tbody tr th {\n",
       "        vertical-align: top;\n",
       "    }\n",
       "\n",
       "    .dataframe thead th {\n",
       "        text-align: right;\n",
       "    }\n",
       "</style>\n",
       "<table border=\"1\" class=\"dataframe\">\n",
       "  <thead>\n",
       "    <tr style=\"text-align: right;\">\n",
       "      <th></th>\n",
       "      <th>DeductibleAmt</th>\n",
       "      <th>InpatientAnnualDeductibleAmt</th>\n",
       "      <th>OutpatientAnnualDeductibleAmt</th>\n",
       "      <th>NumOfMonths_PartACov</th>\n",
       "      <th>NumOfMonths_PartBCov</th>\n",
       "      <th>Is_inpatient</th>\n",
       "      <th>Fraud</th>\n",
       "    </tr>\n",
       "  </thead>\n",
       "  <tbody>\n",
       "    <tr>\n",
       "      <th>912</th>\n",
       "      <td>0.0</td>\n",
       "      <td>0</td>\n",
       "      <td>540</td>\n",
       "      <td>12</td>\n",
       "      <td>12</td>\n",
       "      <td>0</td>\n",
       "      <td>Yes</td>\n",
       "    </tr>\n",
       "    <tr>\n",
       "      <th>86801</th>\n",
       "      <td>0.0</td>\n",
       "      <td>0</td>\n",
       "      <td>540</td>\n",
       "      <td>12</td>\n",
       "      <td>12</td>\n",
       "      <td>0</td>\n",
       "      <td>No</td>\n",
       "    </tr>\n",
       "    <tr>\n",
       "      <th>135633</th>\n",
       "      <td>0.0</td>\n",
       "      <td>0</td>\n",
       "      <td>540</td>\n",
       "      <td>12</td>\n",
       "      <td>12</td>\n",
       "      <td>0</td>\n",
       "      <td>No</td>\n",
       "    </tr>\n",
       "    <tr>\n",
       "      <th>135634</th>\n",
       "      <td>0.0</td>\n",
       "      <td>0</td>\n",
       "      <td>540</td>\n",
       "      <td>12</td>\n",
       "      <td>12</td>\n",
       "      <td>0</td>\n",
       "      <td>No</td>\n",
       "    </tr>\n",
       "    <tr>\n",
       "      <th>296143</th>\n",
       "      <td>0.0</td>\n",
       "      <td>0</td>\n",
       "      <td>540</td>\n",
       "      <td>12</td>\n",
       "      <td>12</td>\n",
       "      <td>0</td>\n",
       "      <td>Yes</td>\n",
       "    </tr>\n",
       "    <tr>\n",
       "      <th>296144</th>\n",
       "      <td>0.0</td>\n",
       "      <td>0</td>\n",
       "      <td>540</td>\n",
       "      <td>12</td>\n",
       "      <td>12</td>\n",
       "      <td>0</td>\n",
       "      <td>Yes</td>\n",
       "    </tr>\n",
       "    <tr>\n",
       "      <th>296145</th>\n",
       "      <td>0.0</td>\n",
       "      <td>0</td>\n",
       "      <td>540</td>\n",
       "      <td>12</td>\n",
       "      <td>12</td>\n",
       "      <td>0</td>\n",
       "      <td>Yes</td>\n",
       "    </tr>\n",
       "    <tr>\n",
       "      <th>296146</th>\n",
       "      <td>100.0</td>\n",
       "      <td>0</td>\n",
       "      <td>540</td>\n",
       "      <td>12</td>\n",
       "      <td>12</td>\n",
       "      <td>0</td>\n",
       "      <td>Yes</td>\n",
       "    </tr>\n",
       "    <tr>\n",
       "      <th>370440</th>\n",
       "      <td>0.0</td>\n",
       "      <td>0</td>\n",
       "      <td>540</td>\n",
       "      <td>12</td>\n",
       "      <td>12</td>\n",
       "      <td>0</td>\n",
       "      <td>No</td>\n",
       "    </tr>\n",
       "    <tr>\n",
       "      <th>385137</th>\n",
       "      <td>0.0</td>\n",
       "      <td>0</td>\n",
       "      <td>540</td>\n",
       "      <td>12</td>\n",
       "      <td>12</td>\n",
       "      <td>0</td>\n",
       "      <td>No</td>\n",
       "    </tr>\n",
       "  </tbody>\n",
       "</table>\n",
       "</div>"
      ],
      "text/plain": [
       "        DeductibleAmt  InpatientAnnualDeductibleAmt  \\\n",
       "912               0.0                             0   \n",
       "86801             0.0                             0   \n",
       "135633            0.0                             0   \n",
       "135634            0.0                             0   \n",
       "296143            0.0                             0   \n",
       "296144            0.0                             0   \n",
       "296145            0.0                             0   \n",
       "296146          100.0                             0   \n",
       "370440            0.0                             0   \n",
       "385137            0.0                             0   \n",
       "\n",
       "        OutpatientAnnualDeductibleAmt  NumOfMonths_PartACov  \\\n",
       "912                               540                    12   \n",
       "86801                             540                    12   \n",
       "135633                            540                    12   \n",
       "135634                            540                    12   \n",
       "296143                            540                    12   \n",
       "296144                            540                    12   \n",
       "296145                            540                    12   \n",
       "296146                            540                    12   \n",
       "370440                            540                    12   \n",
       "385137                            540                    12   \n",
       "\n",
       "        NumOfMonths_PartBCov  Is_inpatient Fraud  \n",
       "912                       12             0   Yes  \n",
       "86801                     12             0    No  \n",
       "135633                    12             0    No  \n",
       "135634                    12             0    No  \n",
       "296143                    12             0   Yes  \n",
       "296144                    12             0   Yes  \n",
       "296145                    12             0   Yes  \n",
       "296146                    12             0   Yes  \n",
       "370440                    12             0    No  \n",
       "385137                    12             0    No  "
      ]
     },
     "execution_count": 28,
     "metadata": {},
     "output_type": "execute_result"
    }
   ],
   "source": [
    "all_info[all_info['BID']=='BENE100001'][['DeductibleAmt', 'InpatientAnnualDeductibleAmt',\n",
    "                                        'OutpatientAnnualDeductibleAmt','NumOfMonths_PartACov','NumOfMonths_PartBCov',\n",
    "                                       'Is_inpatient','Fraud']]"
   ]
  },
  {
   "cell_type": "code",
   "execution_count": 24,
   "metadata": {},
   "outputs": [
    {
     "data": {
      "text/plain": [
       "0       14331\n",
       "20      12898\n",
       "100     10934\n",
       "30      10213\n",
       "40      10051\n",
       "        ...  \n",
       "1148        2\n",
       "9130        2\n",
       "1197        1\n",
       "897         1\n",
       "865         1\n",
       "Name: OutpatientAnnualDeductibleAmt, Length: 787, dtype: int64"
      ]
     },
     "execution_count": 24,
     "metadata": {},
     "output_type": "execute_result"
    }
   ],
   "source": [
    "all_info[all_info['Is_inpatient']==0]['OutpatientAnnualDeductibleAmt'].value_counts()"
   ]
  },
  {
   "cell_type": "code",
   "execution_count": 25,
   "metadata": {},
   "outputs": [],
   "source": [
    "temp = all_info.groupby(['BID'],as_index=False).agg(claims_count=pd.NamedAgg('BID','count'))"
   ]
  },
  {
   "cell_type": "code",
   "execution_count": 26,
   "metadata": {},
   "outputs": [
    {
     "data": {
      "text/html": [
       "<div>\n",
       "<style scoped>\n",
       "    .dataframe tbody tr th:only-of-type {\n",
       "        vertical-align: middle;\n",
       "    }\n",
       "\n",
       "    .dataframe tbody tr th {\n",
       "        vertical-align: top;\n",
       "    }\n",
       "\n",
       "    .dataframe thead th {\n",
       "        text-align: right;\n",
       "    }\n",
       "</style>\n",
       "<table border=\"1\" class=\"dataframe\">\n",
       "  <thead>\n",
       "    <tr style=\"text-align: right;\">\n",
       "      <th></th>\n",
       "      <th>BID</th>\n",
       "      <th>claims_count</th>\n",
       "    </tr>\n",
       "  </thead>\n",
       "  <tbody>\n",
       "    <tr>\n",
       "      <th>1</th>\n",
       "      <td>BENE100001</td>\n",
       "      <td>10</td>\n",
       "    </tr>\n",
       "    <tr>\n",
       "      <th>2</th>\n",
       "      <td>BENE100002</td>\n",
       "      <td>14</td>\n",
       "    </tr>\n",
       "    <tr>\n",
       "      <th>4</th>\n",
       "      <td>BENE100004</td>\n",
       "      <td>6</td>\n",
       "    </tr>\n",
       "    <tr>\n",
       "      <th>10</th>\n",
       "      <td>BENE100010</td>\n",
       "      <td>7</td>\n",
       "    </tr>\n",
       "    <tr>\n",
       "      <th>15</th>\n",
       "      <td>BENE100015</td>\n",
       "      <td>9</td>\n",
       "    </tr>\n",
       "    <tr>\n",
       "      <th>...</th>\n",
       "      <td>...</td>\n",
       "      <td>...</td>\n",
       "    </tr>\n",
       "    <tr>\n",
       "      <th>138541</th>\n",
       "      <td>BENE99984</td>\n",
       "      <td>7</td>\n",
       "    </tr>\n",
       "    <tr>\n",
       "      <th>138549</th>\n",
       "      <td>BENE99992</td>\n",
       "      <td>8</td>\n",
       "    </tr>\n",
       "    <tr>\n",
       "      <th>138551</th>\n",
       "      <td>BENE99994</td>\n",
       "      <td>7</td>\n",
       "    </tr>\n",
       "    <tr>\n",
       "      <th>138553</th>\n",
       "      <td>BENE99997</td>\n",
       "      <td>7</td>\n",
       "    </tr>\n",
       "    <tr>\n",
       "      <th>138555</th>\n",
       "      <td>BENE99999</td>\n",
       "      <td>6</td>\n",
       "    </tr>\n",
       "  </tbody>\n",
       "</table>\n",
       "<p>34634 rows × 2 columns</p>\n",
       "</div>"
      ],
      "text/plain": [
       "               BID  claims_count\n",
       "1       BENE100001            10\n",
       "2       BENE100002            14\n",
       "4       BENE100004             6\n",
       "10      BENE100010             7\n",
       "15      BENE100015             9\n",
       "...            ...           ...\n",
       "138541   BENE99984             7\n",
       "138549   BENE99992             8\n",
       "138551   BENE99994             7\n",
       "138553   BENE99997             7\n",
       "138555   BENE99999             6\n",
       "\n",
       "[34634 rows x 2 columns]"
      ]
     },
     "execution_count": 26,
     "metadata": {},
     "output_type": "execute_result"
    }
   ],
   "source": [
    "temp[temp['claims_count']>5]"
   ]
  },
  {
   "cell_type": "code",
   "execution_count": 17,
   "metadata": {},
   "outputs": [
    {
     "data": {
      "text/plain": [
       "0.0       496701\n",
       "1068.0     39575\n",
       "100.0       4582\n",
       "70.0        2420\n",
       "60.0        2065\n",
       "40.0        2045\n",
       "80.0        2024\n",
       "50.0        1969\n",
       "20.0        1406\n",
       "30.0        1336\n",
       "90.0        1245\n",
       "10.0        1203\n",
       "200.0        734\n",
       "897.0          2\n",
       "876.0          2\n",
       "865.0          2\n",
       "886.0          1\n",
       "Name: DeductibleAmt, dtype: int64"
      ]
     },
     "execution_count": 17,
     "metadata": {},
     "output_type": "execute_result"
    }
   ],
   "source": [
    "all_info['DeductibleAmt'].value_counts()"
   ]
  },
  {
   "cell_type": "code",
   "execution_count": 30,
   "metadata": {},
   "outputs": [
    {
     "data": {
      "text/plain": [
       "64177     Yes\n",
       "87474     Yes\n",
       "115307    Yes\n",
       "126001     No\n",
       "156075    Yes\n",
       "174679     No\n",
       "202537    Yes\n",
       "Name: Fraud, dtype: object"
      ]
     },
     "execution_count": 30,
     "metadata": {},
     "output_type": "execute_result"
    }
   ],
   "source": [
    "all_info[(all_info['DeductibleAmt']>800) &(all_info['DeductibleAmt']<1000)]['Fraud']"
   ]
  },
  {
   "cell_type": "code",
   "execution_count": 12,
   "metadata": {},
   "outputs": [
    {
     "data": {
      "text/plain": [
       "Index(['BID', 'CID', 'StartDt', 'EndDt', 'PID', 'AmtReimbursed',\n",
       "       'AttendingPhysician', 'OperatingPhysician', 'OtherPhysician',\n",
       "       'AdmissionDt', 'AdmitDiagnosisCode', 'DeductibleAmt', 'DischargeDt',\n",
       "       'DiagnosisGroupCode', 'DiagnosisCode_1', 'DiagnosisCode_2',\n",
       "       'DiagnosisCode_3', 'DiagnosisCode_4', 'DiagnosisCode_5',\n",
       "       'DiagnosisCode_6', 'DiagnosisCode_7', 'DiagnosisCode_8',\n",
       "       'DiagnosisCode_9', 'DiagnosisCode_10', 'ProcedureCode_1',\n",
       "       'ProcedureCode_2', 'ProcedureCode_3', 'ProcedureCode_4',\n",
       "       'ProcedureCode_5', 'ProcedureCode_6', 'Is_inpatient', 'Fraud', 'DOB',\n",
       "       'DOD', 'Gender', 'Race', 'RenalDisease', 'State', 'County',\n",
       "       'NumOfMonths_PartACov', 'NumOfMonths_PartBCov', 'Chronic_Alzheimer',\n",
       "       'Chronic_Heartfailure', 'Chronic_KidneyDisease', 'Chronic_Cancer',\n",
       "       'Chronic_ObstrPulmonary', 'Chronic_Depression', 'Chronic_Diabetes',\n",
       "       'Chronic_IschemicHeart', 'Chronic_Osteoporasis',\n",
       "       'Chronic_rheumatoidarthritis', 'Chronic_stroke',\n",
       "       'InpatientAnnualReimbursementAmt', 'InpatientAnnualDeductibleAmt',\n",
       "       'OutpatientAnnualReimbursementAmt', 'OutpatientAnnualDeductibleAmt'],\n",
       "      dtype='object')"
      ]
     },
     "execution_count": 12,
     "metadata": {},
     "output_type": "execute_result"
    }
   ],
   "source": [
    "all_info.columns"
   ]
  },
  {
   "cell_type": "code",
   "execution_count": 10,
   "metadata": {},
   "outputs": [
    {
     "data": {
      "text/plain": [
       "count        138556\n",
       "unique       138556\n",
       "top       BENE42425\n",
       "freq              1\n",
       "Name: BID, dtype: object"
      ]
     },
     "execution_count": 10,
     "metadata": {},
     "output_type": "execute_result"
    }
   ],
   "source": [
    "benef['BID'].describe()"
   ]
  },
  {
   "cell_type": "code",
   "execution_count": null,
   "metadata": {},
   "outputs": [],
   "source": []
  }
 ],
 "metadata": {
  "kernelspec": {
   "display_name": "Python 3.8.5 64-bit",
   "language": "python",
   "name": "python38564bit27c2c10e68134d42af8384e6691c1adc"
  },
  "language_info": {
   "codemirror_mode": {
    "name": "ipython",
    "version": 3
   },
   "file_extension": ".py",
   "mimetype": "text/x-python",
   "name": "python",
   "nbconvert_exporter": "python",
   "pygments_lexer": "ipython3",
   "version": "3.8.5"
  }
 },
 "nbformat": 4,
 "nbformat_minor": 2
}
