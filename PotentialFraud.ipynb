{
 "cells": [
  {
   "cell_type": "code",
   "execution_count": 37,
   "metadata": {},
   "outputs": [],
   "source": [
    "import pandas as pd\n",
    "import numpy as np\n",
    "import matplotlib.pyplot as plt"
   ]
  },
  {
   "cell_type": "code",
   "execution_count": 4,
   "metadata": {},
   "outputs": [],
   "source": [
    "#change the path when you run it \n",
    "claims = pd.read_csv(\"/Applications/datathon/Datathon2020data/claims.csv\")"
   ]
  },
  {
   "cell_type": "markdown",
   "metadata": {},
   "source": [
    "###  data prep"
   ]
  },
  {
   "cell_type": "code",
   "execution_count": 3,
   "metadata": {},
   "outputs": [],
   "source": [
    "##Check missing val and ensure no categorical var\n",
    "# claims.isna().any()\n",
    "# claims.info()"
   ]
  },
  {
   "cell_type": "code",
   "execution_count": 5,
   "metadata": {},
   "outputs": [],
   "source": [
    "#small fix\n",
    "claims['Age'] = claims['Age']//365\n",
    "claims['Is_Dead'] = np.where(claims['Death_age'].isna(), False, True)\n",
    "claims['DeductibleAmt'] = np.where(claims['DeductibleAmt'].isna(), 0, claims['DeductibleAmt'])"
   ]
  },
  {
   "cell_type": "code",
   "execution_count": 6,
   "metadata": {},
   "outputs": [],
   "source": [
    "claims['InpatientAnnualDeductibleAmt'] = np.where(claims['InpatientAnnualDeductibleAmt']==0,0,1)"
   ]
  },
  {
   "cell_type": "code",
   "execution_count": 7,
   "metadata": {},
   "outputs": [],
   "source": [
    "#Single grouping - amount less than 500\n",
    "claims['OutpatientAnnualDeductibleAmt'] = np.where(claims['OutpatientAnnualDeductibleAmt']<=500,0,1)"
   ]
  },
  {
   "cell_type": "code",
   "execution_count": 8,
   "metadata": {},
   "outputs": [],
   "source": [
    "claims['DeductibleAmt'] = np.where(claims['DeductibleAmt']==0, 0, 1)"
   ]
  },
  {
   "cell_type": "code",
   "execution_count": 8,
   "metadata": {},
   "outputs": [],
   "source": [
    "### TO-DO: split reimbursement amount into groups"
   ]
  },
  {
   "cell_type": "code",
   "execution_count": 10,
   "metadata": {},
   "outputs": [],
   "source": [
    "df = claims.drop(['Death_age'], axis=1)"
   ]
  },
  {
   "cell_type": "code",
   "execution_count": 62,
   "metadata": {},
   "outputs": [
    {
     "data": {
      "text/plain": [
       "AmtReimbursed                       int64\n",
       "DeductibleAmt                       int64\n",
       "Is_inpatient                        int64\n",
       "Fraud                               int64\n",
       "Gender                              int64\n",
       "Race                                int64\n",
       "RenalDisease                        int64\n",
       "State                               int64\n",
       "County                              int64\n",
       "InpatientAnnualReimbursementAmt     int64\n",
       "InpatientAnnualDeductibleAmt        int64\n",
       "OutpatientAnnualReimbursementAmt    int64\n",
       "OutpatientAnnualDeductibleAmt       int64\n",
       "NumOfClaimDays                      int64\n",
       "Age                                 int64\n",
       "DiagnosisCode_Num                   int64\n",
       "ProcedureCode_Num                   int64\n",
       "ChronicDisease_Num                  int64\n",
       "PhysiciansNum                       int64\n",
       "AdmitDiagnosInDiagnos                bool\n",
       "FullYearPlanA                        bool\n",
       "FullYearPlanB                        bool\n",
       "Is_Dead                              bool\n",
       "dtype: object"
      ]
     },
     "execution_count": 62,
     "metadata": {},
     "output_type": "execute_result"
    }
   ],
   "source": [
    "df = df[df['Fraud']==1]\n",
    "df.dtypes"
   ]
  },
  {
   "cell_type": "markdown",
   "metadata": {},
   "source": [
    "### K Means"
   ]
  },
  {
   "cell_type": "code",
   "execution_count": 275,
   "metadata": {},
   "outputs": [
    {
     "data": {
      "text/plain": [
       "AmtReimbursed                       0\n",
       "DeductibleAmt                       0\n",
       "Is_inpatient                        0\n",
       "Gender                              0\n",
       "Race                                0\n",
       "RenalDisease                        0\n",
       "State                               0\n",
       "County                              0\n",
       "InpatientAnnualReimbursementAmt     0\n",
       "InpatientAnnualDeductibleAmt        0\n",
       "OutpatientAnnualReimbursementAmt    0\n",
       "OutpatientAnnualDeductibleAmt       0\n",
       "NumOfClaimDays                      0\n",
       "Age                                 0\n",
       "DiagnosisCode_Num                   0\n",
       "ProcedureCode_Num                   0\n",
       "ChronicDisease_Num                  0\n",
       "PhysiciansNum                       0\n",
       "AdmitDiagnosInDiagnos               0\n",
       "FullYearPlanA                       0\n",
       "FullYearPlanB                       0\n",
       "Is_Dead                             0\n",
       "dtype: int64"
      ]
     },
     "execution_count": 275,
     "metadata": {},
     "output_type": "execute_result"
    }
   ],
   "source": [
    "data = claims.drop(['Death_age'], axis=1)\n",
    "X = data.drop(['Fraud'], axis=1)\n",
    "Y = np.array(data['Fraud'])\n",
    "X.isna().sum()"
   ]
  },
  {
   "cell_type": "code",
   "execution_count": 276,
   "metadata": {},
   "outputs": [
    {
     "data": {
      "text/plain": [
       "array([1, 1, 0, ..., 0, 0, 0], dtype=int32)"
      ]
     },
     "execution_count": 276,
     "metadata": {},
     "output_type": "execute_result"
    }
   ],
   "source": [
    "from sklearn.cluster import KMeans\n",
    "\n",
    "kms = KMeans(n_clusters=2, init='k-means++',\n",
    "             n_init=10, random_state=123)\n",
    "\n",
    "y_fit = kms.fit_predict(X)\n",
    "centroids = kms.cluster_centers_\n",
    "y_fit"
   ]
  },
  {
   "cell_type": "code",
   "execution_count": 277,
   "metadata": {},
   "outputs": [
    {
     "data": {
      "text/plain": [
       "array([['1'],\n",
       "       ['1'],\n",
       "       ['0'],\n",
       "       ...,\n",
       "       ['0'],\n",
       "       ['0'],\n",
       "       ['0']], dtype='<U1')"
      ]
     },
     "execution_count": 277,
     "metadata": {},
     "output_type": "execute_result"
    }
   ],
   "source": [
    "kmeans = pd.DataFrame(y_fit)\n",
    "kmean = np.where(kmeans == 1, \"1\", \"0\")\n",
    "kmean"
   ]
  },
  {
   "cell_type": "code",
   "execution_count": 278,
   "metadata": {},
   "outputs": [],
   "source": [
    "X.insert((X.shape[1]),'kmeans',kmean)  "
   ]
  },
  {
   "cell_type": "code",
   "execution_count": 279,
   "metadata": {},
   "outputs": [
    {
     "data": {
      "text/plain": [
       "<matplotlib.colorbar.Colorbar at 0x7fed24940f90>"
      ]
     },
     "execution_count": 279,
     "metadata": {},
     "output_type": "execute_result"
    },
    {
     "data": {
      "image/png": "[encoded data removed]",
      "text/plain": [
       "<Figure size 432x288 with 2 Axes>"
      ]
     },
     "metadata": {
      "needs_background": "light"
     },
     "output_type": "display_data"
    }
   ],
   "source": [
    "## Visualize...\n",
    "# color = map(lambda x:colorama[x+1], Y)\n",
    "# color1 = list(color)\n",
    "# plt.scatter(X,Y, c=y_fit, alpha = 0.5, edgecolor = 'k')\n",
    "# for idx, centroid in enumerate(centroids):\n",
    "#     plt.scatter(*centroid, color = colorama[idx+1])\n",
    "\n",
    "fig = plt.figure()\n",
    "ax = fig.add_subplot(111)\n",
    "scatter = ax.scatter(X['AmtReimbursed'],X['NumOfClaimDays'],\n",
    "                     c=kmeans,s=50)\n",
    "ax.set_title('K-Means Clustering')\n",
    "ax.set_xlabel('AmtReimbursed')\n",
    "ax.set_ylabel('NumOfClaimDays')\n",
    "plt.colorbar(scatter)"
   ]
  },
  {
   "cell_type": "code",
   "execution_count": 280,
   "metadata": {},
   "outputs": [],
   "source": [
    "## Other unsupervised clustering to try\n",
    "#IsolationForest \n",
    "from sklearn.ensemble import IsolationForest\n",
    "from sklearn.model_selection import train_test_split\n",
    "from sklearn.metrics import mean_squared_error \n",
    "\n",
    "X = data.drop(['Fraud'], axis=1)\n",
    "Y = np.array(data['Fraud'])\n",
    "X_train, X_test, y_train, y_test= train_test_split(X, Y, test_size=0.3, random_state=123)\n",
    "iso = IsolationForest(contamination=0.1, random_state=123)\n",
    "iso_pred = iso.fit_predict(X_train)"
   ]
  },
  {
   "cell_type": "code",
   "execution_count": 281,
   "metadata": {},
   "outputs": [
    {
     "name": "stdout",
     "output_type": "stream",
     "text": [
      "390747\n",
      "390747\n"
     ]
    }
   ],
   "source": [
    "print(len(X_train))\n",
    "print(len(iso_pred))"
   ]
  },
  {
   "cell_type": "code",
   "execution_count": 252,
   "metadata": {},
   "outputs": [],
   "source": [
    "# mask = iso_pred==-1\n",
    "# mask = mask.tolist()\n",
    "# X_train, y_train = X_train.iloc[mask], y_train[mask]\n",
    "# yhat = iso.predict(X_test)\n",
    "# mse = mean_squared_error(y_test, yhat)"
   ]
  },
  {
   "cell_type": "code",
   "execution_count": 284,
   "metadata": {},
   "outputs": [
    {
     "name": "stdout",
     "output_type": "stream",
     "text": [
      "The possibility that ouliers are fraud is 0.5154958413307742\n"
     ]
    },
    {
     "name": "stderr",
     "output_type": "stream",
     "text": [
      "/Users/joy/opt/anaconda3/lib/python3.7/site-packages/ipykernel_launcher.py:3: SettingWithCopyWarning: \n",
      "A value is trying to be set on a copy of a slice from a DataFrame.\n",
      "Try using .loc[row_indexer,col_indexer] = value instead\n",
      "\n",
      "See the caveats in the documentation: https://pandas.pydata.org/pandas-docs/stable/user_guide/indexing.html#returning-a-view-versus-a-copy\n",
      "  This is separate from the ipykernel package so we can avoid doing imports until\n"
     ]
    }
   ],
   "source": [
    "X_iso_train = X_train\n",
    "y_iso_train = y_train\n",
    "X_iso_train['iso_pred'] = iso_pred\n",
    "X_iso_train_outliers = X_iso_train[X_iso_train['iso_pred'] == -1]\n",
    "Y_iso_train_outliers = y_iso_train[X_iso_train['iso_pred'] == -1]\n",
    "Y_iso_train_outliers.sum()\n",
    "outlier_Fraud = Y_iso_train_outliers.sum()/len(X_iso_train_outliers)\n",
    "print('The possibility that ouliers are fraud is {}'.format(outlier_Fraud))"
   ]
  },
  {
   "cell_type": "code",
   "execution_count": 285,
   "metadata": {},
   "outputs": [
    {
     "data": {
      "text/plain": [
       "0.6223515471647895"
      ]
     },
     "execution_count": 285,
     "metadata": {},
     "output_type": "execute_result"
    }
   ],
   "source": [
    "# compute accuracy\n",
    "y_result = iso_pred - y_train\n",
    "y_result = y_result.tolist()\n",
    "train_accuracy = (y_result.count(-2)+y_result.count(1))/len(y_result)\n",
    "train_accuracy"
   ]
  },
  {
   "cell_type": "markdown",
   "metadata": {},
   "source": [
    "# OneClassSVM"
   ]
  },
  {
   "cell_type": "code",
   "execution_count": null,
   "metadata": {},
   "outputs": [],
   "source": [
    "# OneClassSVM \n",
    "from sklearn.svm import OneClassSVM \n",
    "train, test = train_test_split(data, test_size=.2) \n",
    "train_normal = train[train['Fraud']==0] \n",
    "train_outliers = train[train['Fraud']==1] \n",
    "outlier_prop = len(train_outliers) / len(train_normal) \n",
    "svm = OneClassSVM(kernel='rbf', nu=outlier_prop, gamma=0.01) \n",
    "svm_pred = svm.fit_predict(train)"
   ]
  },
  {
   "cell_type": "code",
   "execution_count": null,
   "metadata": {},
   "outputs": [],
   "source": [
    "X_svm_train = train.drop('Fraud',axis=1)\n",
    "y_svm_train = train['Fraud']\n",
    "X_svm_train['svm_pred'] = svm_pred\n",
    "X_svm_train_outliers = X_svm_train[X_svm_train['iso_pred'] == -1]\n",
    "Y_svm_train_outliers = y_iso_train[X_svm_train['iso_pred'] == -1]\n",
    "Y_svm_train_outliers.sum()\n",
    "outlier_Fraud = Y_svm_train_outliers.sum()/len(X_svm_train_outliers)\n",
    "print('The possibility that ouliers are fraud is {}'.format(outlier_Fraud))"
   ]
  },
  {
   "cell_type": "markdown",
   "metadata": {},
   "source": [
    "# LocalOutlierFactor"
   ]
  },
  {
   "cell_type": "code",
   "execution_count": null,
   "metadata": {},
   "outputs": [],
   "source": [
    "from sklearn.neighbors import LocalOutlierFactor\n",
    "lof = LocalOutlierFactor(n_neighbors=2)\n",
    "lof_pred = lof.fit_predict(X)\n",
    "X_lof = X\n",
    "X_lof['lof_pred'] = lof_pred\n",
    "X_lof['negative_outlier_factor'] = lof.negative_outlier_factor_"
   ]
  },
  {
   "cell_type": "code",
   "execution_count": 228,
   "metadata": {},
   "outputs": [
    {
     "name": "stdout",
     "output_type": "stream",
     "text": [
      "The possibility that ouliers are fraud is 1.0\n"
     ]
    }
   ],
   "source": [
    "X_outliers = X_lof[X_lof['lof_pred'] == -1]\n",
    "Y_outliers = Y[X_lof['lof_pred'] == -1]\n",
    "Y_outliers.sum()\n",
    "outlier_Fraud = len(X_outliers)/Y_outliers.sum()\n",
    "print('The possibility that ouliers are fraud is {}'.format(outlier_Fraud))"
   ]
  },
  {
   "cell_type": "code",
   "execution_count": 229,
   "metadata": {},
   "outputs": [],
   "source": [
    "#Test on Fraud data\n",
    "fraud = data[data['Fraud'] == 1]\n",
    "X_fraud = fraud.drop(['Fraud'], axis=1)\n",
    "Y_fraud = np.array(fraud['Fraud'])\n",
    "lof_fraud = LocalOutlierFactor(n_neighbors=20)\n",
    "lof_pred_fraud = lof_fraud.fit_predict(X_fraud)"
   ]
  },
  {
   "cell_type": "code",
   "execution_count": 231,
   "metadata": {},
   "outputs": [],
   "source": [
    "X_fraud['lof_pred_fraud'] = lof_pred_fraud\n",
    "X_fraud['negative_outlier_factor'] = lof_fraud.negative_outlier_factor_"
   ]
  },
  {
   "cell_type": "code",
   "execution_count": 234,
   "metadata": {},
   "outputs": [
    {
     "data": {
      "text/html": [
       "<div>\n",
       "<style scoped>\n",
       "    .dataframe tbody tr th:only-of-type {\n",
       "        vertical-align: middle;\n",
       "    }\n",
       "\n",
       "    .dataframe tbody tr th {\n",
       "        vertical-align: top;\n",
       "    }\n",
       "\n",
       "    .dataframe thead th {\n",
       "        text-align: right;\n",
       "    }\n",
       "</style>\n",
       "<table border=\"1\" class=\"dataframe\">\n",
       "  <thead>\n",
       "    <tr style=\"text-align: right;\">\n",
       "      <th></th>\n",
       "      <th>AmtReimbursed</th>\n",
       "      <th>DeductibleAmt</th>\n",
       "      <th>Is_inpatient</th>\n",
       "      <th>Gender</th>\n",
       "      <th>Race</th>\n",
       "      <th>RenalDisease</th>\n",
       "      <th>State</th>\n",
       "      <th>County</th>\n",
       "      <th>InpatientAnnualReimbursementAmt</th>\n",
       "      <th>InpatientAnnualDeductibleAmt</th>\n",
       "      <th>OutpatientAnnualReimbursementAmt</th>\n",
       "      <th>OutpatientAnnualDeductibleAmt</th>\n",
       "      <th>NumOfClaimDays</th>\n",
       "      <th>Age</th>\n",
       "      <th>DiagnosisCode_Num</th>\n",
       "      <th>ProcedureCode_Num</th>\n",
       "      <th>ChronicDisease_Num</th>\n",
       "      <th>PhysiciansNum</th>\n",
       "      <th>lof_pred_fraud</th>\n",
       "      <th>negative_outlier_factor</th>\n",
       "    </tr>\n",
       "  </thead>\n",
       "  <tbody>\n",
       "    <tr>\n",
       "      <th>count</th>\n",
       "      <td>2538.000000</td>\n",
       "      <td>2538.000000</td>\n",
       "      <td>2538.000000</td>\n",
       "      <td>2538.000000</td>\n",
       "      <td>2538.000000</td>\n",
       "      <td>2538.000000</td>\n",
       "      <td>2538.000000</td>\n",
       "      <td>2538.000000</td>\n",
       "      <td>2538.000000</td>\n",
       "      <td>2538.000000</td>\n",
       "      <td>2538.000000</td>\n",
       "      <td>2538.000000</td>\n",
       "      <td>2538.000000</td>\n",
       "      <td>2538.000000</td>\n",
       "      <td>2538.000000</td>\n",
       "      <td>2538.000000</td>\n",
       "      <td>2538.000000</td>\n",
       "      <td>2538.000000</td>\n",
       "      <td>2538.0</td>\n",
       "      <td>2538.000000</td>\n",
       "    </tr>\n",
       "    <tr>\n",
       "      <th>mean</th>\n",
       "      <td>4673.806147</td>\n",
       "      <td>0.326241</td>\n",
       "      <td>0.305359</td>\n",
       "      <td>1.555162</td>\n",
       "      <td>1.314815</td>\n",
       "      <td>0.281718</td>\n",
       "      <td>24.518519</td>\n",
       "      <td>389.689519</td>\n",
       "      <td>16388.065406</td>\n",
       "      <td>0.888495</td>\n",
       "      <td>4257.568952</td>\n",
       "      <td>0.427502</td>\n",
       "      <td>3.416470</td>\n",
       "      <td>70.545705</td>\n",
       "      <td>4.420804</td>\n",
       "      <td>0.273444</td>\n",
       "      <td>5.681639</td>\n",
       "      <td>1.628842</td>\n",
       "      <td>-1.0</td>\n",
       "      <td>-1.935695</td>\n",
       "    </tr>\n",
       "    <tr>\n",
       "      <th>std</th>\n",
       "      <td>12879.402895</td>\n",
       "      <td>0.468929</td>\n",
       "      <td>0.460650</td>\n",
       "      <td>0.497046</td>\n",
       "      <td>0.822779</td>\n",
       "      <td>0.449925</td>\n",
       "      <td>15.363647</td>\n",
       "      <td>299.018101</td>\n",
       "      <td>25667.326457</td>\n",
       "      <td>0.314819</td>\n",
       "      <td>10350.999375</td>\n",
       "      <td>0.494814</td>\n",
       "      <td>6.244045</td>\n",
       "      <td>16.072108</td>\n",
       "      <td>3.247666</td>\n",
       "      <td>0.597667</td>\n",
       "      <td>2.339424</td>\n",
       "      <td>0.631073</td>\n",
       "      <td>0.0</td>\n",
       "      <td>0.794542</td>\n",
       "    </tr>\n",
       "    <tr>\n",
       "      <th>min</th>\n",
       "      <td>0.000000</td>\n",
       "      <td>0.000000</td>\n",
       "      <td>0.000000</td>\n",
       "      <td>1.000000</td>\n",
       "      <td>1.000000</td>\n",
       "      <td>0.000000</td>\n",
       "      <td>1.000000</td>\n",
       "      <td>0.000000</td>\n",
       "      <td>-500.000000</td>\n",
       "      <td>0.000000</td>\n",
       "      <td>-60.000000</td>\n",
       "      <td>0.000000</td>\n",
       "      <td>0.000000</td>\n",
       "      <td>25.000000</td>\n",
       "      <td>0.000000</td>\n",
       "      <td>0.000000</td>\n",
       "      <td>0.000000</td>\n",
       "      <td>0.000000</td>\n",
       "      <td>-1.0</td>\n",
       "      <td>-15.460533</td>\n",
       "    </tr>\n",
       "    <tr>\n",
       "      <th>25%</th>\n",
       "      <td>60.000000</td>\n",
       "      <td>0.000000</td>\n",
       "      <td>0.000000</td>\n",
       "      <td>1.000000</td>\n",
       "      <td>1.000000</td>\n",
       "      <td>0.000000</td>\n",
       "      <td>10.000000</td>\n",
       "      <td>140.000000</td>\n",
       "      <td>2000.000000</td>\n",
       "      <td>1.000000</td>\n",
       "      <td>330.000000</td>\n",
       "      <td>0.000000</td>\n",
       "      <td>0.000000</td>\n",
       "      <td>65.000000</td>\n",
       "      <td>2.000000</td>\n",
       "      <td>0.000000</td>\n",
       "      <td>4.000000</td>\n",
       "      <td>1.000000</td>\n",
       "      <td>-1.0</td>\n",
       "      <td>-1.951982</td>\n",
       "    </tr>\n",
       "    <tr>\n",
       "      <th>50%</th>\n",
       "      <td>200.000000</td>\n",
       "      <td>0.000000</td>\n",
       "      <td>0.000000</td>\n",
       "      <td>2.000000</td>\n",
       "      <td>1.000000</td>\n",
       "      <td>0.000000</td>\n",
       "      <td>23.000000</td>\n",
       "      <td>331.000000</td>\n",
       "      <td>7700.000000</td>\n",
       "      <td>1.000000</td>\n",
       "      <td>1470.000000</td>\n",
       "      <td>0.000000</td>\n",
       "      <td>0.000000</td>\n",
       "      <td>73.000000</td>\n",
       "      <td>3.000000</td>\n",
       "      <td>0.000000</td>\n",
       "      <td>5.000000</td>\n",
       "      <td>2.000000</td>\n",
       "      <td>-1.0</td>\n",
       "      <td>-1.683993</td>\n",
       "    </tr>\n",
       "    <tr>\n",
       "      <th>75%</th>\n",
       "      <td>3000.000000</td>\n",
       "      <td>1.000000</td>\n",
       "      <td>1.000000</td>\n",
       "      <td>2.000000</td>\n",
       "      <td>1.000000</td>\n",
       "      <td>1.000000</td>\n",
       "      <td>37.000000</td>\n",
       "      <td>600.000000</td>\n",
       "      <td>16780.000000</td>\n",
       "      <td>1.000000</td>\n",
       "      <td>3915.000000</td>\n",
       "      <td>1.000000</td>\n",
       "      <td>4.000000</td>\n",
       "      <td>82.000000</td>\n",
       "      <td>8.000000</td>\n",
       "      <td>0.000000</td>\n",
       "      <td>7.000000</td>\n",
       "      <td>2.000000</td>\n",
       "      <td>-1.0</td>\n",
       "      <td>-1.568124</td>\n",
       "    </tr>\n",
       "    <tr>\n",
       "      <th>max</th>\n",
       "      <td>125000.000000</td>\n",
       "      <td>1.000000</td>\n",
       "      <td>1.000000</td>\n",
       "      <td>2.000000</td>\n",
       "      <td>5.000000</td>\n",
       "      <td>1.000000</td>\n",
       "      <td>54.000000</td>\n",
       "      <td>999.000000</td>\n",
       "      <td>161470.000000</td>\n",
       "      <td>1.000000</td>\n",
       "      <td>102960.000000</td>\n",
       "      <td>1.000000</td>\n",
       "      <td>35.000000</td>\n",
       "      <td>101.000000</td>\n",
       "      <td>10.000000</td>\n",
       "      <td>4.000000</td>\n",
       "      <td>11.000000</td>\n",
       "      <td>3.000000</td>\n",
       "      <td>-1.0</td>\n",
       "      <td>-1.500108</td>\n",
       "    </tr>\n",
       "  </tbody>\n",
       "</table>\n",
       "</div>"
      ],
      "text/plain": [
       "       AmtReimbursed  DeductibleAmt  Is_inpatient       Gender         Race  \\\n",
       "count    2538.000000    2538.000000   2538.000000  2538.000000  2538.000000   \n",
       "mean     4673.806147       0.326241      0.305359     1.555162     1.314815   \n",
       "std     12879.402895       0.468929      0.460650     0.497046     0.822779   \n",
       "min         0.000000       0.000000      0.000000     1.000000     1.000000   \n",
       "25%        60.000000       0.000000      0.000000     1.000000     1.000000   \n",
       "50%       200.000000       0.000000      0.000000     2.000000     1.000000   \n",
       "75%      3000.000000       1.000000      1.000000     2.000000     1.000000   \n",
       "max    125000.000000       1.000000      1.000000     2.000000     5.000000   \n",
       "\n",
       "       RenalDisease        State       County  \\\n",
       "count   2538.000000  2538.000000  2538.000000   \n",
       "mean       0.281718    24.518519   389.689519   \n",
       "std        0.449925    15.363647   299.018101   \n",
       "min        0.000000     1.000000     0.000000   \n",
       "25%        0.000000    10.000000   140.000000   \n",
       "50%        0.000000    23.000000   331.000000   \n",
       "75%        1.000000    37.000000   600.000000   \n",
       "max        1.000000    54.000000   999.000000   \n",
       "\n",
       "       InpatientAnnualReimbursementAmt  InpatientAnnualDeductibleAmt  \\\n",
       "count                      2538.000000                   2538.000000   \n",
       "mean                      16388.065406                      0.888495   \n",
       "std                       25667.326457                      0.314819   \n",
       "min                        -500.000000                      0.000000   \n",
       "25%                        2000.000000                      1.000000   \n",
       "50%                        7700.000000                      1.000000   \n",
       "75%                       16780.000000                      1.000000   \n",
       "max                      161470.000000                      1.000000   \n",
       "\n",
       "       OutpatientAnnualReimbursementAmt  OutpatientAnnualDeductibleAmt  \\\n",
       "count                       2538.000000                    2538.000000   \n",
       "mean                        4257.568952                       0.427502   \n",
       "std                        10350.999375                       0.494814   \n",
       "min                          -60.000000                       0.000000   \n",
       "25%                          330.000000                       0.000000   \n",
       "50%                         1470.000000                       0.000000   \n",
       "75%                         3915.000000                       1.000000   \n",
       "max                       102960.000000                       1.000000   \n",
       "\n",
       "       NumOfClaimDays          Age  DiagnosisCode_Num  ProcedureCode_Num  \\\n",
       "count     2538.000000  2538.000000        2538.000000        2538.000000   \n",
       "mean         3.416470    70.545705           4.420804           0.273444   \n",
       "std          6.244045    16.072108           3.247666           0.597667   \n",
       "min          0.000000    25.000000           0.000000           0.000000   \n",
       "25%          0.000000    65.000000           2.000000           0.000000   \n",
       "50%          0.000000    73.000000           3.000000           0.000000   \n",
       "75%          4.000000    82.000000           8.000000           0.000000   \n",
       "max         35.000000   101.000000          10.000000           4.000000   \n",
       "\n",
       "       ChronicDisease_Num  PhysiciansNum  lof_pred_fraud  \\\n",
       "count         2538.000000    2538.000000          2538.0   \n",
       "mean             5.681639       1.628842            -1.0   \n",
       "std              2.339424       0.631073             0.0   \n",
       "min              0.000000       0.000000            -1.0   \n",
       "25%              4.000000       1.000000            -1.0   \n",
       "50%              5.000000       2.000000            -1.0   \n",
       "75%              7.000000       2.000000            -1.0   \n",
       "max             11.000000       3.000000            -1.0   \n",
       "\n",
       "       negative_outlier_factor  \n",
       "count              2538.000000  \n",
       "mean                 -1.935695  \n",
       "std                   0.794542  \n",
       "min                 -15.460533  \n",
       "25%                  -1.951982  \n",
       "50%                  -1.683993  \n",
       "75%                  -1.568124  \n",
       "max                  -1.500108  "
      ]
     },
     "execution_count": 234,
     "metadata": {},
     "output_type": "execute_result"
    }
   ],
   "source": [
    "X_real_fraud = X_fraud[X_fraud['lof_pred_fraud'] == -1]\n",
    "X_real_fraud.describe()"
   ]
  }
 ],
 "metadata": {
  "kernelspec": {
   "display_name": "Python 3",
   "language": "python",
   "name": "python3"
  },
  "language_info": {
   "codemirror_mode": {
    "name": "ipython",
    "version": 3
   },
   "file_extension": ".py",
   "mimetype": "text/x-python",
   "name": "python",
   "nbconvert_exporter": "python",
   "pygments_lexer": "ipython3",
   "version": "3.7.6"
  }
 },
 "nbformat": 4,
 "nbformat_minor": 2
}
