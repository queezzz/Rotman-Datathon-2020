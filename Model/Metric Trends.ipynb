{
 "cells": [
  {
   "cell_type": "code",
   "execution_count": 1,
   "metadata": {},
   "outputs": [],
   "source": [
    "import pandas as pd \n",
    "import numpy as np "
   ]
  },
  {
   "cell_type": "code",
   "execution_count": 2,
   "metadata": {},
   "outputs": [],
   "source": [
    "lof = pd.read_csv('../Datathon2020data/lof.csv')\n",
    "kms = pd.read_csv('../Datathon2020data/kmeans.csv')\n",
    "iso = pd.read_csv('../Datathon2020data/iso.csv')"
   ]
  },
  {
   "cell_type": "code",
   "execution_count": 3,
   "metadata": {
    "scrolled": false
   },
   "outputs": [
    {
     "data": {
      "text/plain": [
       "0    0.864979\n",
       "1    0.135021\n",
       "Name: lof, dtype: float64"
      ]
     },
     "execution_count": 3,
     "metadata": {},
     "output_type": "execute_result"
    }
   ],
   "source": [
    "lof['lof'].value_counts(normalize=True)"
   ]
  },
  {
   "cell_type": "code",
   "execution_count": 4,
   "metadata": {
    "scrolled": false
   },
   "outputs": [
    {
     "data": {
      "text/plain": [
       "0    0.914923\n",
       "1    0.085077\n",
       "Name: kmeans, dtype: float64"
      ]
     },
     "execution_count": 4,
     "metadata": {},
     "output_type": "execute_result"
    }
   ],
   "source": [
    "kms['kmeans'].value_counts(normalize=True)"
   ]
  },
  {
   "cell_type": "code",
   "execution_count": 5,
   "metadata": {
    "scrolled": true
   },
   "outputs": [
    {
     "data": {
      "text/plain": [
       "0    0.899998\n",
       "1    0.100002\n",
       "Name: iso, dtype: float64"
      ]
     },
     "execution_count": 5,
     "metadata": {},
     "output_type": "execute_result"
    }
   ],
   "source": [
    "iso['iso'].value_counts(normalize=True)"
   ]
  },
  {
   "cell_type": "markdown",
   "metadata": {},
   "source": [
    "### Merging all results"
   ]
  },
  {
   "cell_type": "code",
   "execution_count": 6,
   "metadata": {},
   "outputs": [],
   "source": [
    "all_df = pd.concat([lof, kms[['kmeans']], iso[['iso']]], axis=1)"
   ]
  },
  {
   "cell_type": "code",
   "execution_count": 7,
   "metadata": {},
   "outputs": [],
   "source": [
    "all_df['mutual_real'] = np.where(((all_df['lof']==1)&(all_df['kmeans']==1)&(all_df['iso']==1)), '1','0')\n",
    "all_df['union_real'] = np.where((all_df['lof']==1)|(all_df['kmeans']==1)|(all_df['iso']==1), '1','0')"
   ]
  },
  {
   "cell_type": "code",
   "execution_count": 8,
   "metadata": {},
   "outputs": [
    {
     "data": {
      "text/plain": [
       "0    0.994304\n",
       "1    0.005696\n",
       "Name: mutual_real, dtype: float64"
      ]
     },
     "execution_count": 8,
     "metadata": {},
     "output_type": "execute_result"
    }
   ],
   "source": [
    "all_df['mutual_real'].value_counts(normalize=True)"
   ]
  },
  {
   "cell_type": "code",
   "execution_count": 9,
   "metadata": {},
   "outputs": [
    {
     "data": {
      "text/plain": [
       "0    0.743303\n",
       "1    0.256697\n",
       "Name: union_real, dtype: float64"
      ]
     },
     "execution_count": 9,
     "metadata": {},
     "output_type": "execute_result"
    }
   ],
   "source": [
    "all_df['union_real'].value_counts(normalize=True)"
   ]
  },
  {
   "cell_type": "code",
   "execution_count": 10,
   "metadata": {},
   "outputs": [],
   "source": [
    "all_df.drop(['kmeans', 'iso'], axis=1, inplace=True)"
   ]
  },
  {
   "cell_type": "markdown",
   "metadata": {},
   "source": [
    "### Merge back with non_fraud"
   ]
  },
  {
   "cell_type": "code",
   "execution_count": 11,
   "metadata": {},
   "outputs": [],
   "source": [
    "claims = pd.read_csv('../cleaned_data/claims.csv')\n",
    "\n",
    "#small fix from the last notebook \n",
    "claims['Age'] = claims['Age']//365\n",
    "claims['Is_Dead'] = np.where(claims['Death_age'].isna(), False, True)\n",
    "claims['DeductibleAmt'] = np.where(claims['DeductibleAmt'].isna(), 0, claims['DeductibleAmt'])\n",
    "\n",
    "claims['InpatientAnnualDeductibleAmt'] = np.where(claims['InpatientAnnualDeductibleAmt']==0,0,1)\n",
    "\n",
    "#Single grouping - amount less than 500\n",
    "claims['OutpatientAnnualDeductibleAmt'] = np.where(claims['OutpatientAnnualDeductibleAmt']<=500,0,1)\n",
    "\n",
    "claims['DeductibleAmt'] = np.where(claims['DeductibleAmt']==0, 0, 1)\n",
    "\n",
    "#small fix\n",
    "claims['Age'] = claims['Age']//365\n",
    "claims['Is_Dead'] = np.where(claims['Death_age'].isna(), False, True)\n",
    "claims['DeductibleAmt'] = np.where(claims['DeductibleAmt'].isna(), 0, claims['DeductibleAmt'])\n",
    "\n",
    "claims['InpatientAnnualDeductibleAmt'] = np.where(claims['InpatientAnnualDeductibleAmt']==0,0,1)\n",
    "\n",
    "#Single grouping - amount less than 500\n",
    "claims['OutpatientAnnualDeductibleAmt'] = np.where(claims['OutpatientAnnualDeductibleAmt']<=500,0,1)\n",
    "\n",
    "claims['DeductibleAmt'] = np.where(claims['DeductibleAmt']==0, 0, 1)"
   ]
  },
  {
   "cell_type": "code",
   "execution_count": 12,
   "metadata": {},
   "outputs": [],
   "source": [
    "### TO-DO: split reimbursement amount into groups"
   ]
  },
  {
   "cell_type": "code",
   "execution_count": 13,
   "metadata": {},
   "outputs": [],
   "source": [
    "non_fraud = claims[claims['Fraud']==0].reset_index(drop=True)"
   ]
  },
  {
   "cell_type": "code",
   "execution_count": 14,
   "metadata": {},
   "outputs": [],
   "source": [
    "non_fraud.drop(['Death_age','Fraud'],axis=1, inplace=True)"
   ]
  },
  {
   "cell_type": "code",
   "execution_count": 15,
   "metadata": {},
   "outputs": [],
   "source": [
    "non_fraud['union_real'] = '-1'\n",
    "non_fraud['mutual_real'] = '-1'\n",
    "non_fraud['lof'] = -1"
   ]
  },
  {
   "cell_type": "code",
   "execution_count": 16,
   "metadata": {},
   "outputs": [],
   "source": [
    "df = pd.concat([non_fraud, all_df], axis=0).reset_index(drop=True)"
   ]
  },
  {
   "cell_type": "code",
   "execution_count": 74,
   "metadata": {},
   "outputs": [],
   "source": [
    "#df.to_csv('../web_app/data/final.csv')"
   ]
  },
  {
   "cell_type": "code",
   "execution_count": 75,
   "metadata": {
    "scrolled": false
   },
   "outputs": [
    {
     "name": "stdout",
     "output_type": "stream",
     "text": [
      "<class 'pandas.core.frame.DataFrame'>\n",
      "RangeIndex: 558211 entries, 0 to 558210\n",
      "Data columns (total 26 columns):\n",
      " #   Column                            Non-Null Count   Dtype \n",
      "---  ------                            --------------   ----- \n",
      " 0   AmtReimbursed                     558211 non-null  int64 \n",
      " 1   DeductibleAmt                     558211 non-null  int64 \n",
      " 2   Is_inpatient                      558211 non-null  int64 \n",
      " 3   Gender                            558211 non-null  int64 \n",
      " 4   Race                              558211 non-null  int64 \n",
      " 5   RenalDisease                      558211 non-null  int64 \n",
      " 6   State                             558211 non-null  int64 \n",
      " 7   County                            558211 non-null  int64 \n",
      " 8   InpatientAnnualReimbursementAmt   558211 non-null  int64 \n",
      " 9   InpatientAnnualDeductibleAmt      558211 non-null  int64 \n",
      " 10  OutpatientAnnualReimbursementAmt  558211 non-null  int64 \n",
      " 11  OutpatientAnnualDeductibleAmt     558211 non-null  int64 \n",
      " 12  NumOfClaimDays                    558211 non-null  int64 \n",
      " 13  Age                               558211 non-null  int64 \n",
      " 14  DiagnosisCode_Num                 558211 non-null  int64 \n",
      " 15  ProcedureCode_Num                 558211 non-null  int64 \n",
      " 16  ChronicDisease_Num                558211 non-null  int64 \n",
      " 17  PhysiciansNum                     558211 non-null  int64 \n",
      " 18  AdmitDiagnosInDiagnos             558211 non-null  bool  \n",
      " 19  FullYearPlanA                     558211 non-null  bool  \n",
      " 20  FullYearPlanB                     558211 non-null  bool  \n",
      " 21  Is_Dead                           558211 non-null  bool  \n",
      " 22  union_real                        558211 non-null  object\n",
      " 23  mutual_real                       558211 non-null  object\n",
      " 24  lof                               558211 non-null  int64 \n",
      " 25  Reimbursed_Level                  558211 non-null  object\n",
      "dtypes: bool(4), int64(19), object(3)\n",
      "memory usage: 95.8+ MB\n"
     ]
    }
   ],
   "source": [
    "df.info()"
   ]
  },
  {
   "cell_type": "markdown",
   "metadata": {},
   "source": [
    "### Visualization"
   ]
  },
  {
   "cell_type": "code",
   "execution_count": 18,
   "metadata": {},
   "outputs": [],
   "source": [
    "import plotly.express as px"
   ]
  },
  {
   "cell_type": "code",
   "execution_count": 72,
   "metadata": {
    "scrolled": false
   },
   "outputs": [
    {
     "name": "stdout",
     "output_type": "stream",
     "text": [
      "<class 'pandas.core.frame.DataFrame'>\n",
      "RangeIndex: 558211 entries, 0 to 558210\n",
      "Data columns (total 26 columns):\n",
      " #   Column                            Non-Null Count   Dtype \n",
      "---  ------                            --------------   ----- \n",
      " 0   AmtReimbursed                     558211 non-null  int64 \n",
      " 1   DeductibleAmt                     558211 non-null  int64 \n",
      " 2   Is_inpatient                      558211 non-null  int64 \n",
      " 3   Gender                            558211 non-null  int64 \n",
      " 4   Race                              558211 non-null  int64 \n",
      " 5   RenalDisease                      558211 non-null  int64 \n",
      " 6   State                             558211 non-null  int64 \n",
      " 7   County                            558211 non-null  int64 \n",
      " 8   InpatientAnnualReimbursementAmt   558211 non-null  int64 \n",
      " 9   InpatientAnnualDeductibleAmt      558211 non-null  int64 \n",
      " 10  OutpatientAnnualReimbursementAmt  558211 non-null  int64 \n",
      " 11  OutpatientAnnualDeductibleAmt     558211 non-null  int64 \n",
      " 12  NumOfClaimDays                    558211 non-null  int64 \n",
      " 13  Age                               558211 non-null  int64 \n",
      " 14  DiagnosisCode_Num                 558211 non-null  int64 \n",
      " 15  ProcedureCode_Num                 558211 non-null  int64 \n",
      " 16  ChronicDisease_Num                558211 non-null  int64 \n",
      " 17  PhysiciansNum                     558211 non-null  int64 \n",
      " 18  AdmitDiagnosInDiagnos             558211 non-null  bool  \n",
      " 19  FullYearPlanA                     558211 non-null  bool  \n",
      " 20  FullYearPlanB                     558211 non-null  bool  \n",
      " 21  Is_Dead                           558211 non-null  bool  \n",
      " 22  union_real                        558211 non-null  object\n",
      " 23  mutual_real                       558211 non-null  object\n",
      " 24  lof                               558211 non-null  int64 \n",
      " 25  Reimbursed_Level                  558211 non-null  object\n",
      "dtypes: bool(4), int64(19), object(3)\n",
      "memory usage: 95.8+ MB\n"
     ]
    }
   ],
   "source": [
    "df.info()"
   ]
  },
  {
   "cell_type": "code",
   "execution_count": 20,
   "metadata": {},
   "outputs": [],
   "source": [
    "pd.options.plotting.backend = \"plotly\""
   ]
  },
  {
   "cell_type": "code",
   "execution_count": 27,
   "metadata": {},
   "outputs": [
    {
     "data": {
      "text/plain": [
       "-1    345415\n",
       "0     158172\n",
       "1      54624\n",
       "Name: union_real, dtype: int64"
      ]
     },
     "execution_count": 27,
     "metadata": {},
     "output_type": "execute_result"
    }
   ],
   "source": [
    "df['union_real'].value_counts()"
   ]
  },
  {
   "cell_type": "code",
   "execution_count": 28,
   "metadata": {
    "scrolled": false
   },
   "outputs": [],
   "source": [
    "real = df[df['union_real']=='1']\n",
    "potential = df[df['union_real']=='0']\n",
    "non = df[df['union_real']=='-1']"
   ]
  },
  {
   "cell_type": "code",
   "execution_count": 32,
   "metadata": {
    "scrolled": false
   },
   "outputs": [],
   "source": [
    "real[['AmtReimbursed','ChronicDisease_Num',\n",
    "    'Is_inpatient']].plot.scatter(\n",
    "    x='ChronicDisease_Num', y='AmtReimbursed',\n",
    "    size='ChronicDisease_Num', color='Is_inpatient')"
   ]
  },
  {
   "cell_type": "code",
   "execution_count": 40,
   "metadata": {},
   "outputs": [
    {
     "data": {
      "text/html": [
       "<div>\n",
       "<style scoped>\n",
       "    .dataframe tbody tr th:only-of-type {\n",
       "        vertical-align: middle;\n",
       "    }\n",
       "\n",
       "    .dataframe tbody tr th {\n",
       "        vertical-align: top;\n",
       "    }\n",
       "\n",
       "    .dataframe thead th {\n",
       "        text-align: right;\n",
       "    }\n",
       "</style>\n",
       "<table border=\"1\" class=\"dataframe\">\n",
       "  <thead>\n",
       "    <tr style=\"text-align: right;\">\n",
       "      <th></th>\n",
       "      <th>AmtReimbursed</th>\n",
       "      <th>DeductibleAmt</th>\n",
       "      <th>Is_inpatient</th>\n",
       "      <th>Gender</th>\n",
       "      <th>Race</th>\n",
       "      <th>RenalDisease</th>\n",
       "      <th>State</th>\n",
       "      <th>County</th>\n",
       "      <th>InpatientAnnualReimbursementAmt</th>\n",
       "      <th>InpatientAnnualDeductibleAmt</th>\n",
       "      <th>OutpatientAnnualReimbursementAmt</th>\n",
       "      <th>OutpatientAnnualDeductibleAmt</th>\n",
       "      <th>NumOfClaimDays</th>\n",
       "      <th>Age</th>\n",
       "      <th>DiagnosisCode_Num</th>\n",
       "      <th>ProcedureCode_Num</th>\n",
       "      <th>ChronicDisease_Num</th>\n",
       "      <th>PhysiciansNum</th>\n",
       "      <th>lof</th>\n",
       "    </tr>\n",
       "  </thead>\n",
       "  <tbody>\n",
       "    <tr>\n",
       "      <th>count</th>\n",
       "      <td>16778.000000</td>\n",
       "      <td>16778.000000</td>\n",
       "      <td>16778.000000</td>\n",
       "      <td>16778.000000</td>\n",
       "      <td>16778.000000</td>\n",
       "      <td>16778.000000</td>\n",
       "      <td>16778.000000</td>\n",
       "      <td>16778.000000</td>\n",
       "      <td>16778.000000</td>\n",
       "      <td>16778.000000</td>\n",
       "      <td>16778.000000</td>\n",
       "      <td>16778.000000</td>\n",
       "      <td>16778.000000</td>\n",
       "      <td>16778.000000</td>\n",
       "      <td>16778.000000</td>\n",
       "      <td>16778.000000</td>\n",
       "      <td>16778.000000</td>\n",
       "      <td>16778.000000</td>\n",
       "      <td>16778.000000</td>\n",
       "    </tr>\n",
       "    <tr>\n",
       "      <th>mean</th>\n",
       "      <td>17825.334962</td>\n",
       "      <td>0.965431</td>\n",
       "      <td>0.989987</td>\n",
       "      <td>1.577006</td>\n",
       "      <td>1.248242</td>\n",
       "      <td>0.287341</td>\n",
       "      <td>25.634402</td>\n",
       "      <td>378.164263</td>\n",
       "      <td>25537.051496</td>\n",
       "      <td>0.992729</td>\n",
       "      <td>2346.477530</td>\n",
       "      <td>0.181845</td>\n",
       "      <td>7.212361</td>\n",
       "      <td>42.957265</td>\n",
       "      <td>8.267314</td>\n",
       "      <td>1.042019</td>\n",
       "      <td>5.501848</td>\n",
       "      <td>1.912862</td>\n",
       "      <td>-0.351115</td>\n",
       "    </tr>\n",
       "    <tr>\n",
       "      <th>std</th>\n",
       "      <td>12304.620865</td>\n",
       "      <td>0.182691</td>\n",
       "      <td>0.099566</td>\n",
       "      <td>0.494049</td>\n",
       "      <td>0.702140</td>\n",
       "      <td>0.452535</td>\n",
       "      <td>15.216511</td>\n",
       "      <td>266.078823</td>\n",
       "      <td>19436.590384</td>\n",
       "      <td>0.084965</td>\n",
       "      <td>5336.190149</td>\n",
       "      <td>0.385728</td>\n",
       "      <td>6.610144</td>\n",
       "      <td>37.337062</td>\n",
       "      <td>1.799580</td>\n",
       "      <td>0.788371</td>\n",
       "      <td>2.149900</td>\n",
       "      <td>0.560390</td>\n",
       "      <td>0.592747</td>\n",
       "    </tr>\n",
       "    <tr>\n",
       "      <th>min</th>\n",
       "      <td>8010.000000</td>\n",
       "      <td>0.000000</td>\n",
       "      <td>0.000000</td>\n",
       "      <td>1.000000</td>\n",
       "      <td>1.000000</td>\n",
       "      <td>0.000000</td>\n",
       "      <td>1.000000</td>\n",
       "      <td>0.000000</td>\n",
       "      <td>0.000000</td>\n",
       "      <td>0.000000</td>\n",
       "      <td>-70.000000</td>\n",
       "      <td>0.000000</td>\n",
       "      <td>0.000000</td>\n",
       "      <td>0.000000</td>\n",
       "      <td>0.000000</td>\n",
       "      <td>0.000000</td>\n",
       "      <td>0.000000</td>\n",
       "      <td>0.000000</td>\n",
       "      <td>-1.000000</td>\n",
       "    </tr>\n",
       "    <tr>\n",
       "      <th>25%</th>\n",
       "      <td>10000.000000</td>\n",
       "      <td>1.000000</td>\n",
       "      <td>1.000000</td>\n",
       "      <td>1.000000</td>\n",
       "      <td>1.000000</td>\n",
       "      <td>0.000000</td>\n",
       "      <td>11.000000</td>\n",
       "      <td>150.000000</td>\n",
       "      <td>12030.000000</td>\n",
       "      <td>1.000000</td>\n",
       "      <td>180.000000</td>\n",
       "      <td>0.000000</td>\n",
       "      <td>3.000000</td>\n",
       "      <td>0.000000</td>\n",
       "      <td>8.000000</td>\n",
       "      <td>1.000000</td>\n",
       "      <td>4.000000</td>\n",
       "      <td>2.000000</td>\n",
       "      <td>-1.000000</td>\n",
       "    </tr>\n",
       "    <tr>\n",
       "      <th>50%</th>\n",
       "      <td>13000.000000</td>\n",
       "      <td>1.000000</td>\n",
       "      <td>1.000000</td>\n",
       "      <td>2.000000</td>\n",
       "      <td>1.000000</td>\n",
       "      <td>0.000000</td>\n",
       "      <td>25.000000</td>\n",
       "      <td>341.000000</td>\n",
       "      <td>19000.000000</td>\n",
       "      <td>1.000000</td>\n",
       "      <td>750.000000</td>\n",
       "      <td>0.000000</td>\n",
       "      <td>5.000000</td>\n",
       "      <td>63.000000</td>\n",
       "      <td>9.000000</td>\n",
       "      <td>1.000000</td>\n",
       "      <td>5.000000</td>\n",
       "      <td>2.000000</td>\n",
       "      <td>0.000000</td>\n",
       "    </tr>\n",
       "    <tr>\n",
       "      <th>75%</th>\n",
       "      <td>20000.000000</td>\n",
       "      <td>1.000000</td>\n",
       "      <td>1.000000</td>\n",
       "      <td>2.000000</td>\n",
       "      <td>1.000000</td>\n",
       "      <td>1.000000</td>\n",
       "      <td>38.000000</td>\n",
       "      <td>570.000000</td>\n",
       "      <td>32000.000000</td>\n",
       "      <td>1.000000</td>\n",
       "      <td>2200.000000</td>\n",
       "      <td>0.000000</td>\n",
       "      <td>9.000000</td>\n",
       "      <td>76.000000</td>\n",
       "      <td>9.000000</td>\n",
       "      <td>1.000000</td>\n",
       "      <td>7.000000</td>\n",
       "      <td>2.000000</td>\n",
       "      <td>0.000000</td>\n",
       "    </tr>\n",
       "    <tr>\n",
       "      <th>max</th>\n",
       "      <td>125000.000000</td>\n",
       "      <td>1.000000</td>\n",
       "      <td>1.000000</td>\n",
       "      <td>2.000000</td>\n",
       "      <td>5.000000</td>\n",
       "      <td>1.000000</td>\n",
       "      <td>54.000000</td>\n",
       "      <td>999.000000</td>\n",
       "      <td>161470.000000</td>\n",
       "      <td>1.000000</td>\n",
       "      <td>102960.000000</td>\n",
       "      <td>1.000000</td>\n",
       "      <td>36.000000</td>\n",
       "      <td>100.000000</td>\n",
       "      <td>10.000000</td>\n",
       "      <td>5.000000</td>\n",
       "      <td>11.000000</td>\n",
       "      <td>3.000000</td>\n",
       "      <td>1.000000</td>\n",
       "    </tr>\n",
       "  </tbody>\n",
       "</table>\n",
       "</div>"
      ],
      "text/plain": [
       "       AmtReimbursed  DeductibleAmt  Is_inpatient        Gender          Race  \\\n",
       "count   16778.000000   16778.000000  16778.000000  16778.000000  16778.000000   \n",
       "mean    17825.334962       0.965431      0.989987      1.577006      1.248242   \n",
       "std     12304.620865       0.182691      0.099566      0.494049      0.702140   \n",
       "min      8010.000000       0.000000      0.000000      1.000000      1.000000   \n",
       "25%     10000.000000       1.000000      1.000000      1.000000      1.000000   \n",
       "50%     13000.000000       1.000000      1.000000      2.000000      1.000000   \n",
       "75%     20000.000000       1.000000      1.000000      2.000000      1.000000   \n",
       "max    125000.000000       1.000000      1.000000      2.000000      5.000000   \n",
       "\n",
       "       RenalDisease         State        County  \\\n",
       "count  16778.000000  16778.000000  16778.000000   \n",
       "mean       0.287341     25.634402    378.164263   \n",
       "std        0.452535     15.216511    266.078823   \n",
       "min        0.000000      1.000000      0.000000   \n",
       "25%        0.000000     11.000000    150.000000   \n",
       "50%        0.000000     25.000000    341.000000   \n",
       "75%        1.000000     38.000000    570.000000   \n",
       "max        1.000000     54.000000    999.000000   \n",
       "\n",
       "       InpatientAnnualReimbursementAmt  InpatientAnnualDeductibleAmt  \\\n",
       "count                     16778.000000                  16778.000000   \n",
       "mean                      25537.051496                      0.992729   \n",
       "std                       19436.590384                      0.084965   \n",
       "min                           0.000000                      0.000000   \n",
       "25%                       12030.000000                      1.000000   \n",
       "50%                       19000.000000                      1.000000   \n",
       "75%                       32000.000000                      1.000000   \n",
       "max                      161470.000000                      1.000000   \n",
       "\n",
       "       OutpatientAnnualReimbursementAmt  OutpatientAnnualDeductibleAmt  \\\n",
       "count                      16778.000000                   16778.000000   \n",
       "mean                        2346.477530                       0.181845   \n",
       "std                         5336.190149                       0.385728   \n",
       "min                          -70.000000                       0.000000   \n",
       "25%                          180.000000                       0.000000   \n",
       "50%                          750.000000                       0.000000   \n",
       "75%                         2200.000000                       0.000000   \n",
       "max                       102960.000000                       1.000000   \n",
       "\n",
       "       NumOfClaimDays           Age  DiagnosisCode_Num  ProcedureCode_Num  \\\n",
       "count    16778.000000  16778.000000       16778.000000       16778.000000   \n",
       "mean         7.212361     42.957265           8.267314           1.042019   \n",
       "std          6.610144     37.337062           1.799580           0.788371   \n",
       "min          0.000000      0.000000           0.000000           0.000000   \n",
       "25%          3.000000      0.000000           8.000000           1.000000   \n",
       "50%          5.000000     63.000000           9.000000           1.000000   \n",
       "75%          9.000000     76.000000           9.000000           1.000000   \n",
       "max         36.000000    100.000000          10.000000           5.000000   \n",
       "\n",
       "       ChronicDisease_Num  PhysiciansNum           lof  \n",
       "count        16778.000000   16778.000000  16778.000000  \n",
       "mean             5.501848       1.912862     -0.351115  \n",
       "std              2.149900       0.560390      0.592747  \n",
       "min              0.000000       0.000000     -1.000000  \n",
       "25%              4.000000       2.000000     -1.000000  \n",
       "50%              5.000000       2.000000      0.000000  \n",
       "75%              7.000000       2.000000      0.000000  \n",
       "max             11.000000       3.000000      1.000000  "
      ]
     },
     "execution_count": 40,
     "metadata": {},
     "output_type": "execute_result"
    }
   ],
   "source": [
    "df[df['AmtReimbursed']>8000].describe()"
   ]
  },
  {
   "cell_type": "code",
   "execution_count": 45,
   "metadata": {},
   "outputs": [],
   "source": [
    "amount= [(df['AmtReimbursed']<=300), \n",
    "         ((df['AmtReimbursed']>300)&(df['AmtReimbursed']<=1000)),\n",
    "        ((df['AmtReimbursed']>1000)&(df['AmtReimbursed']<=8000)),\n",
    "        ((df['AmtReimbursed']>8000)&(df['AmtReimbursed']<=20000)),\n",
    "        (df['AmtReimbursed']>20000)]"
   ]
  },
  {
   "cell_type": "code",
   "execution_count": 46,
   "metadata": {},
   "outputs": [],
   "source": [
    "level = ['under 300', '300-1k', '1k-8k', '8k-20k', '20k+']"
   ]
  },
  {
   "cell_type": "code",
   "execution_count": 47,
   "metadata": {},
   "outputs": [],
   "source": [
    "df['Reimbursed_Level'] = np.select(amount, level)"
   ]
  },
  {
   "cell_type": "code",
   "execution_count": 48,
   "metadata": {},
   "outputs": [
    {
     "data": {
      "text/plain": [
       "under 300    420392\n",
       "300-1k        62943\n",
       "1k-8k         58098\n",
       "8k-20k        12810\n",
       "20k+           3968\n",
       "Name: Reimbursed_Level, dtype: int64"
      ]
     },
     "execution_count": 48,
     "metadata": {},
     "output_type": "execute_result"
    }
   ],
   "source": [
    "df['Reimbursed_Level'].value_counts()"
   ]
  },
  {
   "cell_type": "code",
   "execution_count": 49,
   "metadata": {},
   "outputs": [],
   "source": [
    "temp = df.groupby(['Reimbursed_Level', 'union_real']).count().reset_index()"
   ]
  },
  {
   "cell_type": "code",
   "execution_count": 53,
   "metadata": {
    "scrolled": true
   },
   "outputs": [],
   "source": [
    "reim = temp.pivot(index='Reimbursed_Level', columns='union_real',values='AmtReimbursed').reset_index()"
   ]
  },
  {
   "cell_type": "code",
   "execution_count": 55,
   "metadata": {},
   "outputs": [],
   "source": [
    "reim.fillna(0, inplace=True)"
   ]
  },
  {
   "cell_type": "code",
   "execution_count": 64,
   "metadata": {
    "scrolled": true
   },
   "outputs": [],
   "source": [
    "reim['Reimbursed_Level'] = pd.Categorical(reim['Reimbursed_Level'],\n",
    "                                         level)"
   ]
  },
  {
   "cell_type": "code",
   "execution_count": 67,
   "metadata": {},
   "outputs": [],
   "source": [
    "reim.sort_values('Reimbursed_Level', inplace=True)"
   ]
  },
  {
   "cell_type": "code",
   "execution_count": 68,
   "metadata": {},
   "outputs": [
    {
     "data": {
      "text/html": [
       "<div>\n",
       "<style scoped>\n",
       "    .dataframe tbody tr th:only-of-type {\n",
       "        vertical-align: middle;\n",
       "    }\n",
       "\n",
       "    .dataframe tbody tr th {\n",
       "        vertical-align: top;\n",
       "    }\n",
       "\n",
       "    .dataframe thead th {\n",
       "        text-align: right;\n",
       "    }\n",
       "</style>\n",
       "<table border=\"1\" class=\"dataframe\">\n",
       "  <thead>\n",
       "    <tr style=\"text-align: right;\">\n",
       "      <th>union_real</th>\n",
       "      <th>Reimbursed_Level</th>\n",
       "      <th>-1</th>\n",
       "      <th>0</th>\n",
       "      <th>1</th>\n",
       "      <th>Fraud</th>\n",
       "      <th>Potential_Fraud</th>\n",
       "      <th>non_Fraud</th>\n",
       "    </tr>\n",
       "  </thead>\n",
       "  <tbody>\n",
       "    <tr>\n",
       "      <th>4</th>\n",
       "      <td>under 300</td>\n",
       "      <td>266380.0</td>\n",
       "      <td>124391.0</td>\n",
       "      <td>29621.0</td>\n",
       "      <td>7.046043</td>\n",
       "      <td>29.589288</td>\n",
       "      <td>63.364669</td>\n",
       "    </tr>\n",
       "    <tr>\n",
       "      <th>2</th>\n",
       "      <td>300-1k</td>\n",
       "      <td>39787.0</td>\n",
       "      <td>19077.0</td>\n",
       "      <td>4079.0</td>\n",
       "      <td>6.480466</td>\n",
       "      <td>30.308374</td>\n",
       "      <td>63.211159</td>\n",
       "    </tr>\n",
       "    <tr>\n",
       "      <th>0</th>\n",
       "      <td>1k-8k</td>\n",
       "      <td>32321.0</td>\n",
       "      <td>13398.0</td>\n",
       "      <td>12379.0</td>\n",
       "      <td>21.307102</td>\n",
       "      <td>23.061035</td>\n",
       "      <td>55.631863</td>\n",
       "    </tr>\n",
       "    <tr>\n",
       "      <th>3</th>\n",
       "      <td>8k-20k</td>\n",
       "      <td>5360.0</td>\n",
       "      <td>1306.0</td>\n",
       "      <td>6144.0</td>\n",
       "      <td>47.962529</td>\n",
       "      <td>10.195160</td>\n",
       "      <td>41.842311</td>\n",
       "    </tr>\n",
       "    <tr>\n",
       "      <th>1</th>\n",
       "      <td>20k+</td>\n",
       "      <td>1567.0</td>\n",
       "      <td>0.0</td>\n",
       "      <td>2401.0</td>\n",
       "      <td>60.509073</td>\n",
       "      <td>0.000000</td>\n",
       "      <td>39.490927</td>\n",
       "    </tr>\n",
       "  </tbody>\n",
       "</table>\n",
       "</div>"
      ],
      "text/plain": [
       "union_real Reimbursed_Level        -1         0        1      Fraud  \\\n",
       "4                 under 300  266380.0  124391.0  29621.0   7.046043   \n",
       "2                    300-1k   39787.0   19077.0   4079.0   6.480466   \n",
       "0                     1k-8k   32321.0   13398.0  12379.0  21.307102   \n",
       "3                    8k-20k    5360.0    1306.0   6144.0  47.962529   \n",
       "1                      20k+    1567.0       0.0   2401.0  60.509073   \n",
       "\n",
       "union_real  Potential_Fraud  non_Fraud  \n",
       "4                 29.589288  63.364669  \n",
       "2                 30.308374  63.211159  \n",
       "0                 23.061035  55.631863  \n",
       "3                 10.195160  41.842311  \n",
       "1                  0.000000  39.490927  "
      ]
     },
     "execution_count": 68,
     "metadata": {},
     "output_type": "execute_result"
    }
   ],
   "source": [
    "reim"
   ]
  },
  {
   "cell_type": "code",
   "execution_count": 57,
   "metadata": {},
   "outputs": [],
   "source": [
    "reim['Fraud'] = 100*reim['1']/(reim['0']+reim['1']+reim['-1'])\n",
    "reim['Potential_Fraud'] = 100*reim['0']/(reim['0']+reim['1']+reim['-1'])\n",
    "reim['non_Fraud'] = 100*reim['-1']/(reim['0']+reim['1']+reim['-1'])"
   ]
  },
  {
   "cell_type": "code",
   "execution_count": 70,
   "metadata": {},
   "outputs": [],
   "source": [
    "fig1 = reim.plot.bar(x='Reimbursed_Level', y=['Fraud',\n",
    "                                            'Potential_Fraud',\n",
    "                                            'non_Fraud'])"
   ]
  },
  {
   "cell_type": "code",
   "execution_count": 71,
   "metadata": {
    "scrolled": false
   },
   "outputs": [
    {
     "data": {
      "application/vnd.plotly.v1+json": {
       "config": {
        "plotlyServerURL": "https://plot.ly"
       },
       "data": [
        {
         "alignmentgroup": "True",
         "hovertemplate": "variable=Fraud<br>Reimbursed_Level=%{x}<br>value=%{y}<extra></extra>",
         "legendgroup": "Fraud",
         "marker": {
          "color": "#636efa"
         },
         "name": "Fraud",
         "offsetgroup": "Fraud",
         "orientation": "v",
         "showlegend": true,
         "textposition": "auto",
         "type": "bar",
         "x": [
          "under 300",
          "300-1k",
          "1k-8k",
          "8k-20k",
          "20k+"
         ],
         "xaxis": "x",
         "y": [
          7.046042741060725,
          6.480466453775638,
          21.30710179352129,
          47.96252927400469,
          60.50907258064516
         ],
         "yaxis": "y"
        },
        {
         "alignmentgroup": "True",
         "hovertemplate": "variable=Potential_Fraud<br>Reimbursed_Level=%{x}<br>value=%{y}<extra></extra>",
         "legendgroup": "Potential_Fraud",
         "marker": {
          "color": "#EF553B"
         },
         "name": "Potential_Fraud",
         "offsetgroup": "Potential_Fraud",
         "orientation": "v",
         "showlegend": true,
         "textposition": "auto",
         "type": "bar",
         "x": [
          "under 300",
          "300-1k",
          "1k-8k",
          "8k-20k",
          "20k+"
         ],
         "xaxis": "x",
         "y": [
          29.589288093017945,
          30.308374243363044,
          23.06103480326345,
          10.195160031225605,
          0
         ],
         "yaxis": "y"
        },
        {
         "alignmentgroup": "True",
         "hovertemplate": "variable=non_Fraud<br>Reimbursed_Level=%{x}<br>value=%{y}<extra></extra>",
         "legendgroup": "non_Fraud",
         "marker": {
          "color": "#00cc96"
         },
         "name": "non_Fraud",
         "offsetgroup": "non_Fraud",
         "orientation": "v",
         "showlegend": true,
         "textposition": "auto",
         "type": "bar",
         "x": [
          "under 300",
          "300-1k",
          "1k-8k",
          "8k-20k",
          "20k+"
         ],
         "xaxis": "x",
         "y": [
          63.36466916592133,
          63.21115930286132,
          55.631863403215256,
          41.84231069476971,
          39.49092741935484
         ],
         "yaxis": "y"
        }
       ],
       "layout": {
        "barmode": "relative",
        "legend": {
         "title": {
          "text": "variable"
         },
         "tracegroupgap": 0
        },
        "margin": {
         "t": 60
        },
        "template": {
         "data": {
          "bar": [
           {
            "error_x": {
             "color": "#2a3f5f"
            },
            "error_y": {
             "color": "#2a3f5f"
            },
            "marker": {
             "line": {
              "color": "#E5ECF6",
              "width": 0.5
             }
            },
            "type": "bar"
           }
          ],
          "barpolar": [
           {
            "marker": {
             "line": {
              "color": "#E5ECF6",
              "width": 0.5
             }
            },
            "type": "barpolar"
           }
          ],
          "carpet": [
           {
            "aaxis": {
             "endlinecolor": "#2a3f5f",
             "gridcolor": "white",
             "linecolor": "white",
             "minorgridcolor": "white",
             "startlinecolor": "#2a3f5f"
            },
            "baxis": {
             "endlinecolor": "#2a3f5f",
             "gridcolor": "white",
             "linecolor": "white",
             "minorgridcolor": "white",
             "startlinecolor": "#2a3f5f"
            },
            "type": "carpet"
           }
          ],
          "choropleth": [
           {
            "colorbar": {
             "outlinewidth": 0,
             "ticks": ""
            },
            "type": "choropleth"
           }
          ],
          "contour": [
           {
            "colorbar": {
             "outlinewidth": 0,
             "ticks": ""
            },
            "colorscale": [
             [
              0,
              "#0d0887"
             ],
             [
              0.1111111111111111,
              "#46039f"
             ],
             [
              0.2222222222222222,
              "#7201a8"
             ],
             [
              0.3333333333333333,
              "#9c179e"
             ],
             [
              0.4444444444444444,
              "#bd3786"
             ],
             [
              0.5555555555555556,
              "#d8576b"
             ],
             [
              0.6666666666666666,
              "#ed7953"
             ],
             [
              0.7777777777777778,
              "#fb9f3a"
             ],
             [
              0.8888888888888888,
              "#fdca26"
             ],
             [
              1,
              "#f0f921"
             ]
            ],
            "type": "contour"
           }
          ],
          "contourcarpet": [
           {
            "colorbar": {
             "outlinewidth": 0,
             "ticks": ""
            },
            "type": "contourcarpet"
           }
          ],
          "heatmap": [
           {
            "colorbar": {
             "outlinewidth": 0,
             "ticks": ""
            },
            "colorscale": [
             [
              0,
              "#0d0887"
             ],
             [
              0.1111111111111111,
              "#46039f"
             ],
             [
              0.2222222222222222,
              "#7201a8"
             ],
             [
              0.3333333333333333,
              "#9c179e"
             ],
             [
              0.4444444444444444,
              "#bd3786"
             ],
             [
              0.5555555555555556,
              "#d8576b"
             ],
             [
              0.6666666666666666,
              "#ed7953"
             ],
             [
              0.7777777777777778,
              "#fb9f3a"
             ],
             [
              0.8888888888888888,
              "#fdca26"
             ],
             [
              1,
              "#f0f921"
             ]
            ],
            "type": "heatmap"
           }
          ],
          "heatmapgl": [
           {
            "colorbar": {
             "outlinewidth": 0,
             "ticks": ""
            },
            "colorscale": [
             [
              0,
              "#0d0887"
             ],
             [
              0.1111111111111111,
              "#46039f"
             ],
             [
              0.2222222222222222,
              "#7201a8"
             ],
             [
              0.3333333333333333,
              "#9c179e"
             ],
             [
              0.4444444444444444,
              "#bd3786"
             ],
             [
              0.5555555555555556,
              "#d8576b"
             ],
             [
              0.6666666666666666,
              "#ed7953"
             ],
             [
              0.7777777777777778,
              "#fb9f3a"
             ],
             [
              0.8888888888888888,
              "#fdca26"
             ],
             [
              1,
              "#f0f921"
             ]
            ],
            "type": "heatmapgl"
           }
          ],
          "histogram": [
           {
            "marker": {
             "colorbar": {
              "outlinewidth": 0,
              "ticks": ""
             }
            },
            "type": "histogram"
           }
          ],
          "histogram2d": [
           {
            "colorbar": {
             "outlinewidth": 0,
             "ticks": ""
            },
            "colorscale": [
             [
              0,
              "#0d0887"
             ],
             [
              0.1111111111111111,
              "#46039f"
             ],
             [
              0.2222222222222222,
              "#7201a8"
             ],
             [
              0.3333333333333333,
              "#9c179e"
             ],
             [
              0.4444444444444444,
              "#bd3786"
             ],
             [
              0.5555555555555556,
              "#d8576b"
             ],
             [
              0.6666666666666666,
              "#ed7953"
             ],
             [
              0.7777777777777778,
              "#fb9f3a"
             ],
             [
              0.8888888888888888,
              "#fdca26"
             ],
             [
              1,
              "#f0f921"
             ]
            ],
            "type": "histogram2d"
           }
          ],
          "histogram2dcontour": [
           {
            "colorbar": {
             "outlinewidth": 0,
             "ticks": ""
            },
            "colorscale": [
             [
              0,
              "#0d0887"
             ],
             [
              0.1111111111111111,
              "#46039f"
             ],
             [
              0.2222222222222222,
              "#7201a8"
             ],
             [
              0.3333333333333333,
              "#9c179e"
             ],
             [
              0.4444444444444444,
              "#bd3786"
             ],
             [
              0.5555555555555556,
              "#d8576b"
             ],
             [
              0.6666666666666666,
              "#ed7953"
             ],
             [
              0.7777777777777778,
              "#fb9f3a"
             ],
             [
              0.8888888888888888,
              "#fdca26"
             ],
             [
              1,
              "#f0f921"
             ]
            ],
            "type": "histogram2dcontour"
           }
          ],
          "mesh3d": [
           {
            "colorbar": {
             "outlinewidth": 0,
             "ticks": ""
            },
            "type": "mesh3d"
           }
          ],
          "parcoords": [
           {
            "line": {
             "colorbar": {
              "outlinewidth": 0,
              "ticks": ""
             }
            },
            "type": "parcoords"
           }
          ],
          "pie": [
           {
            "automargin": true,
            "type": "pie"
           }
          ],
          "scatter": [
           {
            "marker": {
             "colorbar": {
              "outlinewidth": 0,
              "ticks": ""
             }
            },
            "type": "scatter"
           }
          ],
          "scatter3d": [
           {
            "line": {
             "colorbar": {
              "outlinewidth": 0,
              "ticks": ""
             }
            },
            "marker": {
             "colorbar": {
              "outlinewidth": 0,
              "ticks": ""
             }
            },
            "type": "scatter3d"
           }
          ],
          "scattercarpet": [
           {
            "marker": {
             "colorbar": {
              "outlinewidth": 0,
              "ticks": ""
             }
            },
            "type": "scattercarpet"
           }
          ],
          "scattergeo": [
           {
            "marker": {
             "colorbar": {
              "outlinewidth": 0,
              "ticks": ""
             }
            },
            "type": "scattergeo"
           }
          ],
          "scattergl": [
           {
            "marker": {
             "colorbar": {
              "outlinewidth": 0,
              "ticks": ""
             }
            },
            "type": "scattergl"
           }
          ],
          "scattermapbox": [
           {
            "marker": {
             "colorbar": {
              "outlinewidth": 0,
              "ticks": ""
             }
            },
            "type": "scattermapbox"
           }
          ],
          "scatterpolar": [
           {
            "marker": {
             "colorbar": {
              "outlinewidth": 0,
              "ticks": ""
             }
            },
            "type": "scatterpolar"
           }
          ],
          "scatterpolargl": [
           {
            "marker": {
             "colorbar": {
              "outlinewidth": 0,
              "ticks": ""
             }
            },
            "type": "scatterpolargl"
           }
          ],
          "scatterternary": [
           {
            "marker": {
             "colorbar": {
              "outlinewidth": 0,
              "ticks": ""
             }
            },
            "type": "scatterternary"
           }
          ],
          "surface": [
           {
            "colorbar": {
             "outlinewidth": 0,
             "ticks": ""
            },
            "colorscale": [
             [
              0,
              "#0d0887"
             ],
             [
              0.1111111111111111,
              "#46039f"
             ],
             [
              0.2222222222222222,
              "#7201a8"
             ],
             [
              0.3333333333333333,
              "#9c179e"
             ],
             [
              0.4444444444444444,
              "#bd3786"
             ],
             [
              0.5555555555555556,
              "#d8576b"
             ],
             [
              0.6666666666666666,
              "#ed7953"
             ],
             [
              0.7777777777777778,
              "#fb9f3a"
             ],
             [
              0.8888888888888888,
              "#fdca26"
             ],
             [
              1,
              "#f0f921"
             ]
            ],
            "type": "surface"
           }
          ],
          "table": [
           {
            "cells": {
             "fill": {
              "color": "#EBF0F8"
             },
             "line": {
              "color": "white"
             }
            },
            "header": {
             "fill": {
              "color": "#C8D4E3"
             },
             "line": {
              "color": "white"
             }
            },
            "type": "table"
           }
          ]
         },
         "layout": {
          "annotationdefaults": {
           "arrowcolor": "#2a3f5f",
           "arrowhead": 0,
           "arrowwidth": 1
          },
          "coloraxis": {
           "colorbar": {
            "outlinewidth": 0,
            "ticks": ""
           }
          },
          "colorscale": {
           "diverging": [
            [
             0,
             "#8e0152"
            ],
            [
             0.1,
             "#c51b7d"
            ],
            [
             0.2,
             "#de77ae"
            ],
            [
             0.3,
             "#f1b6da"
            ],
            [
             0.4,
             "#fde0ef"
            ],
            [
             0.5,
             "#f7f7f7"
            ],
            [
             0.6,
             "#e6f5d0"
            ],
            [
             0.7,
             "#b8e186"
            ],
            [
             0.8,
             "#7fbc41"
            ],
            [
             0.9,
             "#4d9221"
            ],
            [
             1,
             "#276419"
            ]
           ],
           "sequential": [
            [
             0,
             "#0d0887"
            ],
            [
             0.1111111111111111,
             "#46039f"
            ],
            [
             0.2222222222222222,
             "#7201a8"
            ],
            [
             0.3333333333333333,
             "#9c179e"
            ],
            [
             0.4444444444444444,
             "#bd3786"
            ],
            [
             0.5555555555555556,
             "#d8576b"
            ],
            [
             0.6666666666666666,
             "#ed7953"
            ],
            [
             0.7777777777777778,
             "#fb9f3a"
            ],
            [
             0.8888888888888888,
             "#fdca26"
            ],
            [
             1,
             "#f0f921"
            ]
           ],
           "sequentialminus": [
            [
             0,
             "#0d0887"
            ],
            [
             0.1111111111111111,
             "#46039f"
            ],
            [
             0.2222222222222222,
             "#7201a8"
            ],
            [
             0.3333333333333333,
             "#9c179e"
            ],
            [
             0.4444444444444444,
             "#bd3786"
            ],
            [
             0.5555555555555556,
             "#d8576b"
            ],
            [
             0.6666666666666666,
             "#ed7953"
            ],
            [
             0.7777777777777778,
             "#fb9f3a"
            ],
            [
             0.8888888888888888,
             "#fdca26"
            ],
            [
             1,
             "#f0f921"
            ]
           ]
          },
          "colorway": [
           "#636efa",
           "#EF553B",
           "#00cc96",
           "#ab63fa",
           "#FFA15A",
           "#19d3f3",
           "#FF6692",
           "#B6E880",
           "#FF97FF",
           "#FECB52"
          ],
          "font": {
           "color": "#2a3f5f"
          },
          "geo": {
           "bgcolor": "white",
           "lakecolor": "white",
           "landcolor": "#E5ECF6",
           "showlakes": true,
           "showland": true,
           "subunitcolor": "white"
          },
          "hoverlabel": {
           "align": "left"
          },
          "hovermode": "closest",
          "mapbox": {
           "style": "light"
          },
          "paper_bgcolor": "white",
          "plot_bgcolor": "#E5ECF6",
          "polar": {
           "angularaxis": {
            "gridcolor": "white",
            "linecolor": "white",
            "ticks": ""
           },
           "bgcolor": "#E5ECF6",
           "radialaxis": {
            "gridcolor": "white",
            "linecolor": "white",
            "ticks": ""
           }
          },
          "scene": {
           "xaxis": {
            "backgroundcolor": "#E5ECF6",
            "gridcolor": "white",
            "gridwidth": 2,
            "linecolor": "white",
            "showbackground": true,
            "ticks": "",
            "zerolinecolor": "white"
           },
           "yaxis": {
            "backgroundcolor": "#E5ECF6",
            "gridcolor": "white",
            "gridwidth": 2,
            "linecolor": "white",
            "showbackground": true,
            "ticks": "",
            "zerolinecolor": "white"
           },
           "zaxis": {
            "backgroundcolor": "#E5ECF6",
            "gridcolor": "white",
            "gridwidth": 2,
            "linecolor": "white",
            "showbackground": true,
            "ticks": "",
            "zerolinecolor": "white"
           }
          },
          "shapedefaults": {
           "line": {
            "color": "#2a3f5f"
           }
          },
          "ternary": {
           "aaxis": {
            "gridcolor": "white",
            "linecolor": "white",
            "ticks": ""
           },
           "baxis": {
            "gridcolor": "white",
            "linecolor": "white",
            "ticks": ""
           },
           "bgcolor": "#E5ECF6",
           "caxis": {
            "gridcolor": "white",
            "linecolor": "white",
            "ticks": ""
           }
          },
          "title": {
           "x": 0.05
          },
          "xaxis": {
           "automargin": true,
           "gridcolor": "white",
           "linecolor": "white",
           "ticks": "",
           "title": {
            "standoff": 15
           },
           "zerolinecolor": "white",
           "zerolinewidth": 2
          },
          "yaxis": {
           "automargin": true,
           "gridcolor": "white",
           "linecolor": "white",
           "ticks": "",
           "title": {
            "standoff": 15
           },
           "zerolinecolor": "white",
           "zerolinewidth": 2
          }
         }
        },
        "xaxis": {
         "anchor": "y",
         "domain": [
          0,
          1
         ],
         "title": {
          "text": "Reimbursed_Level"
         }
        },
        "yaxis": {
         "anchor": "x",
         "domain": [
          0,
          1
         ],
         "title": {
          "text": "value"
         }
        }
       }
      },
      "text/html": [
       "<div>                            <div id=\"61a263f9-de4a-433e-a13f-ea4d7b7ae816\" class=\"plotly-graph-div\" style=\"height:525px; width:100%;\"></div>            <script type=\"text/javascript\">                require([\"plotly\"], function(Plotly) {                    window.PLOTLYENV=window.PLOTLYENV || {};                                    if (document.getElementById(\"61a263f9-de4a-433e-a13f-ea4d7b7ae816\")) {                    Plotly.newPlot(                        \"61a263f9-de4a-433e-a13f-ea4d7b7ae816\",                        [{\"alignmentgroup\": \"True\", \"hovertemplate\": \"variable=Fraud<br>Reimbursed_Level=%{x}<br>value=%{y}<extra></extra>\", \"legendgroup\": \"Fraud\", \"marker\": {\"color\": \"#636efa\"}, \"name\": \"Fraud\", \"offsetgroup\": \"Fraud\", \"orientation\": \"v\", \"showlegend\": true, \"textposition\": \"auto\", \"type\": \"bar\", \"x\": [\"under 300\", \"300-1k\", \"1k-8k\", \"8k-20k\", \"20k+\"], \"xaxis\": \"x\", \"y\": [7.046042741060725, 6.480466453775638, 21.30710179352129, 47.96252927400469, 60.50907258064516], \"yaxis\": \"y\"}, {\"alignmentgroup\": \"True\", \"hovertemplate\": \"variable=Potential_Fraud<br>Reimbursed_Level=%{x}<br>value=%{y}<extra></extra>\", \"legendgroup\": \"Potential_Fraud\", \"marker\": {\"color\": \"#EF553B\"}, \"name\": \"Potential_Fraud\", \"offsetgroup\": \"Potential_Fraud\", \"orientation\": \"v\", \"showlegend\": true, \"textposition\": \"auto\", \"type\": \"bar\", \"x\": [\"under 300\", \"300-1k\", \"1k-8k\", \"8k-20k\", \"20k+\"], \"xaxis\": \"x\", \"y\": [29.589288093017945, 30.308374243363044, 23.06103480326345, 10.195160031225605, 0.0], \"yaxis\": \"y\"}, {\"alignmentgroup\": \"True\", \"hovertemplate\": \"variable=non_Fraud<br>Reimbursed_Level=%{x}<br>value=%{y}<extra></extra>\", \"legendgroup\": \"non_Fraud\", \"marker\": {\"color\": \"#00cc96\"}, \"name\": \"non_Fraud\", \"offsetgroup\": \"non_Fraud\", \"orientation\": \"v\", \"showlegend\": true, \"textposition\": \"auto\", \"type\": \"bar\", \"x\": [\"under 300\", \"300-1k\", \"1k-8k\", \"8k-20k\", \"20k+\"], \"xaxis\": \"x\", \"y\": [63.36466916592133, 63.21115930286132, 55.631863403215256, 41.84231069476971, 39.49092741935484], \"yaxis\": \"y\"}],                        {\"barmode\": \"relative\", \"legend\": {\"title\": {\"text\": \"variable\"}, \"tracegroupgap\": 0}, \"margin\": {\"t\": 60}, \"template\": {\"data\": {\"bar\": [{\"error_x\": {\"color\": \"#2a3f5f\"}, \"error_y\": {\"color\": \"#2a3f5f\"}, \"marker\": {\"line\": {\"color\": \"#E5ECF6\", \"width\": 0.5}}, \"type\": \"bar\"}], \"barpolar\": [{\"marker\": {\"line\": {\"color\": \"#E5ECF6\", \"width\": 0.5}}, \"type\": \"barpolar\"}], \"carpet\": [{\"aaxis\": {\"endlinecolor\": \"#2a3f5f\", \"gridcolor\": \"white\", \"linecolor\": \"white\", \"minorgridcolor\": \"white\", \"startlinecolor\": \"#2a3f5f\"}, \"baxis\": {\"endlinecolor\": \"#2a3f5f\", \"gridcolor\": \"white\", \"linecolor\": \"white\", \"minorgridcolor\": \"white\", \"startlinecolor\": \"#2a3f5f\"}, \"type\": \"carpet\"}], \"choropleth\": [{\"colorbar\": {\"outlinewidth\": 0, \"ticks\": \"\"}, \"type\": \"choropleth\"}], \"contour\": [{\"colorbar\": {\"outlinewidth\": 0, \"ticks\": \"\"}, \"colorscale\": [[0.0, \"#0d0887\"], [0.1111111111111111, \"#46039f\"], [0.2222222222222222, \"#7201a8\"], [0.3333333333333333, \"#9c179e\"], [0.4444444444444444, \"#bd3786\"], [0.5555555555555556, \"#d8576b\"], [0.6666666666666666, \"#ed7953\"], [0.7777777777777778, \"#fb9f3a\"], [0.8888888888888888, \"#fdca26\"], [1.0, \"#f0f921\"]], \"type\": \"contour\"}], \"contourcarpet\": [{\"colorbar\": {\"outlinewidth\": 0, \"ticks\": \"\"}, \"type\": \"contourcarpet\"}], \"heatmap\": [{\"colorbar\": {\"outlinewidth\": 0, \"ticks\": \"\"}, \"colorscale\": [[0.0, \"#0d0887\"], [0.1111111111111111, \"#46039f\"], [0.2222222222222222, \"#7201a8\"], [0.3333333333333333, \"#9c179e\"], [0.4444444444444444, \"#bd3786\"], [0.5555555555555556, \"#d8576b\"], [0.6666666666666666, \"#ed7953\"], [0.7777777777777778, \"#fb9f3a\"], [0.8888888888888888, \"#fdca26\"], [1.0, \"#f0f921\"]], \"type\": \"heatmap\"}], \"heatmapgl\": [{\"colorbar\": {\"outlinewidth\": 0, \"ticks\": \"\"}, \"colorscale\": [[0.0, \"#0d0887\"], [0.1111111111111111, \"#46039f\"], [0.2222222222222222, \"#7201a8\"], [0.3333333333333333, \"#9c179e\"], [0.4444444444444444, \"#bd3786\"], [0.5555555555555556, \"#d8576b\"], [0.6666666666666666, \"#ed7953\"], [0.7777777777777778, \"#fb9f3a\"], [0.8888888888888888, \"#fdca26\"], [1.0, \"#f0f921\"]], \"type\": \"heatmapgl\"}], \"histogram\": [{\"marker\": {\"colorbar\": {\"outlinewidth\": 0, \"ticks\": \"\"}}, \"type\": \"histogram\"}], \"histogram2d\": [{\"colorbar\": {\"outlinewidth\": 0, \"ticks\": \"\"}, \"colorscale\": [[0.0, \"#0d0887\"], [0.1111111111111111, \"#46039f\"], [0.2222222222222222, \"#7201a8\"], [0.3333333333333333, \"#9c179e\"], [0.4444444444444444, \"#bd3786\"], [0.5555555555555556, \"#d8576b\"], [0.6666666666666666, \"#ed7953\"], [0.7777777777777778, \"#fb9f3a\"], [0.8888888888888888, \"#fdca26\"], [1.0, \"#f0f921\"]], \"type\": \"histogram2d\"}], \"histogram2dcontour\": [{\"colorbar\": {\"outlinewidth\": 0, \"ticks\": \"\"}, \"colorscale\": [[0.0, \"#0d0887\"], [0.1111111111111111, \"#46039f\"], [0.2222222222222222, \"#7201a8\"], [0.3333333333333333, \"#9c179e\"], [0.4444444444444444, \"#bd3786\"], [0.5555555555555556, \"#d8576b\"], [0.6666666666666666, \"#ed7953\"], [0.7777777777777778, \"#fb9f3a\"], [0.8888888888888888, \"#fdca26\"], [1.0, \"#f0f921\"]], \"type\": \"histogram2dcontour\"}], \"mesh3d\": [{\"colorbar\": {\"outlinewidth\": 0, \"ticks\": \"\"}, \"type\": \"mesh3d\"}], \"parcoords\": [{\"line\": {\"colorbar\": {\"outlinewidth\": 0, \"ticks\": \"\"}}, \"type\": \"parcoords\"}], \"pie\": [{\"automargin\": true, \"type\": \"pie\"}], \"scatter\": [{\"marker\": {\"colorbar\": {\"outlinewidth\": 0, \"ticks\": \"\"}}, \"type\": \"scatter\"}], \"scatter3d\": [{\"line\": {\"colorbar\": {\"outlinewidth\": 0, \"ticks\": \"\"}}, \"marker\": {\"colorbar\": {\"outlinewidth\": 0, \"ticks\": \"\"}}, \"type\": \"scatter3d\"}], \"scattercarpet\": [{\"marker\": {\"colorbar\": {\"outlinewidth\": 0, \"ticks\": \"\"}}, \"type\": \"scattercarpet\"}], \"scattergeo\": [{\"marker\": {\"colorbar\": {\"outlinewidth\": 0, \"ticks\": \"\"}}, \"type\": \"scattergeo\"}], \"scattergl\": [{\"marker\": {\"colorbar\": {\"outlinewidth\": 0, \"ticks\": \"\"}}, \"type\": \"scattergl\"}], \"scattermapbox\": [{\"marker\": {\"colorbar\": {\"outlinewidth\": 0, \"ticks\": \"\"}}, \"type\": \"scattermapbox\"}], \"scatterpolar\": [{\"marker\": {\"colorbar\": {\"outlinewidth\": 0, \"ticks\": \"\"}}, \"type\": \"scatterpolar\"}], \"scatterpolargl\": [{\"marker\": {\"colorbar\": {\"outlinewidth\": 0, \"ticks\": \"\"}}, \"type\": \"scatterpolargl\"}], \"scatterternary\": [{\"marker\": {\"colorbar\": {\"outlinewidth\": 0, \"ticks\": \"\"}}, \"type\": \"scatterternary\"}], \"surface\": [{\"colorbar\": {\"outlinewidth\": 0, \"ticks\": \"\"}, \"colorscale\": [[0.0, \"#0d0887\"], [0.1111111111111111, \"#46039f\"], [0.2222222222222222, \"#7201a8\"], [0.3333333333333333, \"#9c179e\"], [0.4444444444444444, \"#bd3786\"], [0.5555555555555556, \"#d8576b\"], [0.6666666666666666, \"#ed7953\"], [0.7777777777777778, \"#fb9f3a\"], [0.8888888888888888, \"#fdca26\"], [1.0, \"#f0f921\"]], \"type\": \"surface\"}], \"table\": [{\"cells\": {\"fill\": {\"color\": \"#EBF0F8\"}, \"line\": {\"color\": \"white\"}}, \"header\": {\"fill\": {\"color\": \"#C8D4E3\"}, \"line\": {\"color\": \"white\"}}, \"type\": \"table\"}]}, \"layout\": {\"annotationdefaults\": {\"arrowcolor\": \"#2a3f5f\", \"arrowhead\": 0, \"arrowwidth\": 1}, \"coloraxis\": {\"colorbar\": {\"outlinewidth\": 0, \"ticks\": \"\"}}, \"colorscale\": {\"diverging\": [[0, \"#8e0152\"], [0.1, \"#c51b7d\"], [0.2, \"#de77ae\"], [0.3, \"#f1b6da\"], [0.4, \"#fde0ef\"], [0.5, \"#f7f7f7\"], [0.6, \"#e6f5d0\"], [0.7, \"#b8e186\"], [0.8, \"#7fbc41\"], [0.9, \"#4d9221\"], [1, \"#276419\"]], \"sequential\": [[0.0, \"#0d0887\"], [0.1111111111111111, \"#46039f\"], [0.2222222222222222, \"#7201a8\"], [0.3333333333333333, \"#9c179e\"], [0.4444444444444444, \"#bd3786\"], [0.5555555555555556, \"#d8576b\"], [0.6666666666666666, \"#ed7953\"], [0.7777777777777778, \"#fb9f3a\"], [0.8888888888888888, \"#fdca26\"], [1.0, \"#f0f921\"]], \"sequentialminus\": [[0.0, \"#0d0887\"], [0.1111111111111111, \"#46039f\"], [0.2222222222222222, \"#7201a8\"], [0.3333333333333333, \"#9c179e\"], [0.4444444444444444, \"#bd3786\"], [0.5555555555555556, \"#d8576b\"], [0.6666666666666666, \"#ed7953\"], [0.7777777777777778, \"#fb9f3a\"], [0.8888888888888888, \"#fdca26\"], [1.0, \"#f0f921\"]]}, \"colorway\": [\"#636efa\", \"#EF553B\", \"#00cc96\", \"#ab63fa\", \"#FFA15A\", \"#19d3f3\", \"#FF6692\", \"#B6E880\", \"#FF97FF\", \"#FECB52\"], \"font\": {\"color\": \"#2a3f5f\"}, \"geo\": {\"bgcolor\": \"white\", \"lakecolor\": \"white\", \"landcolor\": \"#E5ECF6\", \"showlakes\": true, \"showland\": true, \"subunitcolor\": \"white\"}, \"hoverlabel\": {\"align\": \"left\"}, \"hovermode\": \"closest\", \"mapbox\": {\"style\": \"light\"}, \"paper_bgcolor\": \"white\", \"plot_bgcolor\": \"#E5ECF6\", \"polar\": {\"angularaxis\": {\"gridcolor\": \"white\", \"linecolor\": \"white\", \"ticks\": \"\"}, \"bgcolor\": \"#E5ECF6\", \"radialaxis\": {\"gridcolor\": \"white\", \"linecolor\": \"white\", \"ticks\": \"\"}}, \"scene\": {\"xaxis\": {\"backgroundcolor\": \"#E5ECF6\", \"gridcolor\": \"white\", \"gridwidth\": 2, \"linecolor\": \"white\", \"showbackground\": true, \"ticks\": \"\", \"zerolinecolor\": \"white\"}, \"yaxis\": {\"backgroundcolor\": \"#E5ECF6\", \"gridcolor\": \"white\", \"gridwidth\": 2, \"linecolor\": \"white\", \"showbackground\": true, \"ticks\": \"\", \"zerolinecolor\": \"white\"}, \"zaxis\": {\"backgroundcolor\": \"#E5ECF6\", \"gridcolor\": \"white\", \"gridwidth\": 2, \"linecolor\": \"white\", \"showbackground\": true, \"ticks\": \"\", \"zerolinecolor\": \"white\"}}, \"shapedefaults\": {\"line\": {\"color\": \"#2a3f5f\"}}, \"ternary\": {\"aaxis\": {\"gridcolor\": \"white\", \"linecolor\": \"white\", \"ticks\": \"\"}, \"baxis\": {\"gridcolor\": \"white\", \"linecolor\": \"white\", \"ticks\": \"\"}, \"bgcolor\": \"#E5ECF6\", \"caxis\": {\"gridcolor\": \"white\", \"linecolor\": \"white\", \"ticks\": \"\"}}, \"title\": {\"x\": 0.05}, \"xaxis\": {\"automargin\": true, \"gridcolor\": \"white\", \"linecolor\": \"white\", \"ticks\": \"\", \"title\": {\"standoff\": 15}, \"zerolinecolor\": \"white\", \"zerolinewidth\": 2}, \"yaxis\": {\"automargin\": true, \"gridcolor\": \"white\", \"linecolor\": \"white\", \"ticks\": \"\", \"title\": {\"standoff\": 15}, \"zerolinecolor\": \"white\", \"zerolinewidth\": 2}}}, \"xaxis\": {\"anchor\": \"y\", \"domain\": [0.0, 1.0], \"title\": {\"text\": \"Reimbursed_Level\"}}, \"yaxis\": {\"anchor\": \"x\", \"domain\": [0.0, 1.0], \"title\": {\"text\": \"value\"}}},                        {\"responsive\": true}                    ).then(function(){\n",
       "                            \n",
       "var gd = document.getElementById('61a263f9-de4a-433e-a13f-ea4d7b7ae816');\n",
       "var x = new MutationObserver(function (mutations, observer) {{\n",
       "        var display = window.getComputedStyle(gd).display;\n",
       "        if (!display || display === 'none') {{\n",
       "            console.log([gd, 'removed!']);\n",
       "            Plotly.purge(gd);\n",
       "            observer.disconnect();\n",
       "        }}\n",
       "}});\n",
       "\n",
       "// Listen for the removal of the full notebook cells\n",
       "var notebookContainer = gd.closest('#notebook-container');\n",
       "if (notebookContainer) {{\n",
       "    x.observe(notebookContainer, {childList: true});\n",
       "}}\n",
       "\n",
       "// Listen for the clearing of the current output cell\n",
       "var outputEl = gd.closest('.output');\n",
       "if (outputEl) {{\n",
       "    x.observe(outputEl, {childList: true});\n",
       "}}\n",
       "\n",
       "                        })                };                });            </script>        </div>"
      ]
     },
     "metadata": {},
     "output_type": "display_data"
    }
   ],
   "source": [
    "fig1.show()"
   ]
  },
  {
   "cell_type": "code",
   "execution_count": null,
   "metadata": {},
   "outputs": [],
   "source": []
  }
 ],
 "metadata": {
  "kernelspec": {
   "display_name": "Python 3.8.5 64-bit",
   "language": "python",
   "name": "python38564bit27c2c10e68134d42af8384e6691c1adc"
  },
  "language_info": {
   "codemirror_mode": {
    "name": "ipython",
    "version": 3
   },
   "file_extension": ".py",
   "mimetype": "text/x-python",
   "name": "python",
   "nbconvert_exporter": "python",
   "pygments_lexer": "ipython3",
   "version": "3.8.5"
  }
 },
 "nbformat": 4,
 "nbformat_minor": 2
}
