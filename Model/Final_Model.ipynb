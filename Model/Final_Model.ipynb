{
 "cells": [
  {
   "cell_type": "code",
   "execution_count": 22,
   "metadata": {},
   "outputs": [],
   "source": [
    "import pandas as pd\n",
    "import numpy as np\n",
    "import matplotlib.pyplot as plt\n",
    "%matplotlib inline"
   ]
  },
  {
   "cell_type": "code",
   "execution_count": 46,
   "metadata": {},
   "outputs": [],
   "source": [
    "df = pd.read_csv('../web_app/morbid_final.csv')"
   ]
  },
  {
   "cell_type": "code",
   "execution_count": 58,
   "metadata": {
    "scrolled": true
   },
   "outputs": [
    {
     "data": {
      "text/plain": [
       "0    476932\n",
       "1     81279\n",
       "Name: OutpatientAnnualDeductibleAmt, dtype: int64"
      ]
     },
     "execution_count": 58,
     "metadata": {},
     "output_type": "execute_result"
    }
   ],
   "source": [
    "df['OutpatientAnnualDeductibleAmt'].value_counts()"
   ]
  },
  {
   "cell_type": "code",
   "execution_count": 47,
   "metadata": {},
   "outputs": [
    {
     "name": "stdout",
     "output_type": "stream",
     "text": [
      "<class 'pandas.core.frame.DataFrame'>\n",
      "RangeIndex: 558211 entries, 0 to 558210\n",
      "Data columns (total 37 columns):\n",
      " #   Column                            Non-Null Count   Dtype \n",
      "---  ------                            --------------   ----- \n",
      " 0   CID                               558211 non-null  object\n",
      " 1   BID                               558211 non-null  object\n",
      " 2   AmtReimbursed                     558211 non-null  int64 \n",
      " 3   DeductibleAmt                     558211 non-null  int64 \n",
      " 4   Is_inpatient                      558211 non-null  int64 \n",
      " 5   Gender                            558211 non-null  int64 \n",
      " 6   Race                              558211 non-null  int64 \n",
      " 7   RenalDisease                      558211 non-null  int64 \n",
      " 8   State                             558211 non-null  int64 \n",
      " 9   County                            558211 non-null  int64 \n",
      " 10  InpatientAnnualReimbursementAmt   558211 non-null  int64 \n",
      " 11  InpatientAnnualDeductibleAmt      558211 non-null  int64 \n",
      " 12  OutpatientAnnualReimbursementAmt  558211 non-null  int64 \n",
      " 13  OutpatientAnnualDeductibleAmt     558211 non-null  int64 \n",
      " 14  NumOfClaimDays                    558211 non-null  int64 \n",
      " 15  Age                               558211 non-null  int64 \n",
      " 16  DiagnosisCode_Num                 558211 non-null  int64 \n",
      " 17  ProcedureCode_Num                 558211 non-null  int64 \n",
      " 18  ChronicDisease_Num                558211 non-null  int64 \n",
      " 19  PhysiciansNum                     558211 non-null  int64 \n",
      " 20  AdmitDiagnosInDiagnos             558211 non-null  bool  \n",
      " 21  FullYearPlanA                     558211 non-null  bool  \n",
      " 22  FullYearPlanB                     558211 non-null  bool  \n",
      " 23  Is_Dead                           558211 non-null  bool  \n",
      " 24  lof                               558211 non-null  int64 \n",
      " 25  Reimbursed_Level                  558211 non-null  object\n",
      " 26  Chronic_Alzheimer                 558211 non-null  int64 \n",
      " 27  Chronic_Heartfailure              558211 non-null  int64 \n",
      " 28  Chronic_KidneyDisease             558211 non-null  int64 \n",
      " 29  Chronic_Cancer                    558211 non-null  int64 \n",
      " 30  Chronic_ObstrPulmonary            558211 non-null  int64 \n",
      " 31  Chronic_Depression                558211 non-null  int64 \n",
      " 32  Chronic_Diabetes                  558211 non-null  int64 \n",
      " 33  Chronic_IschemicHeart             558211 non-null  int64 \n",
      " 34  Chronic_Osteoporasis              558211 non-null  int64 \n",
      " 35  Chronic_rheumatoidarthritis       558211 non-null  int64 \n",
      " 36  Chronic_stroke                    558211 non-null  int64 \n",
      "dtypes: bool(4), int64(30), object(3)\n",
      "memory usage: 142.7+ MB\n"
     ]
    }
   ],
   "source": [
    "df.info()"
   ]
  },
  {
   "cell_type": "code",
   "execution_count": 82,
   "metadata": {},
   "outputs": [],
   "source": [
    "## lazy data cleaning\n",
    "df_lazy = df.drop(['Reimbursed_Level', 'NumOfClaimDays', 'CID','BID'], axis=1)"
   ]
  },
  {
   "cell_type": "code",
   "execution_count": 49,
   "metadata": {},
   "outputs": [],
   "source": [
    "## lazy fit w/o feature selection\n",
    "## continuous\n",
    "from sklearn.model_selection import train_test_split \n",
    "\n",
    "X_train_lazy, X_test_lazy, Y_train_lazy, Y_test_lazy = train_test_split(df_lazy.drop(['lof'], axis=1),\n",
    "                                                                        df_lazy[['lof']],\n",
    "                                                                        test_size=0.3,\n",
    "                                                                        random_state=123)"
   ]
  },
  {
   "cell_type": "code",
   "execution_count": 50,
   "metadata": {},
   "outputs": [],
   "source": [
    "import xgboost as xgb\n",
    "\n",
    "D_train_lazy = xgb.DMatrix(X_train_lazy, label=Y_train_lazy)\n",
    "D_test_lazy = xgb.DMatrix(X_test_lazy, label=Y_test_lazy)"
   ]
  },
  {
   "cell_type": "code",
   "execution_count": 51,
   "metadata": {},
   "outputs": [],
   "source": [
    "param = {'eta':0.3, 'max_depth':3, \n",
    "         'objective':'reg:squarederror',\n",
    "        'gamma':0.1}\n",
    "\n",
    "steps = 50"
   ]
  },
  {
   "cell_type": "code",
   "execution_count": 52,
   "metadata": {},
   "outputs": [],
   "source": [
    "model_1 = xgb.train(param, D_train_lazy, steps)\n",
    "preds_1 = model_1.predict(D_test_lazy)"
   ]
  },
  {
   "cell_type": "code",
   "execution_count": 53,
   "metadata": {},
   "outputs": [
    {
     "name": "stdout",
     "output_type": "stream",
     "text": [
      "RMSE: 0.207153\n"
     ]
    }
   ],
   "source": [
    "from sklearn.metrics import mean_squared_error\n",
    "rmse = np.sqrt(mean_squared_error(Y_test_lazy, preds_1))\n",
    "print(\"RMSE: %f\" % (rmse))"
   ]
  },
  {
   "cell_type": "code",
   "execution_count": 54,
   "metadata": {},
   "outputs": [
    {
     "data": {
      "image/png": "[encoded data removed]",
      "text/plain": [
       "<Figure size 432x432 with 1 Axes>"
      ]
     },
     "metadata": {
      "needs_background": "light"
     },
     "output_type": "display_data"
    }
   ],
   "source": [
    "xgb.plot_importance(model_1)\n",
    "plt.rcParams['figure.figsize'] = [6, 6]\n",
    "plt.show()"
   ]
  },
  {
   "cell_type": "code",
   "execution_count": 55,
   "metadata": {
    "scrolled": true
   },
   "outputs": [
    {
     "data": {
      "text/plain": [
       "array([ 0.11722085, -1.0010037 , -1.0055624 , ..., -1.0015649 ,\n",
       "       -0.99971795,  0.14505738], dtype=float32)"
      ]
     },
     "execution_count": 55,
     "metadata": {},
     "output_type": "execute_result"
    }
   ],
   "source": [
    "preds_1"
   ]
  },
  {
   "cell_type": "code",
   "execution_count": 59,
   "metadata": {},
   "outputs": [
    {
     "data": {
      "text/plain": [
       "['lazy_model_1.pkl']"
      ]
     },
     "execution_count": 59,
     "metadata": {},
     "output_type": "execute_result"
    }
   ],
   "source": [
    "import joblib\n",
    "\n",
    "joblib.dump(model_1, 'lazy_model_1.pkl')"
   ]
  },
  {
   "cell_type": "code",
   "execution_count": 60,
   "metadata": {},
   "outputs": [],
   "source": [
    "x=0.23"
   ]
  },
  {
   "cell_type": "code",
   "execution_count": 72,
   "metadata": {},
   "outputs": [],
   "source": [
    "def pred_convert(x):\n",
    "    return np.round((x+1)/2,3)*100"
   ]
  },
  {
   "cell_type": "code",
   "execution_count": null,
   "metadata": {},
   "outputs": [],
   "source": []
  },
  {
   "cell_type": "code",
   "execution_count": 80,
   "metadata": {},
   "outputs": [
    {
     "data": {
      "text/plain": [
       "Index(['CID', 'BID', 'AmtReimbursed', 'DeductibleAmt', 'Is_inpatient',\n",
       "       'Gender', 'Race', 'RenalDisease', 'State', 'County',\n",
       "       'InpatientAnnualReimbursementAmt', 'InpatientAnnualDeductibleAmt',\n",
       "       'OutpatientAnnualReimbursementAmt', 'OutpatientAnnualDeductibleAmt',\n",
       "       'NumOfClaimDays', 'Age', 'DiagnosisCode_Num', 'ProcedureCode_Num',\n",
       "       'ChronicDisease_Num', 'PhysiciansNum', 'AdmitDiagnosInDiagnos',\n",
       "       'FullYearPlanA', 'FullYearPlanB', 'Is_Dead', 'lof', 'Reimbursed_Level',\n",
       "       'Chronic_Alzheimer', 'Chronic_Heartfailure', 'Chronic_KidneyDisease',\n",
       "       'Chronic_Cancer', 'Chronic_ObstrPulmonary', 'Chronic_Depression',\n",
       "       'Chronic_Diabetes', 'Chronic_IschemicHeart', 'Chronic_Osteoporasis',\n",
       "       'Chronic_rheumatoidarthritis', 'Chronic_stroke'],\n",
       "      dtype='object')"
      ]
     },
     "execution_count": 80,
     "metadata": {},
     "output_type": "execute_result"
    }
   ],
   "source": [
    "df.columns"
   ]
  },
  {
   "cell_type": "code",
   "execution_count": 84,
   "metadata": {},
   "outputs": [],
   "source": [
    "df_new = df_lazy.drop(['Chronic_Alzheimer', 'Chronic_Heartfailure', 'Chronic_KidneyDisease',\n",
    "       'Chronic_Cancer', 'Chronic_ObstrPulmonary', 'Chronic_Depression',\n",
    "       'Chronic_Diabetes', 'Chronic_IschemicHeart', 'Chronic_Osteoporasis',\n",
    "       'Chronic_rheumatoidarthritis', 'Chronic_stroke',\n",
    "                 'InpatientAnnualReimbursementAmt','OutpatientAnnualReimbursementAmt','Race'], axis=1)"
   ]
  },
  {
   "cell_type": "code",
   "execution_count": 86,
   "metadata": {},
   "outputs": [
    {
     "data": {
      "text/plain": [
       "Index(['AmtReimbursed', 'DeductibleAmt', 'Is_inpatient', 'Gender',\n",
       "       'RenalDisease', 'State', 'County', 'InpatientAnnualDeductibleAmt',\n",
       "       'OutpatientAnnualDeductibleAmt', 'Age', 'DiagnosisCode_Num',\n",
       "       'ProcedureCode_Num', 'ChronicDisease_Num', 'PhysiciansNum',\n",
       "       'AdmitDiagnosInDiagnos', 'FullYearPlanA', 'FullYearPlanB', 'Is_Dead',\n",
       "       'lof'],\n",
       "      dtype='object')"
      ]
     },
     "execution_count": 86,
     "metadata": {},
     "output_type": "execute_result"
    }
   ],
   "source": [
    "df_new.columns"
   ]
  },
  {
   "cell_type": "code",
   "execution_count": 92,
   "metadata": {},
   "outputs": [
    {
     "name": "stdout",
     "output_type": "stream",
     "text": [
      "<class 'pandas.core.frame.DataFrame'>\n",
      "RangeIndex: 558211 entries, 0 to 558210\n",
      "Data columns (total 19 columns):\n",
      " #   Column                         Non-Null Count   Dtype\n",
      "---  ------                         --------------   -----\n",
      " 0   AmtReimbursed                  558211 non-null  int64\n",
      " 1   DeductibleAmt                  558211 non-null  int64\n",
      " 2   Is_inpatient                   558211 non-null  int64\n",
      " 3   Gender                         558211 non-null  int64\n",
      " 4   RenalDisease                   558211 non-null  int64\n",
      " 5   State                          558211 non-null  int64\n",
      " 6   County                         558211 non-null  int64\n",
      " 7   InpatientAnnualDeductibleAmt   558211 non-null  int64\n",
      " 8   OutpatientAnnualDeductibleAmt  558211 non-null  int64\n",
      " 9   Age                            558211 non-null  int64\n",
      " 10  DiagnosisCode_Num              558211 non-null  int64\n",
      " 11  ProcedureCode_Num              558211 non-null  int64\n",
      " 12  ChronicDisease_Num             558211 non-null  int64\n",
      " 13  PhysiciansNum                  558211 non-null  int64\n",
      " 14  AdmitDiagnosInDiagnos          558211 non-null  bool \n",
      " 15  FullYearPlanA                  558211 non-null  bool \n",
      " 16  FullYearPlanB                  558211 non-null  bool \n",
      " 17  Is_Dead                        558211 non-null  bool \n",
      " 18  lof                            558211 non-null  int64\n",
      "dtypes: bool(4), int64(15)\n",
      "memory usage: 66.0 MB\n"
     ]
    }
   ],
   "source": [
    "df_new.info()"
   ]
  },
  {
   "cell_type": "code",
   "execution_count": 88,
   "metadata": {},
   "outputs": [],
   "source": [
    "X_train_new, X_test_new, Y_train_new, Y_test_new = train_test_split(df_new.drop(['lof'], axis=1),\n",
    "                                                                        df_new[['lof']],\n",
    "                                                                        test_size=0.3,\n",
    "                                                                        random_state=123)\n",
    "\n",
    "\n",
    "D_train_new = xgb.DMatrix(X_train_new, label=Y_train_new)\n",
    "D_test_new = xgb.DMatrix(X_test_new, label=Y_test_new)\n",
    "\n",
    "param = {'eta':0.25, 'max_depth':3, \n",
    "         'objective':'reg:squarederror',\n",
    "        'gamma':0.1}\n",
    "\n",
    "steps = 50"
   ]
  },
  {
   "cell_type": "code",
   "execution_count": 89,
   "metadata": {},
   "outputs": [],
   "source": [
    "model_2 = xgb.train(param, D_train_new, steps)\n",
    "preds_2 = model_2.predict(D_test_new)"
   ]
  },
  {
   "cell_type": "code",
   "execution_count": 90,
   "metadata": {},
   "outputs": [
    {
     "name": "stdout",
     "output_type": "stream",
     "text": [
      "RMSE: 0.207906\n"
     ]
    }
   ],
   "source": [
    "from sklearn.metrics import mean_squared_error\n",
    "rmse = np.sqrt(mean_squared_error(Y_test_new, preds_2))\n",
    "print(\"RMSE: %f\" % (rmse))"
   ]
  },
  {
   "cell_type": "code",
   "execution_count": 91,
   "metadata": {},
   "outputs": [
    {
     "data": {
      "image/png": "[encoded data removed]",
      "text/plain": [
       "<Figure size 432x432 with 1 Axes>"
      ]
     },
     "metadata": {
      "needs_background": "light"
     },
     "output_type": "display_data"
    }
   ],
   "source": [
    "xgb.plot_importance(model_2)\n",
    "plt.rcParams['figure.figsize'] = [6, 6]\n",
    "plt.show()"
   ]
  },
  {
   "cell_type": "code",
   "execution_count": 93,
   "metadata": {},
   "outputs": [
    {
     "data": {
      "text/plain": [
       "0.1181933"
      ]
     },
     "execution_count": 93,
     "metadata": {},
     "output_type": "execute_result"
    }
   ],
   "source": [
    "preds_2[0]"
   ]
  },
  {
   "cell_type": "code",
   "execution_count": 94,
   "metadata": {},
   "outputs": [
    {
     "data": {
      "text/plain": [
       "['final.pkl']"
      ]
     },
     "execution_count": 94,
     "metadata": {},
     "output_type": "execute_result"
    }
   ],
   "source": [
    "joblib.dump(model_2,'final.pkl')"
   ]
  },
  {
   "cell_type": "code",
   "execution_count": 96,
   "metadata": {},
   "outputs": [
    {
     "data": {
      "text/plain": [
       "<xgboost.core.DMatrix at 0x121663910>"
      ]
     },
     "execution_count": 96,
     "metadata": {},
     "output_type": "execute_result"
    }
   ],
   "source": [
    "D_test_new"
   ]
  },
  {
   "cell_type": "code",
   "execution_count": 112,
   "metadata": {},
   "outputs": [
    {
     "data": {
      "text/plain": [
       "<xgboost.core.DMatrix at 0x1251e13d0>"
      ]
     },
     "execution_count": 112,
     "metadata": {},
     "output_type": "execute_result"
    }
   ],
   "source": [
    "D_test_new.slice([1])"
   ]
  },
  {
   "cell_type": "code",
   "execution_count": 113,
   "metadata": {},
   "outputs": [
    {
     "data": {
      "text/html": [
       "<div>\n",
       "<style scoped>\n",
       "    .dataframe tbody tr th:only-of-type {\n",
       "        vertical-align: middle;\n",
       "    }\n",
       "\n",
       "    .dataframe tbody tr th {\n",
       "        vertical-align: top;\n",
       "    }\n",
       "\n",
       "    .dataframe thead th {\n",
       "        text-align: right;\n",
       "    }\n",
       "</style>\n",
       "<table border=\"1\" class=\"dataframe\">\n",
       "  <thead>\n",
       "    <tr style=\"text-align: right;\">\n",
       "      <th></th>\n",
       "      <th>AmtReimbursed</th>\n",
       "      <th>DeductibleAmt</th>\n",
       "      <th>Is_inpatient</th>\n",
       "      <th>Gender</th>\n",
       "      <th>RenalDisease</th>\n",
       "      <th>State</th>\n",
       "      <th>County</th>\n",
       "      <th>InpatientAnnualDeductibleAmt</th>\n",
       "      <th>OutpatientAnnualDeductibleAmt</th>\n",
       "      <th>Age</th>\n",
       "      <th>DiagnosisCode_Num</th>\n",
       "      <th>ProcedureCode_Num</th>\n",
       "      <th>ChronicDisease_Num</th>\n",
       "      <th>PhysiciansNum</th>\n",
       "      <th>AdmitDiagnosInDiagnos</th>\n",
       "      <th>FullYearPlanA</th>\n",
       "      <th>FullYearPlanB</th>\n",
       "      <th>Is_Dead</th>\n",
       "    </tr>\n",
       "  </thead>\n",
       "  <tbody>\n",
       "    <tr>\n",
       "      <th>364824</th>\n",
       "      <td>60</td>\n",
       "      <td>0</td>\n",
       "      <td>0</td>\n",
       "      <td>1</td>\n",
       "      <td>0</td>\n",
       "      <td>25</td>\n",
       "      <td>40</td>\n",
       "      <td>1</td>\n",
       "      <td>0</td>\n",
       "      <td>0</td>\n",
       "      <td>1</td>\n",
       "      <td>0</td>\n",
       "      <td>4</td>\n",
       "      <td>1</td>\n",
       "      <td>False</td>\n",
       "      <td>True</td>\n",
       "      <td>True</td>\n",
       "      <td>False</td>\n",
       "    </tr>\n",
       "    <tr>\n",
       "      <th>274943</th>\n",
       "      <td>4000</td>\n",
       "      <td>1</td>\n",
       "      <td>1</td>\n",
       "      <td>1</td>\n",
       "      <td>0</td>\n",
       "      <td>49</td>\n",
       "      <td>360</td>\n",
       "      <td>1</td>\n",
       "      <td>0</td>\n",
       "      <td>0</td>\n",
       "      <td>6</td>\n",
       "      <td>1</td>\n",
       "      <td>8</td>\n",
       "      <td>2</td>\n",
       "      <td>False</td>\n",
       "      <td>True</td>\n",
       "      <td>True</td>\n",
       "      <td>False</td>\n",
       "    </tr>\n",
       "    <tr>\n",
       "      <th>499430</th>\n",
       "      <td>80</td>\n",
       "      <td>0</td>\n",
       "      <td>0</td>\n",
       "      <td>1</td>\n",
       "      <td>0</td>\n",
       "      <td>51</td>\n",
       "      <td>430</td>\n",
       "      <td>0</td>\n",
       "      <td>0</td>\n",
       "      <td>0</td>\n",
       "      <td>1</td>\n",
       "      <td>0</td>\n",
       "      <td>10</td>\n",
       "      <td>1</td>\n",
       "      <td>False</td>\n",
       "      <td>True</td>\n",
       "      <td>True</td>\n",
       "      <td>False</td>\n",
       "    </tr>\n",
       "    <tr>\n",
       "      <th>400322</th>\n",
       "      <td>50</td>\n",
       "      <td>0</td>\n",
       "      <td>0</td>\n",
       "      <td>1</td>\n",
       "      <td>0</td>\n",
       "      <td>6</td>\n",
       "      <td>200</td>\n",
       "      <td>0</td>\n",
       "      <td>0</td>\n",
       "      <td>0</td>\n",
       "      <td>2</td>\n",
       "      <td>0</td>\n",
       "      <td>10</td>\n",
       "      <td>1</td>\n",
       "      <td>False</td>\n",
       "      <td>True</td>\n",
       "      <td>True</td>\n",
       "      <td>False</td>\n",
       "    </tr>\n",
       "    <tr>\n",
       "      <th>382595</th>\n",
       "      <td>1400</td>\n",
       "      <td>0</td>\n",
       "      <td>0</td>\n",
       "      <td>2</td>\n",
       "      <td>0</td>\n",
       "      <td>51</td>\n",
       "      <td>480</td>\n",
       "      <td>0</td>\n",
       "      <td>0</td>\n",
       "      <td>0</td>\n",
       "      <td>3</td>\n",
       "      <td>0</td>\n",
       "      <td>10</td>\n",
       "      <td>2</td>\n",
       "      <td>False</td>\n",
       "      <td>True</td>\n",
       "      <td>True</td>\n",
       "      <td>False</td>\n",
       "    </tr>\n",
       "    <tr>\n",
       "      <th>...</th>\n",
       "      <td>...</td>\n",
       "      <td>...</td>\n",
       "      <td>...</td>\n",
       "      <td>...</td>\n",
       "      <td>...</td>\n",
       "      <td>...</td>\n",
       "      <td>...</td>\n",
       "      <td>...</td>\n",
       "      <td>...</td>\n",
       "      <td>...</td>\n",
       "      <td>...</td>\n",
       "      <td>...</td>\n",
       "      <td>...</td>\n",
       "      <td>...</td>\n",
       "      <td>...</td>\n",
       "      <td>...</td>\n",
       "      <td>...</td>\n",
       "      <td>...</td>\n",
       "    </tr>\n",
       "    <tr>\n",
       "      <th>194278</th>\n",
       "      <td>20</td>\n",
       "      <td>0</td>\n",
       "      <td>0</td>\n",
       "      <td>2</td>\n",
       "      <td>1</td>\n",
       "      <td>1</td>\n",
       "      <td>620</td>\n",
       "      <td>1</td>\n",
       "      <td>1</td>\n",
       "      <td>67</td>\n",
       "      <td>5</td>\n",
       "      <td>0</td>\n",
       "      <td>8</td>\n",
       "      <td>2</td>\n",
       "      <td>False</td>\n",
       "      <td>True</td>\n",
       "      <td>True</td>\n",
       "      <td>False</td>\n",
       "    </tr>\n",
       "    <tr>\n",
       "      <th>192476</th>\n",
       "      <td>90</td>\n",
       "      <td>0</td>\n",
       "      <td>0</td>\n",
       "      <td>2</td>\n",
       "      <td>0</td>\n",
       "      <td>14</td>\n",
       "      <td>660</td>\n",
       "      <td>0</td>\n",
       "      <td>0</td>\n",
       "      <td>87</td>\n",
       "      <td>8</td>\n",
       "      <td>0</td>\n",
       "      <td>4</td>\n",
       "      <td>2</td>\n",
       "      <td>False</td>\n",
       "      <td>True</td>\n",
       "      <td>True</td>\n",
       "      <td>False</td>\n",
       "    </tr>\n",
       "    <tr>\n",
       "      <th>17730</th>\n",
       "      <td>6000</td>\n",
       "      <td>1</td>\n",
       "      <td>1</td>\n",
       "      <td>2</td>\n",
       "      <td>0</td>\n",
       "      <td>36</td>\n",
       "      <td>310</td>\n",
       "      <td>1</td>\n",
       "      <td>0</td>\n",
       "      <td>69</td>\n",
       "      <td>10</td>\n",
       "      <td>1</td>\n",
       "      <td>8</td>\n",
       "      <td>2</td>\n",
       "      <td>False</td>\n",
       "      <td>True</td>\n",
       "      <td>True</td>\n",
       "      <td>False</td>\n",
       "    </tr>\n",
       "    <tr>\n",
       "      <th>28030</th>\n",
       "      <td>40</td>\n",
       "      <td>1</td>\n",
       "      <td>0</td>\n",
       "      <td>1</td>\n",
       "      <td>1</td>\n",
       "      <td>49</td>\n",
       "      <td>720</td>\n",
       "      <td>0</td>\n",
       "      <td>0</td>\n",
       "      <td>76</td>\n",
       "      <td>3</td>\n",
       "      <td>0</td>\n",
       "      <td>8</td>\n",
       "      <td>1</td>\n",
       "      <td>False</td>\n",
       "      <td>True</td>\n",
       "      <td>True</td>\n",
       "      <td>False</td>\n",
       "    </tr>\n",
       "    <tr>\n",
       "      <th>277869</th>\n",
       "      <td>100</td>\n",
       "      <td>0</td>\n",
       "      <td>0</td>\n",
       "      <td>1</td>\n",
       "      <td>0</td>\n",
       "      <td>19</td>\n",
       "      <td>500</td>\n",
       "      <td>0</td>\n",
       "      <td>0</td>\n",
       "      <td>0</td>\n",
       "      <td>3</td>\n",
       "      <td>0</td>\n",
       "      <td>9</td>\n",
       "      <td>1</td>\n",
       "      <td>False</td>\n",
       "      <td>True</td>\n",
       "      <td>True</td>\n",
       "      <td>False</td>\n",
       "    </tr>\n",
       "  </tbody>\n",
       "</table>\n",
       "<p>390747 rows × 18 columns</p>\n",
       "</div>"
      ],
      "text/plain": [
       "        AmtReimbursed  DeductibleAmt  Is_inpatient  Gender  RenalDisease  \\\n",
       "364824             60              0             0       1             0   \n",
       "274943           4000              1             1       1             0   \n",
       "499430             80              0             0       1             0   \n",
       "400322             50              0             0       1             0   \n",
       "382595           1400              0             0       2             0   \n",
       "...               ...            ...           ...     ...           ...   \n",
       "194278             20              0             0       2             1   \n",
       "192476             90              0             0       2             0   \n",
       "17730            6000              1             1       2             0   \n",
       "28030              40              1             0       1             1   \n",
       "277869            100              0             0       1             0   \n",
       "\n",
       "        State  County  InpatientAnnualDeductibleAmt  \\\n",
       "364824     25      40                             1   \n",
       "274943     49     360                             1   \n",
       "499430     51     430                             0   \n",
       "400322      6     200                             0   \n",
       "382595     51     480                             0   \n",
       "...       ...     ...                           ...   \n",
       "194278      1     620                             1   \n",
       "192476     14     660                             0   \n",
       "17730      36     310                             1   \n",
       "28030      49     720                             0   \n",
       "277869     19     500                             0   \n",
       "\n",
       "        OutpatientAnnualDeductibleAmt  Age  DiagnosisCode_Num  \\\n",
       "364824                              0    0                  1   \n",
       "274943                              0    0                  6   \n",
       "499430                              0    0                  1   \n",
       "400322                              0    0                  2   \n",
       "382595                              0    0                  3   \n",
       "...                               ...  ...                ...   \n",
       "194278                              1   67                  5   \n",
       "192476                              0   87                  8   \n",
       "17730                               0   69                 10   \n",
       "28030                               0   76                  3   \n",
       "277869                              0    0                  3   \n",
       "\n",
       "        ProcedureCode_Num  ChronicDisease_Num  PhysiciansNum  \\\n",
       "364824                  0                   4              1   \n",
       "274943                  1                   8              2   \n",
       "499430                  0                  10              1   \n",
       "400322                  0                  10              1   \n",
       "382595                  0                  10              2   \n",
       "...                   ...                 ...            ...   \n",
       "194278                  0                   8              2   \n",
       "192476                  0                   4              2   \n",
       "17730                   1                   8              2   \n",
       "28030                   0                   8              1   \n",
       "277869                  0                   9              1   \n",
       "\n",
       "        AdmitDiagnosInDiagnos  FullYearPlanA  FullYearPlanB  Is_Dead  \n",
       "364824                  False           True           True    False  \n",
       "274943                  False           True           True    False  \n",
       "499430                  False           True           True    False  \n",
       "400322                  False           True           True    False  \n",
       "382595                  False           True           True    False  \n",
       "...                       ...            ...            ...      ...  \n",
       "194278                  False           True           True    False  \n",
       "192476                  False           True           True    False  \n",
       "17730                   False           True           True    False  \n",
       "28030                   False           True           True    False  \n",
       "277869                  False           True           True    False  \n",
       "\n",
       "[390747 rows x 18 columns]"
      ]
     },
     "execution_count": 113,
     "metadata": {},
     "output_type": "execute_result"
    }
   ],
   "source": [
    "X_train_new"
   ]
  },
  {
   "cell_type": "code",
   "execution_count": 114,
   "metadata": {},
   "outputs": [
    {
     "ename": "KeyError",
     "evalue": "0",
     "output_type": "error",
     "traceback": [
      "\u001b[0;31m---------------------------------------------------------------------------\u001b[0m",
      "\u001b[0;31mKeyError\u001b[0m                                  Traceback (most recent call last)",
      "\u001b[0;32m/usr/local/lib/python3.8/site-packages/pandas/core/indexes/base.py\u001b[0m in \u001b[0;36mget_loc\u001b[0;34m(self, key, method, tolerance)\u001b[0m\n\u001b[1;32m   2890\u001b[0m             \u001b[0;32mtry\u001b[0m\u001b[0;34m:\u001b[0m\u001b[0;34m\u001b[0m\u001b[0;34m\u001b[0m\u001b[0m\n\u001b[0;32m-> 2891\u001b[0;31m                 \u001b[0;32mreturn\u001b[0m \u001b[0mself\u001b[0m\u001b[0;34m.\u001b[0m\u001b[0m_engine\u001b[0m\u001b[0;34m.\u001b[0m\u001b[0mget_loc\u001b[0m\u001b[0;34m(\u001b[0m\u001b[0mcasted_key\u001b[0m\u001b[0;34m)\u001b[0m\u001b[0;34m\u001b[0m\u001b[0;34m\u001b[0m\u001b[0m\n\u001b[0m\u001b[1;32m   2892\u001b[0m             \u001b[0;32mexcept\u001b[0m \u001b[0mKeyError\u001b[0m \u001b[0;32mas\u001b[0m \u001b[0merr\u001b[0m\u001b[0;34m:\u001b[0m\u001b[0;34m\u001b[0m\u001b[0;34m\u001b[0m\u001b[0m\n",
      "\u001b[0;32mpandas/_libs/index.pyx\u001b[0m in \u001b[0;36mpandas._libs.index.IndexEngine.get_loc\u001b[0;34m()\u001b[0m\n",
      "\u001b[0;32mpandas/_libs/index.pyx\u001b[0m in \u001b[0;36mpandas._libs.index.IndexEngine.get_loc\u001b[0;34m()\u001b[0m\n",
      "\u001b[0;32mpandas/_libs/hashtable_class_helper.pxi\u001b[0m in \u001b[0;36mpandas._libs.hashtable.PyObjectHashTable.get_item\u001b[0;34m()\u001b[0m\n",
      "\u001b[0;32mpandas/_libs/hashtable_class_helper.pxi\u001b[0m in \u001b[0;36mpandas._libs.hashtable.PyObjectHashTable.get_item\u001b[0;34m()\u001b[0m\n",
      "\u001b[0;31mKeyError\u001b[0m: 0",
      "\nThe above exception was the direct cause of the following exception:\n",
      "\u001b[0;31mKeyError\u001b[0m                                  Traceback (most recent call last)",
      "\u001b[0;32m<ipython-input-114-fbaa3351bc14>\u001b[0m in \u001b[0;36m<module>\u001b[0;34m\u001b[0m\n\u001b[0;32m----> 1\u001b[0;31m \u001b[0mmodel_2\u001b[0m\u001b[0;34m.\u001b[0m\u001b[0mpredict\u001b[0m\u001b[0;34m(\u001b[0m\u001b[0mxgb\u001b[0m\u001b[0;34m.\u001b[0m\u001b[0mDMatrix\u001b[0m\u001b[0;34m(\u001b[0m\u001b[0mX_train_new\u001b[0m\u001b[0;34m[\u001b[0m\u001b[0;36m0\u001b[0m\u001b[0;34m]\u001b[0m\u001b[0;34m)\u001b[0m\u001b[0;34m)\u001b[0m\u001b[0;34m\u001b[0m\u001b[0;34m\u001b[0m\u001b[0m\n\u001b[0m",
      "\u001b[0;32m/usr/local/lib/python3.8/site-packages/pandas/core/frame.py\u001b[0m in \u001b[0;36m__getitem__\u001b[0;34m(self, key)\u001b[0m\n\u001b[1;32m   2900\u001b[0m             \u001b[0;32mif\u001b[0m \u001b[0mself\u001b[0m\u001b[0;34m.\u001b[0m\u001b[0mcolumns\u001b[0m\u001b[0;34m.\u001b[0m\u001b[0mnlevels\u001b[0m \u001b[0;34m>\u001b[0m \u001b[0;36m1\u001b[0m\u001b[0;34m:\u001b[0m\u001b[0;34m\u001b[0m\u001b[0;34m\u001b[0m\u001b[0m\n\u001b[1;32m   2901\u001b[0m                 \u001b[0;32mreturn\u001b[0m \u001b[0mself\u001b[0m\u001b[0;34m.\u001b[0m\u001b[0m_getitem_multilevel\u001b[0m\u001b[0;34m(\u001b[0m\u001b[0mkey\u001b[0m\u001b[0;34m)\u001b[0m\u001b[0;34m\u001b[0m\u001b[0;34m\u001b[0m\u001b[0m\n\u001b[0;32m-> 2902\u001b[0;31m             \u001b[0mindexer\u001b[0m \u001b[0;34m=\u001b[0m \u001b[0mself\u001b[0m\u001b[0;34m.\u001b[0m\u001b[0mcolumns\u001b[0m\u001b[0;34m.\u001b[0m\u001b[0mget_loc\u001b[0m\u001b[0;34m(\u001b[0m\u001b[0mkey\u001b[0m\u001b[0;34m)\u001b[0m\u001b[0;34m\u001b[0m\u001b[0;34m\u001b[0m\u001b[0m\n\u001b[0m\u001b[1;32m   2903\u001b[0m             \u001b[0;32mif\u001b[0m \u001b[0mis_integer\u001b[0m\u001b[0;34m(\u001b[0m\u001b[0mindexer\u001b[0m\u001b[0;34m)\u001b[0m\u001b[0;34m:\u001b[0m\u001b[0;34m\u001b[0m\u001b[0;34m\u001b[0m\u001b[0m\n\u001b[1;32m   2904\u001b[0m                 \u001b[0mindexer\u001b[0m \u001b[0;34m=\u001b[0m \u001b[0;34m[\u001b[0m\u001b[0mindexer\u001b[0m\u001b[0;34m]\u001b[0m\u001b[0;34m\u001b[0m\u001b[0;34m\u001b[0m\u001b[0m\n",
      "\u001b[0;32m/usr/local/lib/python3.8/site-packages/pandas/core/indexes/base.py\u001b[0m in \u001b[0;36mget_loc\u001b[0;34m(self, key, method, tolerance)\u001b[0m\n\u001b[1;32m   2891\u001b[0m                 \u001b[0;32mreturn\u001b[0m \u001b[0mself\u001b[0m\u001b[0;34m.\u001b[0m\u001b[0m_engine\u001b[0m\u001b[0;34m.\u001b[0m\u001b[0mget_loc\u001b[0m\u001b[0;34m(\u001b[0m\u001b[0mcasted_key\u001b[0m\u001b[0;34m)\u001b[0m\u001b[0;34m\u001b[0m\u001b[0;34m\u001b[0m\u001b[0m\n\u001b[1;32m   2892\u001b[0m             \u001b[0;32mexcept\u001b[0m \u001b[0mKeyError\u001b[0m \u001b[0;32mas\u001b[0m \u001b[0merr\u001b[0m\u001b[0;34m:\u001b[0m\u001b[0;34m\u001b[0m\u001b[0;34m\u001b[0m\u001b[0m\n\u001b[0;32m-> 2893\u001b[0;31m                 \u001b[0;32mraise\u001b[0m \u001b[0mKeyError\u001b[0m\u001b[0;34m(\u001b[0m\u001b[0mkey\u001b[0m\u001b[0;34m)\u001b[0m \u001b[0;32mfrom\u001b[0m \u001b[0merr\u001b[0m\u001b[0;34m\u001b[0m\u001b[0;34m\u001b[0m\u001b[0m\n\u001b[0m\u001b[1;32m   2894\u001b[0m \u001b[0;34m\u001b[0m\u001b[0m\n\u001b[1;32m   2895\u001b[0m         \u001b[0;32mif\u001b[0m \u001b[0mtolerance\u001b[0m \u001b[0;32mis\u001b[0m \u001b[0;32mnot\u001b[0m \u001b[0;32mNone\u001b[0m\u001b[0;34m:\u001b[0m\u001b[0;34m\u001b[0m\u001b[0;34m\u001b[0m\u001b[0m\n",
      "\u001b[0;31mKeyError\u001b[0m: 0"
     ]
    }
   ],
   "source": [
    "model_2.predict(xgb.DMatrix(X_train_new[0]))"
   ]
  },
  {
   "cell_type": "code",
   "execution_count": 128,
   "metadata": {},
   "outputs": [
    {
     "ename": "ValueError",
     "evalue": "('Expecting 2 dimensional numpy.ndarray, got: ', (18,))",
     "output_type": "error",
     "traceback": [
      "\u001b[0;31m---------------------------------------------------------------------------\u001b[0m",
      "\u001b[0;31mValueError\u001b[0m                                Traceback (most recent call last)",
      "\u001b[0;32m<ipython-input-128-8377122cda93>\u001b[0m in \u001b[0;36m<module>\u001b[0;34m\u001b[0m\n\u001b[0;32m----> 1\u001b[0;31m \u001b[0mmodel_2\u001b[0m\u001b[0;34m.\u001b[0m\u001b[0mpredict\u001b[0m\u001b[0;34m(\u001b[0m\u001b[0mxgb\u001b[0m\u001b[0;34m.\u001b[0m\u001b[0mDMatrix\u001b[0m\u001b[0;34m(\u001b[0m\u001b[0mX\u001b[0m\u001b[0;34m[\u001b[0m\u001b[0;36m0\u001b[0m\u001b[0;34m]\u001b[0m\u001b[0;34m)\u001b[0m\u001b[0;34m)\u001b[0m\u001b[0;34m\u001b[0m\u001b[0;34m\u001b[0m\u001b[0m\n\u001b[0m",
      "\u001b[0;32m/usr/local/lib/python3.8/site-packages/xgboost/core.py\u001b[0m in \u001b[0;36m__init__\u001b[0;34m(self, data, label, weight, base_margin, missing, silent, feature_names, feature_types, nthread)\u001b[0m\n\u001b[1;32m    432\u001b[0m \u001b[0;34m\u001b[0m\u001b[0m\n\u001b[1;32m    433\u001b[0m         \u001b[0;32mfrom\u001b[0m \u001b[0;34m.\u001b[0m\u001b[0mdata\u001b[0m \u001b[0;32mimport\u001b[0m \u001b[0mdispatch_data_backend\u001b[0m\u001b[0;34m\u001b[0m\u001b[0;34m\u001b[0m\u001b[0m\n\u001b[0;32m--> 434\u001b[0;31m         handle, feature_names, feature_types = dispatch_data_backend(\n\u001b[0m\u001b[1;32m    435\u001b[0m             \u001b[0mdata\u001b[0m\u001b[0;34m,\u001b[0m \u001b[0mmissing\u001b[0m\u001b[0;34m=\u001b[0m\u001b[0mself\u001b[0m\u001b[0;34m.\u001b[0m\u001b[0mmissing\u001b[0m\u001b[0;34m,\u001b[0m\u001b[0;34m\u001b[0m\u001b[0;34m\u001b[0m\u001b[0m\n\u001b[1;32m    436\u001b[0m             \u001b[0mthreads\u001b[0m\u001b[0;34m=\u001b[0m\u001b[0mself\u001b[0m\u001b[0;34m.\u001b[0m\u001b[0mnthread\u001b[0m\u001b[0;34m,\u001b[0m\u001b[0;34m\u001b[0m\u001b[0;34m\u001b[0m\u001b[0m\n",
      "\u001b[0;32m/usr/local/lib/python3.8/site-packages/xgboost/data.py\u001b[0m in \u001b[0;36mdispatch_data_backend\u001b[0;34m(data, missing, threads, feature_names, feature_types)\u001b[0m\n\u001b[1;32m    492\u001b[0m         \u001b[0;32mreturn\u001b[0m \u001b[0m_from_scipy_csc\u001b[0m\u001b[0;34m(\u001b[0m\u001b[0mdata\u001b[0m\u001b[0;34m,\u001b[0m \u001b[0mmissing\u001b[0m\u001b[0;34m,\u001b[0m \u001b[0mfeature_names\u001b[0m\u001b[0;34m,\u001b[0m \u001b[0mfeature_types\u001b[0m\u001b[0;34m)\u001b[0m\u001b[0;34m\u001b[0m\u001b[0;34m\u001b[0m\u001b[0m\n\u001b[1;32m    493\u001b[0m     \u001b[0;32mif\u001b[0m \u001b[0m_is_numpy_array\u001b[0m\u001b[0;34m(\u001b[0m\u001b[0mdata\u001b[0m\u001b[0;34m)\u001b[0m\u001b[0;34m:\u001b[0m\u001b[0;34m\u001b[0m\u001b[0;34m\u001b[0m\u001b[0m\n\u001b[0;32m--> 494\u001b[0;31m         return _from_numpy_array(data, missing, threads, feature_names,\n\u001b[0m\u001b[1;32m    495\u001b[0m                                  feature_types)\n\u001b[1;32m    496\u001b[0m     \u001b[0;32mif\u001b[0m \u001b[0m_is_uri\u001b[0m\u001b[0;34m(\u001b[0m\u001b[0mdata\u001b[0m\u001b[0;34m)\u001b[0m\u001b[0;34m:\u001b[0m\u001b[0;34m\u001b[0m\u001b[0;34m\u001b[0m\u001b[0m\n",
      "\u001b[0;32m/usr/local/lib/python3.8/site-packages/xgboost/data.py\u001b[0m in \u001b[0;36m_from_numpy_array\u001b[0;34m(data, missing, nthread, feature_names, feature_types)\u001b[0m\n\u001b[1;32m    133\u001b[0m \u001b[0;34m\u001b[0m\u001b[0m\n\u001b[1;32m    134\u001b[0m     \"\"\"\n\u001b[0;32m--> 135\u001b[0;31m     \u001b[0mflatten\u001b[0m \u001b[0;34m=\u001b[0m \u001b[0m_transform_np_array\u001b[0m\u001b[0;34m(\u001b[0m\u001b[0mdata\u001b[0m\u001b[0;34m)\u001b[0m\u001b[0;34m\u001b[0m\u001b[0;34m\u001b[0m\u001b[0m\n\u001b[0m\u001b[1;32m    136\u001b[0m     \u001b[0mhandle\u001b[0m \u001b[0;34m=\u001b[0m \u001b[0mctypes\u001b[0m\u001b[0;34m.\u001b[0m\u001b[0mc_void_p\u001b[0m\u001b[0;34m(\u001b[0m\u001b[0;34m)\u001b[0m\u001b[0;34m\u001b[0m\u001b[0;34m\u001b[0m\u001b[0m\n\u001b[1;32m    137\u001b[0m     _check_call(_LIB.XGDMatrixCreateFromMat_omp(\n",
      "\u001b[0;32m/usr/local/lib/python3.8/site-packages/xgboost/data.py\u001b[0m in \u001b[0;36m_transform_np_array\u001b[0;34m(data)\u001b[0m\n\u001b[1;32m    108\u001b[0m         \u001b[0mdata\u001b[0m \u001b[0;34m=\u001b[0m \u001b[0mnp\u001b[0m\u001b[0;34m.\u001b[0m\u001b[0marray\u001b[0m\u001b[0;34m(\u001b[0m\u001b[0mdata\u001b[0m\u001b[0;34m,\u001b[0m \u001b[0mcopy\u001b[0m\u001b[0;34m=\u001b[0m\u001b[0;32mFalse\u001b[0m\u001b[0;34m)\u001b[0m\u001b[0;34m\u001b[0m\u001b[0;34m\u001b[0m\u001b[0m\n\u001b[1;32m    109\u001b[0m     \u001b[0;32mif\u001b[0m \u001b[0mlen\u001b[0m\u001b[0;34m(\u001b[0m\u001b[0mdata\u001b[0m\u001b[0;34m.\u001b[0m\u001b[0mshape\u001b[0m\u001b[0;34m)\u001b[0m \u001b[0;34m!=\u001b[0m \u001b[0;36m2\u001b[0m\u001b[0;34m:\u001b[0m\u001b[0;34m\u001b[0m\u001b[0;34m\u001b[0m\u001b[0m\n\u001b[0;32m--> 110\u001b[0;31m         raise ValueError('Expecting 2 dimensional numpy.ndarray, got: ',\n\u001b[0m\u001b[1;32m    111\u001b[0m                          data.shape)\n\u001b[1;32m    112\u001b[0m     \u001b[0;31m# flatten the array by rows and ensure it is float32.  we try to avoid\u001b[0m\u001b[0;34m\u001b[0m\u001b[0;34m\u001b[0m\u001b[0;34m\u001b[0m\u001b[0m\n",
      "\u001b[0;31mValueError\u001b[0m: ('Expecting 2 dimensional numpy.ndarray, got: ', (18,))"
     ]
    }
   ],
   "source": [
    "model_2.predict(xgb.DMatrix(X[0]))"
   ]
  },
  {
   "cell_type": "code",
   "execution_count": 126,
   "metadata": {},
   "outputs": [],
   "source": [
    "X = np.array(X_train_new)"
   ]
  },
  {
   "cell_type": "code",
   "execution_count": 130,
   "metadata": {},
   "outputs": [
    {
     "data": {
      "text/plain": [
       "array([60, 0, 0, 1, 0, 25, 40, 1, 0, 0, 1, 0, 4, 1, False, True, True,\n",
       "       False], dtype=object)"
      ]
     },
     "execution_count": 130,
     "metadata": {},
     "output_type": "execute_result"
    }
   ],
   "source": [
    "X[0]"
   ]
  },
  {
   "cell_type": "code",
   "execution_count": 123,
   "metadata": {},
   "outputs": [
    {
     "data": {
      "text/plain": [
       "{'AmtReimbursed': {364824: 60},\n",
       " 'DeductibleAmt': {364824: 0},\n",
       " 'Is_inpatient': {364824: 0},\n",
       " 'Gender': {364824: 1},\n",
       " 'RenalDisease': {364824: 0},\n",
       " 'State': {364824: 25},\n",
       " 'County': {364824: 40},\n",
       " 'InpatientAnnualDeductibleAmt': {364824: 1},\n",
       " 'OutpatientAnnualDeductibleAmt': {364824: 0},\n",
       " 'Age': {364824: 0},\n",
       " 'DiagnosisCode_Num': {364824: 1},\n",
       " 'ProcedureCode_Num': {364824: 0},\n",
       " 'ChronicDisease_Num': {364824: 4},\n",
       " 'PhysiciansNum': {364824: 1},\n",
       " 'AdmitDiagnosInDiagnos': {364824: False},\n",
       " 'FullYearPlanA': {364824: True},\n",
       " 'FullYearPlanB': {364824: True},\n",
       " 'Is_Dead': {364824: False}}"
      ]
     },
     "execution_count": 123,
     "metadata": {},
     "output_type": "execute_result"
    }
   ],
   "source": [
    "X_train_new[:1].to_dict()"
   ]
  },
  {
   "cell_type": "code",
   "execution_count": 131,
   "metadata": {},
   "outputs": [
    {
     "data": {
      "text/plain": [
       "-1    0.618789\n",
       " 0    0.329739\n",
       " 1    0.051472\n",
       "Name: lof, dtype: float64"
      ]
     },
     "execution_count": 131,
     "metadata": {},
     "output_type": "execute_result"
    }
   ],
   "source": [
    "df['lof'].value_counts(normalize=True)"
   ]
  },
  {
   "cell_type": "code",
   "execution_count": 132,
   "metadata": {},
   "outputs": [
    {
     "data": {
      "text/plain": [
       "0.381211"
      ]
     },
     "execution_count": 132,
     "metadata": {},
     "output_type": "execute_result"
    }
   ],
   "source": [
    "0.329739 + 0.051472"
   ]
  },
  {
   "cell_type": "code",
   "execution_count": null,
   "metadata": {},
   "outputs": [],
   "source": []
  }
 ],
 "metadata": {
  "kernelspec": {
   "display_name": "Python 3.8.5 64-bit",
   "language": "python",
   "name": "python38564bit27c2c10e68134d42af8384e6691c1adc"
  },
  "language_info": {
   "codemirror_mode": {
    "name": "ipython",
    "version": 3
   },
   "file_extension": ".py",
   "mimetype": "text/x-python",
   "name": "python",
   "nbconvert_exporter": "python",
   "pygments_lexer": "ipython3",
   "version": "3.8.5"
  }
 },
 "nbformat": 4,
 "nbformat_minor": 2
}
