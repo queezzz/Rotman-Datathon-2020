{
 "cells": [
  {
   "cell_type": "code",
   "execution_count": 1,
   "metadata": {},
   "outputs": [],
   "source": [
    "import pandas as pd\n",
    "import numpy as np"
   ]
  },
  {
   "cell_type": "code",
   "execution_count": 2,
   "metadata": {},
   "outputs": [],
   "source": [
    "phys = pd.read_csv('../cleaned_data/phys_final.csv')"
   ]
  },
  {
   "cell_type": "code",
   "execution_count": 3,
   "metadata": {},
   "outputs": [],
   "source": [
    "final = pd.read_csv('../web_app/morbid_final.csv')"
   ]
  },
  {
   "cell_type": "code",
   "execution_count": 7,
   "metadata": {
    "scrolled": true
   },
   "outputs": [],
   "source": [
    "df = pd.merge(phys, final[['CID','AmtReimbursed']], on='CID')"
   ]
  },
  {
   "cell_type": "code",
   "execution_count": 9,
   "metadata": {},
   "outputs": [],
   "source": [
    "df.to_csv('../cleaned_data/phys_new.csv', index=False)"
   ]
  },
  {
   "cell_type": "code",
   "execution_count": 11,
   "metadata": {},
   "outputs": [],
   "source": [
    "benef = pd.read_csv('../cleaned_data/benef_new_label.csv')"
   ]
  },
  {
   "cell_type": "code",
   "execution_count": 13,
   "metadata": {},
   "outputs": [
    {
     "data": {
      "text/plain": [
       "2    323114\n",
       "1    235097\n",
       "Name: Gender, dtype: int64"
      ]
     },
     "execution_count": 13,
     "metadata": {},
     "output_type": "execute_result"
    }
   ],
   "source": [
    "final['Gender'].value_counts()"
   ]
  },
  {
   "cell_type": "code",
   "execution_count": 29,
   "metadata": {},
   "outputs": [
    {
     "data": {
      "text/html": [
       "<div>\n",
       "<style scoped>\n",
       "    .dataframe tbody tr th:only-of-type {\n",
       "        vertical-align: middle;\n",
       "    }\n",
       "\n",
       "    .dataframe tbody tr th {\n",
       "        vertical-align: top;\n",
       "    }\n",
       "\n",
       "    .dataframe thead th {\n",
       "        text-align: right;\n",
       "    }\n",
       "</style>\n",
       "<table border=\"1\" class=\"dataframe\">\n",
       "  <thead>\n",
       "    <tr style=\"text-align: right;\">\n",
       "      <th></th>\n",
       "      <th>Fraud</th>\n",
       "    </tr>\n",
       "    <tr>\n",
       "      <th>AttendingPhysician</th>\n",
       "      <th></th>\n",
       "    </tr>\n",
       "  </thead>\n",
       "  <tbody>\n",
       "    <tr>\n",
       "      <th>PHY311001</th>\n",
       "      <td>0</td>\n",
       "    </tr>\n",
       "    <tr>\n",
       "      <th>PHY387235</th>\n",
       "      <td>0</td>\n",
       "    </tr>\n",
       "    <tr>\n",
       "      <th>PHY387236</th>\n",
       "      <td>0</td>\n",
       "    </tr>\n",
       "    <tr>\n",
       "      <th>PHY387239</th>\n",
       "      <td>0</td>\n",
       "    </tr>\n",
       "    <tr>\n",
       "      <th>PHY387241</th>\n",
       "      <td>0</td>\n",
       "    </tr>\n",
       "    <tr>\n",
       "      <th>...</th>\n",
       "      <td>...</td>\n",
       "    </tr>\n",
       "    <tr>\n",
       "      <th>PHY314027</th>\n",
       "      <td>1200</td>\n",
       "    </tr>\n",
       "    <tr>\n",
       "      <th>PHY423534</th>\n",
       "      <td>1223</td>\n",
       "    </tr>\n",
       "    <tr>\n",
       "      <th>PHY412132</th>\n",
       "      <td>1321</td>\n",
       "    </tr>\n",
       "    <tr>\n",
       "      <th>PHY350277</th>\n",
       "      <td>1628</td>\n",
       "    </tr>\n",
       "    <tr>\n",
       "      <th>PHY330576</th>\n",
       "      <td>2534</td>\n",
       "    </tr>\n",
       "  </tbody>\n",
       "</table>\n",
       "<p>82063 rows × 1 columns</p>\n",
       "</div>"
      ],
      "text/plain": [
       "                    Fraud\n",
       "AttendingPhysician       \n",
       "PHY311001               0\n",
       "PHY387235               0\n",
       "PHY387236               0\n",
       "PHY387239               0\n",
       "PHY387241               0\n",
       "...                   ...\n",
       "PHY314027            1200\n",
       "PHY423534            1223\n",
       "PHY412132            1321\n",
       "PHY350277            1628\n",
       "PHY330576            2534\n",
       "\n",
       "[82063 rows x 1 columns]"
      ]
     },
     "execution_count": 29,
     "metadata": {},
     "output_type": "execute_result"
    }
   ],
   "source": [
    "phys.groupby(['AttendingPhysician']).agg([['Fraud']].sum().sort_values(by='Fraud')"
   ]
  },
  {
   "cell_type": "code",
   "execution_count": 12,
   "metadata": {},
   "outputs": [
    {
     "name": "stdout",
     "output_type": "stream",
     "text": [
      "<class 'pandas.core.frame.DataFrame'>\n",
      "RangeIndex: 138556 entries, 0 to 138555\n",
      "Data columns (total 26 columns):\n",
      " #   Column                       Non-Null Count   Dtype \n",
      "---  ------                       --------------   ----- \n",
      " 0   BID                          138556 non-null  object\n",
      " 1   Gender                       138556 non-null  int64 \n",
      " 2   Is_inpatient                 138556 non-null  int64 \n",
      " 3   Age                          138556 non-null  int64 \n",
      " 4   Race                         138556 non-null  int64 \n",
      " 5   State                        138556 non-null  int64 \n",
      " 6   County                       138556 non-null  int64 \n",
      " 7   Chronic_Alzheimer            138556 non-null  int64 \n",
      " 8   Chronic_Heartfailure         138556 non-null  int64 \n",
      " 9   Chronic_KidneyDisease        138556 non-null  int64 \n",
      " 10  Chronic_Cancer               138556 non-null  int64 \n",
      " 11  Chronic_ObstrPulmonary       138556 non-null  int64 \n",
      " 12  Chronic_Depression           138556 non-null  int64 \n",
      " 13  Chronic_Diabetes             138556 non-null  int64 \n",
      " 14  Chronic_IschemicHeart        138556 non-null  int64 \n",
      " 15  Chronic_Osteoporasis         138556 non-null  int64 \n",
      " 16  Chronic_rheumatoidarthritis  138556 non-null  int64 \n",
      " 17  Chronic_stroke               138556 non-null  int64 \n",
      " 18  RenalDisease                 138556 non-null  int64 \n",
      " 19  FullYearPlanA                138556 non-null  bool  \n",
      " 20  FullYearPlanB                138556 non-null  bool  \n",
      " 21  ChronicDisease_Num           138556 non-null  int64 \n",
      " 22  NumOfClaims                  138556 non-null  int64 \n",
      " 23  NumOfNonFraud                138556 non-null  int64 \n",
      " 24  NumOfPotentialFraud          138556 non-null  int64 \n",
      " 25  NumOfRealFraud               138556 non-null  int64 \n",
      "dtypes: bool(2), int64(23), object(1)\n",
      "memory usage: 25.6+ MB\n"
     ]
    }
   ],
   "source": [
    "benef.info()"
   ]
  },
  {
   "cell_type": "code",
   "execution_count": 14,
   "metadata": {},
   "outputs": [
    {
     "data": {
      "text/plain": [
       "0    369267\n",
       "1    188944\n",
       "Name: InpatientAnnualDeductibleAmt, dtype: int64"
      ]
     },
     "execution_count": 14,
     "metadata": {},
     "output_type": "execute_result"
    }
   ],
   "source": [
    "final['InpatientAnnualDeductibleAmt'].value_counts()"
   ]
  },
  {
   "cell_type": "code",
   "execution_count": 18,
   "metadata": {},
   "outputs": [
    {
     "data": {
      "text/plain": [
       "7     83461\n",
       "6     82698\n",
       "5     76516\n",
       "8     72362\n",
       "4     60175\n",
       "9     60015\n",
       "10    41330\n",
       "3     37887\n",
       "11    21893\n",
       "2     17222\n",
       "1      4190\n",
       "0       462\n",
       "Name: ChronicDisease_Num, dtype: int64"
      ]
     },
     "execution_count": 18,
     "metadata": {},
     "output_type": "execute_result"
    }
   ],
   "source": [
    "final['ChronicDisease_Num'].value_counts()"
   ]
  },
  {
   "cell_type": "code",
   "execution_count": 19,
   "metadata": {},
   "outputs": [
    {
     "data": {
      "text/plain": [
       "1     185153\n",
       "2     119550\n",
       "3      78519\n",
       "4      52612\n",
       "9      36805\n",
       "5      27532\n",
       "6      18215\n",
       "7      12733\n",
       "8      11629\n",
       "0      10453\n",
       "10      5010\n",
       "Name: DiagnosisCode_Num, dtype: int64"
      ]
     },
     "execution_count": 19,
     "metadata": {},
     "output_type": "execute_result"
    }
   ],
   "source": [
    "final['DiagnosisCode_Num'].value_counts()"
   ]
  },
  {
   "cell_type": "code",
   "execution_count": 20,
   "metadata": {},
   "outputs": [
    {
     "data": {
      "text/plain": [
       "0    534901\n",
       "1     17820\n",
       "2      4521\n",
       "3       851\n",
       "4       109\n",
       "5         9\n",
       "Name: ProcedureCode_Num, dtype: int64"
      ]
     },
     "execution_count": 20,
     "metadata": {},
     "output_type": "execute_result"
    }
   ],
   "source": [
    "final['ProcedureCode_Num'].value_counts()"
   ]
  },
  {
   "cell_type": "code",
   "execution_count": 21,
   "metadata": {},
   "outputs": [
    {
     "data": {
      "text/plain": [
       "-1    345415\n",
       " 0    184064\n",
       " 1     28732\n",
       "Name: lof, dtype: int64"
      ]
     },
     "execution_count": 21,
     "metadata": {},
     "output_type": "execute_result"
    }
   ],
   "source": [
    "final['lof'].describeue_counts()"
   ]
  },
  {
   "cell_type": "code",
   "execution_count": 22,
   "metadata": {},
   "outputs": [
    {
     "data": {
      "text/plain": [
       "5     51350\n",
       "10    39073\n",
       "33    35024\n",
       "45    34022\n",
       "14    24417\n",
       "39    24251\n",
       "23    21343\n",
       "36    21291\n",
       "34    18905\n",
       "11    17003\n",
       "31    15940\n",
       "49    14997\n",
       "44    14418\n",
       "15    14213\n",
       "22    13624\n",
       "26    12911\n",
       "50    11740\n",
       "21    11261\n",
       "42    10491\n",
       "18    10322\n",
       "1     10240\n",
       "52     9792\n",
       "3      9344\n",
       "19     7917\n",
       "24     7726\n",
       "4      7571\n",
       "16     7457\n",
       "6      7200\n",
       "37     6990\n",
       "25     6682\n",
       "7      5617\n",
       "38     5518\n",
       "17     4884\n",
       "51     4644\n",
       "54     4233\n",
       "28     4168\n",
       "20     3833\n",
       "32     3456\n",
       "46     3381\n",
       "13     2765\n",
       "30     2654\n",
       "43     2002\n",
       "27     1995\n",
       "29     1978\n",
       "47     1827\n",
       "12     1706\n",
       "8      1530\n",
       "41     1110\n",
       "53     1098\n",
       "35      940\n",
       "2       738\n",
       "9       619\n",
       "Name: State, dtype: int64"
      ]
     },
     "execution_count": 22,
     "metadata": {},
     "output_type": "execute_result"
    }
   ],
   "source": [
    "final['State'].value_counts()"
   ]
  },
  {
   "cell_type": "code",
   "execution_count": null,
   "metadata": {},
   "outputs": [],
   "source": []
  }
 ],
 "metadata": {
  "kernelspec": {
   "display_name": "Python 3.8.5 64-bit",
   "language": "python",
   "name": "python38564bit27c2c10e68134d42af8384e6691c1adc"
  },
  "language_info": {
   "codemirror_mode": {
    "name": "ipython",
    "version": 3
   },
   "file_extension": ".py",
   "mimetype": "text/x-python",
   "name": "python",
   "nbconvert_exporter": "python",
   "pygments_lexer": "ipython3",
   "version": "3.8.5"
  }
 },
 "nbformat": 4,
 "nbformat_minor": 2
}
